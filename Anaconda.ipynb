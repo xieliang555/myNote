{
 "cells": [
  {
   "cell_type": "markdown",
   "metadata": {
    "toc": true
   },
   "source": [
    "<h1>Table of Contents<span class=\"tocSkip\"></span></h1>\n",
    "<div class=\"toc\"><ul class=\"toc-item\"><li><span><a href=\"#快速打开notebook\" data-toc-modified-id=\"快速打开notebook-1\"><span class=\"toc-item-num\">1&nbsp;&nbsp;</span>快速打开notebook</a></span></li><li><span><a href=\"#CMD\" data-toc-modified-id=\"CMD-2\"><span class=\"toc-item-num\">2&nbsp;&nbsp;</span>CMD</a></span></li><li><span><a href=\"#Mirror-Source\" data-toc-modified-id=\"Mirror-Source-3\"><span class=\"toc-item-num\">3&nbsp;&nbsp;</span>Mirror Source</a></span><ul class=\"toc-item\"><li><span><a href=\"#添加源(永久)\" data-toc-modified-id=\"添加源(永久)-3.1\"><span class=\"toc-item-num\">3.1&nbsp;&nbsp;</span>添加源(永久)</a></span><ul class=\"toc-item\"><li><span><a href=\"#conda\" data-toc-modified-id=\"conda-3.1.1\"><span class=\"toc-item-num\">3.1.1&nbsp;&nbsp;</span>conda</a></span></li><li><span><a href=\"#pip\" data-toc-modified-id=\"pip-3.1.2\"><span class=\"toc-item-num\">3.1.2&nbsp;&nbsp;</span>pip</a></span></li></ul></li><li><span><a href=\"#删除源\" data-toc-modified-id=\"删除源-3.2\"><span class=\"toc-item-num\">3.2&nbsp;&nbsp;</span>删除源</a></span></li><li><span><a href=\"#查看cofig\" data-toc-modified-id=\"查看cofig-3.3\"><span class=\"toc-item-num\">3.3&nbsp;&nbsp;</span>查看cofig</a></span></li></ul></li><li><span><a href=\"#Jupyter-Notebook\" data-toc-modified-id=\"Jupyter-Notebook-4\"><span class=\"toc-item-num\">4&nbsp;&nbsp;</span>Jupyter Notebook</a></span><ul class=\"toc-item\"><li><span><a href=\"#添加目录及代码补全,高亮显示\" data-toc-modified-id=\"添加目录及代码补全,高亮显示-4.1\"><span class=\"toc-item-num\">4.1&nbsp;&nbsp;</span>添加目录及代码补全,高亮显示</a></span></li><li><span><a href=\"#Code\" data-toc-modified-id=\"Code-4.2\"><span class=\"toc-item-num\">4.2&nbsp;&nbsp;</span>Code</a></span></li><li><span><a href=\"#Markdown\" data-toc-modified-id=\"Markdown-4.3\"><span class=\"toc-item-num\">4.3&nbsp;&nbsp;</span>Markdown</a></span><ul class=\"toc-item\"><li><span><a href=\"#插入图片\" data-toc-modified-id=\"插入图片-4.3.1\"><span class=\"toc-item-num\">4.3.1&nbsp;&nbsp;</span>插入图片</a></span></li><li><span><a href=\"#插入公式\" data-toc-modified-id=\"插入公式-4.3.2\"><span class=\"toc-item-num\">4.3.2&nbsp;&nbsp;</span>插入公式</a></span></li><li><span><a href=\"#插入超链接\" data-toc-modified-id=\"插入超链接-4.3.3\"><span class=\"toc-item-num\">4.3.3&nbsp;&nbsp;</span>插入超链接</a></span></li></ul></li><li><span><a href=\"#将虚拟环境导入jupyter-notebook\" data-toc-modified-id=\"将虚拟环境导入jupyter-notebook-4.4\"><span class=\"toc-item-num\">4.4&nbsp;&nbsp;</span>将虚拟环境导入jupyter notebook</a></span></li><li><span><a href=\"#快捷键\" data-toc-modified-id=\"快捷键-4.5\"><span class=\"toc-item-num\">4.5&nbsp;&nbsp;</span>快捷键</a></span></li><li><span><a href=\"#显示md文件\" data-toc-modified-id=\"显示md文件-4.6\"><span class=\"toc-item-num\">4.6&nbsp;&nbsp;</span>显示md文件</a></span></li><li><span><a href=\"#运行计时\" data-toc-modified-id=\"运行计时-4.7\"><span class=\"toc-item-num\">4.7&nbsp;&nbsp;</span>运行计时</a></span></li><li><span><a href=\"#在远端服务器上运行Jupyter笔记本\" data-toc-modified-id=\"在远端服务器上运行Jupyter笔记本-4.8\"><span class=\"toc-item-num\">4.8&nbsp;&nbsp;</span>在远端服务器上运行Jupyter笔记本</a></span></li></ul></li></ul></div>"
   ]
  },
  {
   "cell_type": "markdown",
   "metadata": {},
   "source": [
    "# 快速打开notebook\n",
    "- 打开notebook所在目录\n",
    "- shift+右键 该目录\n",
    "- 选择“在此处打开Powershell窗口”"
   ]
  },
  {
   "cell_type": "markdown",
   "metadata": {},
   "source": [
    "# CMD\n",
    "- 查询conda版本 conda -V\n",
    "- 创建新的环境 conda create -n env_name python=3.6\n",
    "- 激活版本 source activate env_name\n",
    "- 关闭虚拟环境 source deactivate\n",
    "- 查询安装库文件 conda list\n",
    "- 查询虚拟环境 conda env list\n",
    "- 删除虚拟环境 conda remove -n env_name --all\n",
    "- 删除环境中的包 conda remove --name env_name package_name\n",
    "- 为jupyter notebook增加目录Table of Contents(2) conda install -c conda-forge jupyter_contrib_nbextensions\n",
    "- 退出程序（python）qiut()\n",
    "- 清屏 clear/command + k\n",
    "- 更新 pip install --upgrade software (conda安装的不能用于pip更新)"
   ]
  },
  {
   "cell_type": "markdown",
   "metadata": {},
   "source": [
    "# Mirror Source\n",
    "## 添加源(永久)\n",
    "### conda\n",
    "conda config --add channels 'https://mirrors.tuna.tsinghua.edu.cn/anaconda/pkgs/free/'  \n",
    "conda config --set show_channel_urls yes  \n",
    "### pip\n",
    "进入根目录： cd ~/  \n",
    "新建文件夹：mkdir .pip  \n",
    "进入该文件夹，新建文件： vi pip.conf  \n",
    "编辑文件，写入：   \n",
    "[global]  \n",
    "index-url = http://mirrors.aliyun.com/pypi/simple/  \n",
    "[install]  \n",
    "trusted-host=mirrors.aliyun.com  \n",
    "保存文件并退出： esc->:wq  \n",
    "查看隐藏文件： command+shift+.  \n",
    "\n",
    "## 删除源\n",
    "conda config --remove channels 'https://mirrors.tuna.tsinghua.edu.cn/anaconda/pkgs/free/' \n",
    "## 查看cofig\n",
    "conda config --show"
   ]
  },
  {
   "cell_type": "markdown",
   "metadata": {},
   "source": [
    "# Jupyter Notebook\n",
    "## 添加目录及代码补全,高亮显示\n",
    "pip install jupyter_contrib_nbextensions    \n",
    "jupyter contrib nbextension install --user  \n",
    "重启  \n",
    "选择 Nbextensions，在笔记本菜单栏中点击table of contents图标会出现content    \n",
    "勾选 Table of Contents  \n",
    "勾选Hinterland\n",
    "勾选Highlight selected word"
   ]
  },
  {
   "cell_type": "markdown",
   "metadata": {},
   "source": [
    "## Code"
   ]
  },
  {
   "cell_type": "code",
   "execution_count": 4,
   "metadata": {},
   "outputs": [
    {
     "name": "stderr",
     "output_type": "stream",
     "text": [
      "Python 3.6.2 :: Anaconda custom (64-bit)\n"
     ]
    }
   ],
   "source": [
    "!python --version"
   ]
  },
  {
   "cell_type": "markdown",
   "metadata": {},
   "source": [
    "## Markdown\n",
    "\n",
    "### 插入图片\n",
    "![title](img/example)\n",
    "<img src=\"img/example\" \"width=50%\"/>  \n",
    "注意要加后缀\n",
    "\n",
    "### 插入公式\n",
    "- 内联：$y=x+1$  \n",
    "- 另起一行：$$y=x+1$$\n",
    "- 上标：$x^2$ , $x^{2n}$\n",
    "- 下标：$y_t$ , $y_{t+1}$\n",
    "- 特殊符号： $\\Pi$ , $\\pi$ , $\\gamma$ , $\\mathcal{P}$ , $\\mathbb{E}$\n",
    "\n",
    "### 插入超链接\n",
    "[百度](https://www.baidu.com/)"
   ]
  },
  {
   "cell_type": "markdown",
   "metadata": {},
   "source": [
    "## 将虚拟环境导入jupyter notebook\n",
    "conda install -n env_name ipykernel  \n",
    "python -m ipykernel install --user"
   ]
  },
  {
   "cell_type": "markdown",
   "metadata": {
    "collapsed": true
   },
   "source": [
    "## 快捷键\n",
    "Command模式（ESC）   \n",
    "- Enter : 转入编辑模式  \n",
    "- Shift-Enter : 运行本单元，选中下个单元  \n",
    "- Ctrl-Enter : 运行本单元  \n",
    "- Alt-Enter : 运行本单元，在其下插入新单元  \n",
    "- Y : 单元转入代码状态  \n",
    "- M :单元转入markdown状态  \n",
    "- R : 单元转入raw状态  \n",
    "- 1 : 设定 1 级标题  \n",
    "- 2 : 设定 2 级标题  \n",
    "- 3 : 设定 3 级标题   \n",
    "- ctrl+S : 文件存盘  \n",
    "- l : 显示行号  \n",
    "- dd: 删除cell\n",
    "\n",
    "Edit模式（Enter）  \n",
    "- Tab 代码补全或缩进  \n",
    "- ctrl+s: 存盘  "
   ]
  },
  {
   "cell_type": "markdown",
   "metadata": {},
   "source": [
    "## 显示md文件"
   ]
  },
  {
   "cell_type": "markdown",
   "metadata": {},
   "source": [
    "安装pip install https://github.com/aaren/notedown/tarball/master  \n",
    "生成配置文件jupyter_notebook_config.py（如果没有的话）jupyter notebook --generate-config   \n",
    "配置文件路径 ~/.jupyter/jupyter_notebook_config.py  \n",
    "打开配置文件，在末尾添加 c.NotebookApp.contents_manager_class = ‘notedown.NotedownContentsManager’"
   ]
  },
  {
   "cell_type": "markdown",
   "metadata": {},
   "source": [
    "## 运行计时"
   ]
  },
  {
   "cell_type": "markdown",
   "metadata": {},
   "source": [
    "pip install jupyter_contrib_nbextensions  \n",
    "jupyter contrib nbextension install --user  \n",
    "jupyter nbextension enable execute_time/ExecuteTime"
   ]
  },
  {
   "cell_type": "markdown",
   "metadata": {},
   "source": [
    "## 在远端服务器上运行Jupyter笔记本"
   ]
  },
  {
   "cell_type": "markdown",
   "metadata": {},
   "source": [
    "在macOS或Linux上可以使用端口映射：  \n",
    "ssh myserver -L 8888:localhost:8888  \n",
    "以上myserver是远端服务器地址。然后我们可以使用 http://localhost:8888 打开运行Jupyter笔记本的远端服务器myserver  \n",
    "https://github.com/diveintodeeplearning/d2l-zh/blob/master/chapter_appendix/aws.md"
   ]
  },
  {
   "cell_type": "code",
   "execution_count": null,
   "metadata": {},
   "outputs": [],
   "source": []
  }
 ],
 "metadata": {
  "kernelspec": {
   "display_name": "Python [default]",
   "language": "python",
   "name": "python3"
  },
  "language_info": {
   "codemirror_mode": {
    "name": "ipython",
    "version": 3
   },
   "file_extension": ".py",
   "mimetype": "text/x-python",
   "name": "python",
   "nbconvert_exporter": "python",
   "pygments_lexer": "ipython3",
   "version": "3.6.5"
  },
  "toc": {
   "base_numbering": 1,
   "nav_menu": {},
   "number_sections": true,
   "sideBar": true,
   "skip_h1_title": false,
   "title_cell": "Table of Contents",
   "title_sidebar": "Contents",
   "toc_cell": true,
   "toc_position": {
    "height": "calc(100% - 180px)",
    "left": "10px",
    "top": "150px",
    "width": "273px"
   },
   "toc_section_display": true,
   "toc_window_display": true
  }
 },
 "nbformat": 4,
 "nbformat_minor": 2
}
