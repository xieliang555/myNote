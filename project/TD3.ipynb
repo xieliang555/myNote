{
 "cells": [
  {
   "cell_type": "code",
   "execution_count": 2,
   "metadata": {
    "ExecuteTime": {
     "end_time": "2019-06-10T00:08:03.566133Z",
     "start_time": "2019-06-10T00:08:03.406407Z"
    }
   },
   "outputs": [],
   "source": [
    "import numpy as np\n",
    "\n",
    "# class Space:\n",
    "#     def __init__(self,shape,high):\n",
    "#         self.shape\n",
    "#         self.high\n",
    "        \n",
    "#     def sample(self):"
   ]
  },
  {
   "cell_type": "code",
   "execution_count": null,
   "metadata": {},
   "outputs": [],
   "source": [
    "class PowerAllocation:\n",
    "    def __init__(self,init_pow,init_soc,max_action):\n",
    "        self.init_pow=init_pow\n",
    "        self.init_soc=init_soc\n",
    "        self.max_pow\n",
    "        self.min_pow\n",
    "        self.max_soc\n",
    "        self.min_soc\n",
    "        self.max_action=max_action\n",
    "        self.observation_space\n",
    "        self.action_space\n",
    "        \n",
    "    \n",
    "    def reset(self):\n",
    "        self.state=np.array([init_pow,init_soc])\n",
    "        return normalize(init_pow,init_soc)\n",
    "        \n",
    "        \n",
    "    def step(self,action):\n",
    "        action=np.clip(action,-max_action,max_action)[0]\n",
    "        \n",
    "    \n",
    "    def normalize(power,soc):\n",
    "        \"\"\"\n",
    "        normalizing to [-1,1]\n",
    "        \"\"\"\n",
    "        return np.array([(2*power-self.max_pow-self.min_pow)/(self.max_pow+self.min_pow),\n",
    "                         (2*soc-self.max_soc-self.min_soc)/(self.max_soc+self.min_soc)])\n",
    "        \n",
    "        \n",
    "        \n",
    "        \n",
    "        \n",
    "        "
   ]
  },
  {
   "cell_type": "code",
   "execution_count": null,
   "metadata": {},
   "outputs": [],
   "source": []
  }
 ],
 "metadata": {
  "kernelspec": {
   "display_name": "Python [conda env:rl]",
   "language": "python",
   "name": "conda-env-rl-py"
  },
  "language_info": {
   "codemirror_mode": {
    "name": "ipython",
    "version": 3
   },
   "file_extension": ".py",
   "mimetype": "text/x-python",
   "name": "python",
   "nbconvert_exporter": "python",
   "pygments_lexer": "ipython3",
   "version": "3.6.2"
  },
  "toc": {
   "base_numbering": 1,
   "nav_menu": {},
   "number_sections": true,
   "sideBar": true,
   "skip_h1_title": false,
   "title_cell": "Table of Contents",
   "title_sidebar": "Contents",
   "toc_cell": false,
   "toc_position": {},
   "toc_section_display": true,
   "toc_window_display": false
  }
 },
 "nbformat": 4,
 "nbformat_minor": 2
}
