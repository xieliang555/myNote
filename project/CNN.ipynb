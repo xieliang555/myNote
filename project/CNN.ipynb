{
 "cells": [
  {
   "cell_type": "markdown",
   "metadata": {
    "nbpresent": {
     "id": "32ec36cb-be68-416a-9722-4ccf92fa88f4"
    }
   },
   "source": [
    "# Data"
   ]
  },
  {
   "cell_type": "markdown",
   "metadata": {
    "nbpresent": {
     "id": "28fed3bc-5766-4dea-aae7-3df801de2bb1"
    }
   },
   "source": [
    "## data transform"
   ]
  },
  {
   "cell_type": "code",
   "execution_count": 2,
   "metadata": {
    "ExecuteTime": {
     "end_time": "2019-06-24T13:31:30.613695Z",
     "start_time": "2019-06-24T13:31:27.226620Z"
    },
    "nbpresent": {
     "id": "4038cfb1-6e89-40d9-b542-1a1a36bc1f86"
    }
   },
   "outputs": [],
   "source": [
    "import scipy.io as sio\n",
    "import matplotlib.pyplot as plt\n",
    "import numpy as np\n",
    "from PIL import Image\n",
    "import tensorflow as tf\n",
    "\n",
    "# import data\n",
    "trainspeed=sio.loadmat('../data/transpeed')['transpeed'][0:4612].flatten()\n",
    "trainclass=sio.loadmat('../data/trainclass')['trainclass'][0:4612].flatten()\n",
    "testspeed=sio.loadmat('../data/testspeed')['cyc_mph1'][0:4479].flatten()\n",
    "testclass=sio.loadmat('../data/testclass')['testcyc'][0:4479].flatten()\n",
    "\n",
    "realspeed=np.reshape(sio.loadmat('../data/realspeed.mat')['a'],[-1])\n",
    "# print(realspeed.shape)\n",
    "# plt.figure()\n",
    "# plt.plot(realspeed)\n",
    "\n",
    "\n",
    "# hyperparameters\n",
    "WIDTH=200\n",
    "STEP=10\n",
    "# BATCH=10\n",
    "\n",
    "\n",
    "trainspeed_1=trainspeed[np.argwhere(trainclass==1).flatten()]\n",
    "trainspeed_2=trainspeed[np.argwhere(trainclass==2).flatten()]\n",
    "trainspeed_3=trainspeed[np.argwhere(trainclass==3).flatten()]\n",
    "trainspeed_4=trainspeed[np.argwhere(trainclass==4).flatten()]\n",
    "testspeed_1=trainspeed[np.argwhere(testclass==1).flatten()]\n",
    "testspeed_2=trainspeed[np.argwhere(testclass==2).flatten()]\n",
    "testspeed_3=trainspeed[np.argwhere(testclass==3).flatten()]\n",
    "testspeed_4=trainspeed[np.argwhere(testclass==4).flatten()]\n",
    "\n",
    "trainNum_1=int((trainspeed_1.size-WIDTH)/STEP)+1\n",
    "trainNum_2=int((trainspeed_2.size-WIDTH)/STEP)+1\n",
    "trainNum_3=int((trainspeed_3.size-WIDTH)/STEP)+1\n",
    "trainNum_4=int((trainspeed_4.size-WIDTH)/STEP)+1\n",
    "testNum_1=int((testspeed_1.size-WIDTH)/STEP)+1\n",
    "testNum_2=int((testspeed_2.size-WIDTH)/STEP)+1\n",
    "testNum_3=int((testspeed_3.size-WIDTH)/STEP)+1\n",
    "testNum_4=int((testspeed_4.size-WIDTH)/STEP)+1\n",
    "realNum=int((realspeed.size-WIDTH)/STEP)+1\n",
    "\n",
    "trainset_1=np.zeros([trainNum_1,WIDTH,WIDTH])\n",
    "trainset_2=np.zeros([trainNum_2,WIDTH,WIDTH])\n",
    "trainset_3=np.zeros([trainNum_3,WIDTH,WIDTH])\n",
    "trainset_4=np.zeros([trainNum_4,WIDTH,WIDTH])\n",
    "testset_1=np.zeros([testNum_1,WIDTH,WIDTH])\n",
    "testset_2=np.zeros([testNum_2,WIDTH,WIDTH])\n",
    "testset_3=np.zeros([testNum_3,WIDTH,WIDTH])\n",
    "testset_4=np.zeros([testNum_4,WIDTH,WIDTH])\n",
    "realset=np.zeros([realNum,WIDTH,WIDTH])\n",
    "\n",
    "for i in range(trainNum_1):\n",
    "    trainset_1[i,(trainspeed_1[i*STEP:i*STEP+WIDTH].astype(int)),range(WIDTH)]=1\n",
    "for i in range(trainNum_2):\n",
    "    trainset_2[i,(trainspeed_2[i*STEP:i*STEP+WIDTH].astype(int)),range(WIDTH)]=1\n",
    "for i in range(trainNum_3):\n",
    "    trainset_3[i,(trainspeed_3[i*STEP:i*STEP+WIDTH].astype(int)),range(WIDTH)]=1\n",
    "for i in range(trainNum_4):\n",
    "    trainset_4[i,(trainspeed_4[i*STEP:i*STEP+WIDTH].astype(int)),range(WIDTH)]=1\n",
    "for i in range(testNum_1):\n",
    "    testset_1[i,(testspeed_1[i*STEP:i*STEP+WIDTH].astype(int)),range(WIDTH)]=1\n",
    "for i in range(testNum_2):\n",
    "    testset_2[i,(testspeed_2[i*STEP:i*STEP+WIDTH].astype(int)),range(WIDTH)]=1\n",
    "for i in range(testNum_3):\n",
    "    testset_3[i,(testspeed_3[i*STEP:i*STEP+WIDTH].astype(int)),range(WIDTH)]=1\n",
    "for i in range(testNum_4):\n",
    "    testset_4[i,(testspeed_4[i*STEP:i*STEP+WIDTH].astype(int)),range(WIDTH)]=1\n",
    "for i in range(realNum):\n",
    "    realset[i,(realspeed[i*STEP:i*STEP+WIDTH].astype(int)),range(WIDTH)]=1\n",
    "\n",
    "trainset=np.concatenate((trainset_1,trainset_2,trainset_3,trainset_4),axis=0)\n",
    "testset=np.concatenate((testset_1,testset_2,testset_3,testset_4),axis=0)\n",
    "trainclass=np.concatenate((np.ones(trainset_1.shape[0]),2*np.ones(trainset_2.shape[0]),\n",
    "                           3*np.ones(trainset_3.shape[0]),4*np.ones(trainset_4.shape[0])),axis=0)\n",
    "testclass=np.concatenate((np.ones(testset_1.shape[0]),2*np.ones(testset_2.shape[0]),\n",
    "                           3*np.ones(testset_3.shape[0]),4*np.ones(testset_4.shape[0])),axis=0)"
   ]
  },
  {
   "cell_type": "code",
   "execution_count": 3,
   "metadata": {
    "ExecuteTime": {
     "end_time": "2019-06-24T13:31:30.626712Z",
     "start_time": "2019-06-24T13:31:30.619859Z"
    },
    "nbpresent": {
     "id": "b5149530-2993-4e7a-846a-8e58dbcfcbca"
    }
   },
   "outputs": [],
   "source": [
    "# a=np.array([1,2,3,4])\n",
    "# print(np.eye(4)[a-1])\n",
    "# print(trainset_1.shape)\n",
    "# print(trainset_2.shape)\n",
    "# print(trainset_3.shape)\n",
    "# print(trainset_4.shape)\n",
    "# print(testset_1.shape)\n",
    "# print(testset_2.shape)\n",
    "# print(testset_3.shape)\n",
    "# print(testset_4.shape)\n",
    "# print(trainset.shape)\n",
    "# print(testset.shape)\n",
    "# print(trainclass.shape)\n",
    "# print(testclass.shape)\n",
    "\n",
    "# plt.figure(1)\n",
    "# img = Image.fromarray(testset[0].astype('uint8')).convert('L')\n",
    "# plt.imshow(img,cmap='gray',origin='lower')\n",
    "# plt.figure(1_1)\n",
    "# plt.plot(testspeed_1[:200])\n",
    "# plt.xlim(0,200)\n",
    "# plt.ylim(0,200)\n",
    "\n",
    "# plt.figure(2)\n",
    "# img = Image.fromarray(testset[1].astype('uint8')).convert('L')\n",
    "# plt.imshow(img,cmap='gray',origin='lower')\n",
    "# plt.figure(2_1)\n",
    "# plt.plot(testspeed_1[10:210])\n",
    "# plt.xlim(0,200)\n",
    "# plt.ylim(0,200)\n",
    "\n",
    "# plt.figure(1)\n",
    "# as1=plt.subplot(3,1,1)\n",
    "# plt.plot(trainspeed_1)\n",
    "# plt.xlim(0,4612)\n",
    "# ax2=plt.subplot(3,1,2)\n",
    "# plt.plot(trainspeed_2)\n",
    "# plt.xlim(0,4612)\n",
    "# ax3=plt.subplot(3,1,3)\n",
    "# plt.plot(trainspeed_3)\n",
    "# plt.xlim(0,4612)\n",
    "\n",
    "# plt.figure(2)\n",
    "# plt.plot(trainspeed)\n",
    "\n",
    "# plt.figure(3)\n",
    "# as1=plt.subplot(3,1,1)\n",
    "# plt.plot(testspeed_1)\n",
    "# plt.xlim(0,4479)\n",
    "# ax2=plt.subplot(3,1,2)\n",
    "# plt.plot(testspeed_2)\n",
    "# plt.xlim(0,4479)\n",
    "# ax3=plt.subplot(3,1,3)\n",
    "# plt.plot(testspeed_3)\n",
    "# plt.xlim(0,4479)\n",
    "\n",
    "# plt.figure(4)\n",
    "# plt.plot(testspeed)"
   ]
  },
  {
   "cell_type": "markdown",
   "metadata": {
    "nbpresent": {
     "id": "acd6da4f-be15-41e2-9765-7d0c89521b47"
    }
   },
   "source": [
    "## data pooling"
   ]
  },
  {
   "cell_type": "code",
   "execution_count": 4,
   "metadata": {
    "ExecuteTime": {
     "end_time": "2019-06-24T13:31:40.295349Z",
     "start_time": "2019-06-24T13:31:32.210114Z"
    },
    "nbpresent": {
     "id": "81f84037-86d9-4512-a294-fa8ed0f0be97"
    }
   },
   "outputs": [],
   "source": [
    "# hyperparameters\n",
    "STRIDE=5  # stride越小曲线越平滑\n",
    "FILTER=5  # filter越大曲线越粗\n",
    "\n",
    "# initialization\n",
    "trainNum=trainclass.size\n",
    "testNum=testclass.size\n",
    "WIDTH_=int((WIDTH-FILTER)/STRIDE)+1\n",
    "trainset_=np.zeros([trainNum,WIDTH_,WIDTH_])\n",
    "testset_=np.zeros([testNum,WIDTH_,WIDTH_])\n",
    "realset_=np.zeros([realNum,WIDTH_,WIDTH_])\n",
    "\n",
    "for k in range(trainNum):\n",
    "    for i in range(WIDTH_):\n",
    "        for j in range(WIDTH_):\n",
    "            trainset_[k,i,j]=np.max(trainset[k,i*STRIDE:i*STRIDE+FILTER,j*STRIDE:j*STRIDE+FILTER])\n",
    "            \n",
    "for k in range(testNum):\n",
    "    for i in range(WIDTH_):\n",
    "        for j in range(WIDTH_):\n",
    "            testset_[k,i,j]=np.max(testset[k,i*STRIDE:i*STRIDE+FILTER,j*STRIDE:j*STRIDE+FILTER])\n",
    "            \n",
    "for k in range(realNum):\n",
    "    for i in range(WIDTH_):\n",
    "        for j in range(WIDTH_):\n",
    "            realset_[k,i,j]=np.max(realset[k,i*STRIDE:i*STRIDE+FILTER,j*STRIDE:j*STRIDE+FILTER])\n",
    "\n",
    "# one-hot code\n",
    "trainclass_=np.eye(4)[(trainclass).astype(int)-1]\n",
    "testclass_=np.eye(4)[(testclass).astype(int)-1]"
   ]
  },
  {
   "cell_type": "code",
   "execution_count": 5,
   "metadata": {
    "ExecuteTime": {
     "end_time": "2019-05-06T12:27:52.596472Z",
     "start_time": "2019-05-06T12:27:52.591766Z"
    }
   },
   "outputs": [
    {
     "name": "stdout",
     "output_type": "stream",
     "text": [
      "(384, 40, 40) (371, 40, 40) (477, 40, 40)\n"
     ]
    }
   ],
   "source": [
    "# # dataset shape\n",
    "# print(WIDTH_)\n",
    "# print(testNum)\n",
    "# a=testclass==1\n",
    "# b=testclass==2\n",
    "# c=testclass==3\n",
    "# d=testclass==4\n",
    "# print(testclass[a].shape,testclass[b].shape,testclass[c].shape,testclass[d].shape)\n",
    "\n",
    "# print(trainNum)\n",
    "# a=trainclass==1\n",
    "# b=trainclass==2\n",
    "# c=trainclass==3\n",
    "# d=trainclass==4\n",
    "# print(trainclass[a].shape,trainclass[b].shape,trainclass[c].shape,trainclass[d].shape)\n",
    "\n",
    "print(trainset_.shape,testset_.shape,realset_.shape)"
   ]
  },
  {
   "cell_type": "code",
   "execution_count": 48,
   "metadata": {
    "ExecuteTime": {
     "end_time": "2019-04-25T00:18:13.220412Z",
     "start_time": "2019-04-25T00:18:13.216477Z"
    },
    "nbpresent": {
     "id": "d4a6ac9e-8a0d-4c04-b910-070286661d31"
    }
   },
   "outputs": [],
   "source": [
    "# # sample visualization\n",
    "# plt.figure(1)\n",
    "# img = Image.fromarray(trainset_[0].astype('uint8')).convert('L')\n",
    "# plt.imshow(img,cmap='gray',origin='lower')\n",
    "# plt.figure(1_1)\n",
    "# plt.plot(testspeed_1[:200])\n",
    "# plt.xlim(0,200)\n",
    "# plt.ylim(0,200)\n",
    "\n",
    "# plt.figure(2)\n",
    "# img = Image.fromarray(trainset_[1].astype('uint8')).convert('L')\n",
    "# plt.imshow(img,cmap='gray',origin='lower')\n",
    "# plt.figure(2_1)\n",
    "# plt.plot(testspeed_1[10:210])\n",
    "# plt.xlim(0,200)\n",
    "# plt.ylim(0,200)\n",
    "\n",
    "# plt.figure(3)\n",
    "# img = Image.fromarray(testset_[0].astype('uint8')).convert('L')\n",
    "# plt.imshow(img,cmap='gray',origin='lower')\n",
    "# plt.figure(3_1)\n",
    "# plt.plot(testspeed_1[:200])\n",
    "# plt.xlim(0,200)\n",
    "# plt.ylim(0,200)\n",
    "\n",
    "# plt.figure(4)\n",
    "# img = Image.fromarray(testset_[1].astype('uint8')).convert('L')\n",
    "# plt.imshow(img,cmap='gray',origin='lower')\n",
    "# plt.figure(4_1)\n",
    "# plt.plot(testspeed_1[10:210])\n",
    "# plt.xlim(0,200)\n",
    "# plt.ylim(0,200)\n"
   ]
  },
  {
   "cell_type": "markdown",
   "metadata": {},
   "source": [
    "# CNN+KPCA"
   ]
  },
  {
   "cell_type": "markdown",
   "metadata": {
    "nbpresent": {
     "id": "f282164b-7c9b-4dde-ad0a-4fb29c958773"
    }
   },
   "source": [
    "## construct graph"
   ]
  },
  {
   "cell_type": "code",
   "execution_count": 50,
   "metadata": {
    "ExecuteTime": {
     "end_time": "2019-04-25T00:21:19.830430Z",
     "start_time": "2019-04-25T00:18:21.676898Z"
    },
    "nbpresent": {
     "id": "b68c9433-c737-4172-b58e-7481ee9bc3a6"
    }
   },
   "outputs": [
    {
     "name": "stdout",
     "output_type": "stream",
     "text": [
      "step 0, validation accuracy 0.05\n",
      "step 100, validation accuracy 0.7\n",
      "step 200, validation accuracy 1\n",
      "step 300, validation accuracy 1\n",
      "step 400, validation accuracy 0.95\n",
      "step 500, validation accuracy 1\n",
      "step 600, validation accuracy 1\n",
      "step 700, validation accuracy 1\n",
      "step 800, validation accuracy 1\n",
      "step 900, validation accuracy 1\n",
      "step 1000, validation accuracy 1\n",
      "step 1100, validation accuracy 1\n",
      "step 1200, validation accuracy 1\n",
      "step 1300, validation accuracy 1\n",
      "step 1400, validation accuracy 1\n",
      "step 1500, validation accuracy 1\n",
      "step 1600, validation accuracy 1\n",
      "step 1700, validation accuracy 1\n",
      "step 1800, validation accuracy 1\n",
      "step 1900, validation accuracy 1\n",
      "step 2000, validation accuracy 1\n",
      "step 2100, validation accuracy 1\n",
      "step 2200, validation accuracy 1\n",
      "step 2300, validation accuracy 1\n",
      "step 2400, validation accuracy 1\n",
      "step 2500, validation accuracy 1\n",
      "step 2600, validation accuracy 1\n",
      "step 2700, validation accuracy 1\n",
      "step 2800, validation accuracy 1\n",
      "step 2900, validation accuracy 1\n",
      "step 3000, validation accuracy 1\n",
      "step 3100, validation accuracy 1\n",
      "step 3200, validation accuracy 1\n",
      "step 3300, validation accuracy 1\n",
      "step 3400, validation accuracy 1\n",
      "step 3500, validation accuracy 1\n",
      "step 3600, validation accuracy 1\n",
      "step 3700, validation accuracy 1\n",
      "step 3800, validation accuracy 1\n",
      "step 3900, validation accuracy 1\n",
      "step 4000, validation accuracy 1\n",
      "step 4100, validation accuracy 1\n",
      "step 4200, validation accuracy 1\n",
      "step 4300, validation accuracy 1\n",
      "step 4400, validation accuracy 1\n",
      "step 4500, validation accuracy 1\n",
      "step 4600, validation accuracy 1\n",
      "step 4700, validation accuracy 1\n",
      "step 4800, validation accuracy 1\n",
      "step 4900, validation accuracy 1\n",
      "train accuracy 1\n",
      "test accuracy 0.962264\n"
     ]
    }
   ],
   "source": [
    "import os\n",
    "\n",
    "def ppp(lad,sig):\n",
    "    \n",
    "    keep_dimension=next(i for i,value in enumerate(lad) if value>=0.9)+1\n",
    "    sig[:,keep_dimension:]=0\n",
    "    return sig\n",
    "\n",
    "# hyperparameters\n",
    "# FILTER_WIDHER:5*5\n",
    "# FILTER_NUM1:16\n",
    "# FILTER_NUM2:32\n",
    "# keep_info: 0.9\n",
    "\n",
    "tf.reset_default_graph()\n",
    "tf.set_random_seed(2)\n",
    "\n",
    "x=tf.placeholder(\"float\",shape=[None,WIDTH_,WIDTH_],name=\"x\")\n",
    "y_=tf.placeholder(\"float\",shape=[None,4],name=\"y_\")\n",
    "BATCH=tf.placeholder(\"float\",name=\"BATCH\")\n",
    "\n",
    "x_image=tf.reshape(x,[-1,WIDTH_,WIDTH_,1])\n",
    "W_conv1=tf.Variable(tf.random_normal(shape=[5,5,1,16],mean=0,stddev=0.1))\n",
    "b_conv1=tf.Variable(tf.constant(0.1,shape=[16]))\n",
    "h_conv1=tf.nn.relu(tf.nn.conv2d(x_image,W_conv1,strides=[1,1,1,1],padding='SAME')+b_conv1)\n",
    "h_pool1=tf.nn.max_pool(h_conv1,ksize=[1,2,2,1],strides=[1,2,2,1],padding='SAME')\n",
    "\n",
    "W_conv2=tf.Variable(tf.random_normal(shape=[5,5,16,32],mean=0,stddev=0.1))\n",
    "b_conv2=tf.Variable(tf.constant(0.1,shape=[32]))\n",
    "h_conv2=tf.nn.relu(tf.nn.conv2d(h_pool1,W_conv2,strides=[1,1,1,1],padding='SAME')+b_conv2)\n",
    "h_pool2=tf.nn.max_pool(h_conv2,ksize=[1,2,2,1],strides=[1,2,2,1],padding='SAME')\n",
    "h_pool2_flat=tf.reshape(h_pool2,shape=([-1,int(WIDTH_*WIDTH_*32/4/4)]),name=\"h_pool2_flat\")\n",
    "\n",
    "W_fc1=tf.Variable(tf.random_normal(shape=[int(WIDTH_*WIDTH_*32/4/4),128],mean=0,stddev=0.1))\n",
    "b_fc1=tf.Variable(tf.constant(0.1,shape=[128]))\n",
    "h_fc1=tf.nn.relu(tf.matmul(h_pool2_flat,W_fc1)+b_fc1)\n",
    "\n",
    "keep_prob=tf.placeholder(\"float\",name=\"keep_prob\")\n",
    "h_fc1_drop=tf.nn.dropout(h_fc1,keep_prob)\n",
    "\n",
    "W_fc2=tf.Variable(tf.random_normal(shape=[128,4],mean=0,stddev=0.1))\n",
    "b_fc2=tf.Variable(tf.constant(0.1,shape=[4]))\n",
    "y_conv=tf.nn.softmax(tf.matmul(h_fc1_drop,W_fc2)+b_fc2)\n",
    "\n",
    "cross_entropy=-tf.reduce_sum(y_*tf.log(y_conv))\n",
    "# tf.summary.histogram(\"cross_entropy\",cross_entropy)\n",
    "train_step=tf.train.AdamOptimizer(1e-4).minimize(cross_entropy)\n",
    "correct_prediction=tf.equal(tf.argmax(y_,1),tf.argmax(y_conv,1))\n",
    "accuracy=tf.reduce_mean(tf.cast(correct_prediction,\"float\"),name=\"accuracy\")\n",
    "y_predict=tf.arg_max(y_conv,dimension=1)\n",
    "\n",
    "tf.summary.scalar(\"accuracy\",accuracy)\n",
    "writer = tf.summary.FileWriter(\"/Users/xieliang/tensorboard/log/\")\n",
    "summaries = tf.summary.merge_all()\n",
    "saver=tf.train.Saver(max_to_keep=1)\n",
    "\n",
    "with tf.Session() as sess:\n",
    "    sess.run(tf.global_variables_initializer())\n",
    "    np.random.seed(1)\n",
    "    for i in range(5000):\n",
    "        index=np.random.choice(trainNum,20,replace=False)\n",
    "        sample=trainset_[index]\n",
    "        label=trainclass_[index]\n",
    "        if i%100==0:\n",
    "            train_accuracy=accuracy.eval(feed_dict={x:sample,y_:label,keep_prob:1.0,BATCH:20})\n",
    "            print(\"step %d, validation accuracy %g\"%(i, train_accuracy))\n",
    "        summ,_=sess.run([summaries,train_step],feed_dict={x:sample,y_:label,keep_prob:0.5,BATCH:20})\n",
    "        writer.add_summary(summ,i)\n",
    "        \n",
    "    y_pre=y_predict.eval(feed_dict={x:realset_,keep_prob:1.0,BATCH:realNum})\n",
    "    print(\"train accuracy %g\"%accuracy.eval(feed_dict={\n",
    "        x: trainset_, y_: trainclass_, keep_prob: 1.0,BATCH:trainNum}))\n",
    "    print(\"test accuracy %g\"%accuracy.eval(feed_dict={\n",
    "        x: testset_, y_: testclass_, keep_prob: 1.0,BATCH:testNum}))\n",
    "    \n",
    "#     # save model\n",
    "#     saver.save(sess,'./model/cnn-model',write_meta_graph=True)\n",
    "#     print('model saved into'+' '+str(os.getcwd())+'/model/cnn-model')\n",
    "    \n",
    "    \n",
    "# numpy 产生one-hot用np.eye()\n",
    "# 随机数种子执行一次生成一个或一系列特定(与参数相关)的随机数\n",
    "# 根据索引批量获取数组元素：indexes=y==0, X[indexes]"
   ]
  },
  {
   "cell_type": "code",
   "execution_count": 1,
   "metadata": {
    "ExecuteTime": {
     "end_time": "2019-05-06T12:26:02.915319Z",
     "start_time": "2019-05-06T12:26:02.763315Z"
    }
   },
   "outputs": [
    {
     "ename": "NameError",
     "evalue": "name 'y_pre' is not defined",
     "output_type": "error",
     "traceback": [
      "\u001b[0;31m---------------------------------------------------------------------------\u001b[0m",
      "\u001b[0;31mNameError\u001b[0m                                 Traceback (most recent call last)",
      "\u001b[0;32m<ipython-input-1-2878f9202a32>\u001b[0m in \u001b[0;36m<module>\u001b[0;34m()\u001b[0m\n\u001b[1;32m      1\u001b[0m \u001b[0;31m# real speed test\u001b[0m\u001b[0;34m\u001b[0m\u001b[0;34m\u001b[0m\u001b[0;34m\u001b[0m\u001b[0m\n\u001b[0;32m----> 2\u001b[0;31m \u001b[0ma\u001b[0m\u001b[0;34m=\u001b[0m\u001b[0my_pre\u001b[0m\u001b[0;34m==\u001b[0m\u001b[0;36m1\u001b[0m\u001b[0;34m\u001b[0m\u001b[0;34m\u001b[0m\u001b[0m\n\u001b[0m\u001b[1;32m      3\u001b[0m \u001b[0mave\u001b[0m\u001b[0;34m=\u001b[0m\u001b[0my_pre\u001b[0m\u001b[0;34m[\u001b[0m\u001b[0ma\u001b[0m\u001b[0;34m]\u001b[0m\u001b[0;34m.\u001b[0m\u001b[0msize\u001b[0m\u001b[0;34m/\u001b[0m\u001b[0my_pre\u001b[0m\u001b[0;34m.\u001b[0m\u001b[0msize\u001b[0m\u001b[0;34m\u001b[0m\u001b[0;34m\u001b[0m\u001b[0m\n\u001b[1;32m      4\u001b[0m \u001b[0mprint\u001b[0m\u001b[0;34m(\u001b[0m\u001b[0my_pre\u001b[0m\u001b[0;34m[\u001b[0m\u001b[0ma\u001b[0m\u001b[0;34m]\u001b[0m\u001b[0;34m.\u001b[0m\u001b[0msize\u001b[0m\u001b[0;34m)\u001b[0m\u001b[0;34m\u001b[0m\u001b[0;34m\u001b[0m\u001b[0m\n\u001b[1;32m      5\u001b[0m \u001b[0mprint\u001b[0m\u001b[0;34m(\u001b[0m\u001b[0mave\u001b[0m\u001b[0;34m)\u001b[0m\u001b[0;34m\u001b[0m\u001b[0;34m\u001b[0m\u001b[0m\n",
      "\u001b[0;31mNameError\u001b[0m: name 'y_pre' is not defined"
     ]
    }
   ],
   "source": [
    "# real speed test\n",
    "a=y_pre==1\n",
    "ave=y_pre[a].size/y_pre.size\n",
    "# print(y_pre.size) 477\n",
    "print(ave)\n",
    "print(457/y_pre.size)\n",
    "plt.figure()\n",
    "print(y_pre)\n",
    "plt.plot(y_pre)"
   ]
  },
  {
   "cell_type": "markdown",
   "metadata": {
    "nbpresent": {
     "id": "db7b3709-4b66-4322-9bd0-8e9d93a4e6b7"
    }
   },
   "source": [
    "## reconstruct"
   ]
  },
  {
   "cell_type": "code",
   "execution_count": 6,
   "metadata": {
    "ExecuteTime": {
     "end_time": "2019-06-24T13:33:46.309718Z",
     "start_time": "2019-06-24T13:32:28.456856Z"
    }
   },
   "outputs": [
    {
     "name": "stdout",
     "output_type": "stream",
     "text": [
      "INFO:tensorflow:Restoring parameters from ./model/cnn-model\n"
     ]
    }
   ],
   "source": [
    "import tensorflow as tf\n",
    "import numpy as np\n",
    "from hyperopt import fmin, hp, Trials, tpe\n",
    "\n",
    "\n",
    "tf.reset_default_graph()\n",
    "graph=tf.get_default_graph()\n",
    "sess=tf.Session()\n",
    "# restore the former part of the model\n",
    "new_saver=tf.train.import_meta_graph(\"./model/cnn-model.meta\")\n",
    "new_saver.restore(sess,tf.train.latest_checkpoint(\"./model/\"))\n",
    "\n",
    "BATCH=graph.get_tensor_by_name(\"BATCH:0\")\n",
    "keep_prob=graph.get_tensor_by_name(\"keep_prob:0\")\n",
    "x=graph.get_tensor_by_name(\"x:0\")\n",
    "y_=graph.get_tensor_by_name(\"y_:0\")\n",
    "flat=graph.get_tensor_by_name(\"h_pool2_flat:0\")\n",
    "flat_input=tf.placeholder(dtype=\"float\")\n",
    "\n",
    "\n",
    "# obtain the principle components of the trainset_ and perform projection\n",
    "# using rbf kernel\n",
    "flat_tile=tf.tile(tf.expand_dims(flat,axis=0),multiples=[trainNum,1,1])\n",
    "norm_=tf.norm(flat_tile-tf.transpose(flat_tile,perm=[1,0,2]),axis=2)\n",
    "K_rbf=tf.exp(tf.cast(-1/tf.shape(flat)[1],dtype=tf.float32)*tf.square(norm_))\n",
    "N=1/trainNum*tf.ones(shape=[trainNum,trainNum])\n",
    "K_rbf_=K_rbf-tf.matmul(N,K_rbf)-tf.matmul(K_rbf,N)+tf.matmul(tf.matmul(N,K_rbf),N)\n",
    "val,vec=tf.self_adjoint_eig(K_rbf_)\n",
    "val=tf.reverse(val,axis=[0])\n",
    "vec=tf.reverse(vec,axis=[1])\n",
    "vec_=tf.multiply(1/tf.sqrt(val),vec)\n",
    "flat_train=tf.slice(tf.matmul(K_rbf_,vec_),[0,0],[-1,30])\n",
    "\n",
    "\n",
    "# calculate the kernel matrix between trainset_ and testset_ and perform projection\n",
    "train_flat=tf.placeholder(\"float\")\n",
    "test_flat=tf.placeholder(\"float\")\n",
    "test_flat_=tf.tile(tf.expand_dims(test_flat,axis=0),multiples=[trainNum,1,1])\n",
    "train_flat_=tf.tile(tf.expand_dims(train_flat,axis=0),multiples=[testNum,1,1])\n",
    "normal=tf.norm(train_flat_-tf.transpose(test_flat_,perm=[1,0,2]),axis=2)\n",
    "K_ab=tf.exp(tf.cast(-1/tf.shape(flat)[1],dtype=tf.float32)*tf.square(normal))\n",
    "train_1=1/trainNum*tf.ones(shape=[trainNum,trainNum])\n",
    "test_1=1/trainNum*tf.ones(shape=[testNum,trainNum])\n",
    "K_ab_=K_ab-tf.matmul(test_1,K_rbf)-tf.matmul(K_ab,train_1)+tf.matmul(tf.matmul(test_1,K_rbf),train_1)\n",
    "flat_test=tf.slice(tf.matmul(K_ab_,vec_),[0,0],[-1,30])\n",
    "\n",
    "input_train=sess.run(flat_train,feed_dict={x:trainset_})\n",
    "Train_flat=sess.run(flat,feed_dict={x:trainset_})\n",
    "Test_flat=sess.run(flat,feed_dict={x:testset_})\n",
    "input_test=sess.run(flat_test,feed_dict={x:trainset_,train_flat:Train_flat,test_flat:Test_flat})"
   ]
  },
  {
   "cell_type": "markdown",
   "metadata": {},
   "source": [
    "## AutoML"
   ]
  },
  {
   "cell_type": "code",
   "execution_count": 127,
   "metadata": {
    "ExecuteTime": {
     "end_time": "2019-03-25T08:48:36.579026Z",
     "start_time": "2019-03-25T08:20:36.926795Z"
    }
   },
   "outputs": [
    {
     "name": "stdout",
     "output_type": "stream",
     "text": [
      "epoch 1=====>lr: 0.0005270549573773794, n_hidden: 31, epoch: 2000, keep_prob: 0.7259362153153253, n_component: 6\n",
      "epoch 2=====>lr: 0.00012938714195438744, n_hidden: 55, epoch: 7000, keep_prob: 0.8784681114869628, n_component: 9\n",
      "epoch 3=====>lr: 0.003340117831671315, n_hidden: 84, epoch: 3000, keep_prob: 0.9978609733510091, n_component: 5\n",
      "epoch 4=====>lr: 0.0016888471672585489, n_hidden: 16, epoch: 3000, keep_prob: 0.6615135435834776, n_component: 4\n",
      "epoch 5=====>lr: 0.002820143307911687, n_hidden: 37, epoch: 5000, keep_prob: 0.42948490258096217, n_component: 9\n",
      "epoch 6=====>lr: 0.003938064738335, n_hidden: 33, epoch: 6000, keep_prob: 0.779269352917747, n_component: 9\n",
      "epoch 7=====>lr: 0.0001097692464294854, n_hidden: 75, epoch: 2000, keep_prob: 0.8046446948721846, n_component: 20\n",
      "epoch 8=====>lr: 0.00010723304462388233, n_hidden: 28, epoch: 1000, keep_prob: 0.5338795667433529, n_component: 17\n",
      "epoch 9=====>lr: 0.005151991366984606, n_hidden: 85, epoch: 4000, keep_prob: 0.40324934698442827, n_component: 9\n",
      "epoch 10=====>lr: 0.00886476045157187, n_hidden: 13, epoch: 3000, keep_prob: 0.7427609770231449, n_component: 10\n",
      "epoch 11=====>lr: 0.006464897139627327, n_hidden: 58, epoch: 5000, keep_prob: 0.9536898033848551, n_component: 5\n",
      "epoch 12=====>lr: 0.000648554704936637, n_hidden: 44, epoch: 7000, keep_prob: 0.5003618651252808, n_component: 10\n",
      "epoch 13=====>lr: 0.007229109532876003, n_hidden: 65, epoch: 1000, keep_prob: 0.26203350245575313, n_component: 12\n",
      "epoch 14=====>lr: 0.006415655391308809, n_hidden: 97, epoch: 6000, keep_prob: 0.8172389732677379, n_component: 3\n",
      "epoch 15=====>lr: 0.0004933622873891179, n_hidden: 42, epoch: 4000, keep_prob: 0.9897671421477152, n_component: 18\n",
      "epoch 16=====>lr: 0.006162228446685958, n_hidden: 69, epoch: 2000, keep_prob: 0.39151304620737576, n_component: 10\n",
      "epoch 17=====>lr: 0.00011480498433513987, n_hidden: 76, epoch: 3000, keep_prob: 0.4283563118175163, n_component: 15\n",
      "epoch 18=====>lr: 0.0007818726658064993, n_hidden: 18, epoch: 2000, keep_prob: 0.37550236070646625, n_component: 10\n",
      "epoch 19=====>lr: 0.00243346403900954, n_hidden: 52, epoch: 3000, keep_prob: 0.506396763949051, n_component: 10\n",
      "epoch 20=====>lr: 0.0001512753626891542, n_hidden: 62, epoch: 6000, keep_prob: 0.5867767024720121, n_component: 11\n",
      "epoch 21=====>lr: 0.00027068800631824193, n_hidden: 23, epoch: 2000, keep_prob: 0.25200347380270016, n_component: 7\n",
      "epoch 22=====>lr: 0.001022194512681717, n_hidden: 8, epoch: 1000, keep_prob: 0.6583220766630401, n_component: 14\n",
      "epoch 23=====>lr: 0.00030500014078974123, n_hidden: 22, epoch: 2000, keep_prob: 0.3068917783543199, n_component: 7\n",
      "epoch 24=====>lr: 0.0010616213483293838, n_hidden: 9, epoch: 1000, keep_prob: 0.7116517018853838, n_component: 7\n",
      "epoch 25=====>lr: 0.0005526483203723216, n_hidden: 46, epoch: 2000, keep_prob: 0.33843940499430697, n_component: 14\n",
      "epoch 26=====>lr: 0.0002608186846174648, n_hidden: 31, epoch: 1000, keep_prob: 0.9028357932139802, n_component: 13\n",
      "epoch 27=====>lr: 0.00164186219596101, n_hidden: 19, epoch: 2000, keep_prob: 0.21126004646784535, n_component: 6\n",
      "epoch 28=====>lr: 0.0003949820266247699, n_hidden: 25, epoch: 4000, keep_prob: 0.5918638637549003, n_component: 3\n",
      "epoch 29=====>lr: 0.00074774336465256, n_hidden: 38, epoch: 5000, keep_prob: 0.8556578443111565, n_component: 8\n",
      "epoch 30=====>lr: 0.0014674155233203644, n_hidden: 13, epoch: 3000, keep_prob: 0.6749955190767928, n_component: 12\n",
      "epoch 31=====>lr: 0.0002143178330963614, n_hidden: 49, epoch: 2000, keep_prob: 0.5570864708325209, n_component: 5\n",
      "epoch 32=====>lr: 0.0001619551075132367, n_hidden: 36, epoch: 1000, keep_prob: 0.471415152219971, n_component: 16\n",
      "epoch 33=====>lr: 0.00039351398641201637, n_hidden: 29, epoch: 3000, keep_prob: 0.6502794860890524, n_component: 4\n",
      "epoch 34=====>lr: 0.0007427577891606377, n_hidden: 17, epoch: 4000, keep_prob: 0.32516541502928464, n_component: 2\n",
      "epoch 35=====>lr: 0.0024650752690017984, n_hidden: 39, epoch: 3000, keep_prob: 0.20449366217667134, n_component: 6\n",
      "epoch 36=====>lr: 0.0018867063070335873, n_hidden: 14, epoch: 3000, keep_prob: 0.6321802240128962, n_component: 12\n",
      "epoch 37=====>lr: 0.0013525913534116964, n_hidden: 100, epoch: 5000, keep_prob: 0.45581961696577566, n_component: 18\n",
      "epoch 38=====>lr: 0.0036381453475643087, n_hidden: 9, epoch: 4000, keep_prob: 0.368766074462635, n_component: 12\n",
      "epoch 39=====>lr: 0.0022975823092153155, n_hidden: 13, epoch: 3000, keep_prob: 0.6147570632266779, n_component: 14\n",
      "epoch 40=====>lr: 0.0012851259887572484, n_hidden: 89, epoch: 2000, keep_prob: 0.7540323428495685, n_component: 8\n",
      "epoch 41=====>lr: 0.0018361370477068615, n_hidden: 33, epoch: 1000, keep_prob: 0.5495581770832485, n_component: 16\n",
      "epoch 42=====>lr: 0.004206352732877351, n_hidden: 55, epoch: 3000, keep_prob: 0.702682334520362, n_component: 11\n",
      "epoch 43=====>lr: 0.0008555522695398236, n_hidden: 26, epoch: 4000, keep_prob: 0.5126623027994415, n_component: 19\n",
      "epoch 44=====>lr: 0.008946035559397948, n_hidden: 19, epoch: 7000, keep_prob: 0.28060783305614057, n_component: 13\n",
      "epoch 45=====>lr: 0.0029359365341054193, n_hidden: 14, epoch: 5000, keep_prob: 0.7762582413453691, n_component: 9\n",
      "epoch 46=====>lr: 0.00483840829841635, n_hidden: 60, epoch: 3000, keep_prob: 0.6271675535501601, n_component: 13\n",
      "epoch 47=====>lr: 0.0011571436824100556, n_hidden: 79, epoch: 1000, keep_prob: 0.4615744880551639, n_component: 16\n",
      "epoch 48=====>lr: 0.0020730433393443604, n_hidden: 21, epoch: 2000, keep_prob: 0.36285772638397973, n_component: 8\n",
      "epoch 49=====>lr: 0.00048232425121973665, n_hidden: 69, epoch: 4000, keep_prob: 0.42180096228178154, n_component: 10\n",
      "epoch 50=====>lr: 0.003095109004715204, n_hidden: 35, epoch: 6000, keep_prob: 0.8820991065841077, n_component: 15\n",
      "epoch 51=====>lr: 0.0006466705369735652, n_hidden: 44, epoch: 3000, keep_prob: 0.5668418133024984, n_component: 20\n",
      "epoch 52=====>lr: 0.0009063184755057155, n_hidden: 49, epoch: 2000, keep_prob: 0.9564719564777144, n_component: 11\n",
      "epoch 53=====>lr: 0.0003925768280283355, n_hidden: 10, epoch: 1000, keep_prob: 0.8343868889175914, n_component: 15\n",
      "epoch 54=====>lr: 0.0018137956763388736, n_hidden: 41, epoch: 3000, keep_prob: 0.2351779484030603, n_component: 17\n",
      "epoch 55=====>lr: 0.00019287365437615882, n_hidden: 93, epoch: 5000, keep_prob: 0.5237346514283664, n_component: 12\n",
      "epoch 56=====>lr: 0.00543094988426785, n_hidden: 28, epoch: 2000, keep_prob: 0.48424072845571464, n_component: 10\n",
      "epoch 57=====>lr: 0.009690095044640046, n_hidden: 28, epoch: 2000, keep_prob: 0.691262409856864, n_component: 4\n",
      "epoch 58=====>lr: 0.000316445949685434, n_hidden: 65, epoch: 4000, keep_prob: 0.7372104744075487, n_component: 9\n",
      "epoch 59=====>lr: 0.007069922540161696, n_hidden: 52, epoch: 1000, keep_prob: 0.6304459069817225, n_component: 13\n",
      "epoch 60=====>lr: 0.005577125190260719, n_hidden: 31, epoch: 2000, keep_prob: 0.4916176470137132, n_component: 6\n",
      "epoch 61=====>lr: 0.004304055233803609, n_hidden: 16, epoch: 3000, keep_prob: 0.8013182901897384, n_component: 7\n",
      "epoch 62=====>lr: 0.008094976740283272, n_hidden: 24, epoch: 6000, keep_prob: 0.5904544991837671, n_component: 8\n",
      "epoch 63=====>lr: 0.0006097951252883948, n_hidden: 11, epoch: 4000, keep_prob: 0.39992010177604015, n_component: 5\n",
      "epoch 64=====>lr: 0.0007988418797835873, n_hidden: 83, epoch: 3000, keep_prob: 0.2826779337282221, n_component: 14\n",
      "epoch 65=====>lr: 0.004948900485385592, n_hidden: 56, epoch: 1000, keep_prob: 0.9185830489184168, n_component: 10\n",
      "epoch 66=====>lr: 0.001476900310978665, n_hidden: 19, epoch: 2000, keep_prob: 0.36857308187893706, n_component: 11\n",
      "epoch 67=====>lr: 0.0035938218761264185, n_hidden: 27, epoch: 2000, keep_prob: 0.4204533123123422, n_component: 9\n",
      "epoch 68=====>lr: 0.002712737600910911, n_hidden: 22, epoch: 2000, keep_prob: 0.48956652050481264, n_component: 12\n",
      "epoch 69=====>lr: 0.002579820974670179, n_hidden: 34, epoch: 2000, keep_prob: 0.49229860719169394, n_component: 12\n",
      "epoch 70=====>lr: 0.0010463355753178043, n_hidden: 15, epoch: 3000, keep_prob: 0.4436449321793827, n_component: 11\n",
      "epoch 71=====>lr: 0.002156598843033407, n_hidden: 30, epoch: 1000, keep_prob: 0.30075924877779603, n_component: 10\n",
      "epoch 72=====>lr: 0.0012220810826679537, n_hidden: 8, epoch: 1000, keep_prob: 0.34499730559995617, n_component: 9\n"
     ]
    },
    {
     "name": "stdout",
     "output_type": "stream",
     "text": [
      "epoch 73=====>lr: 0.003293684332230182, n_hidden: 21, epoch: 2000, keep_prob: 0.5691310037032085, n_component: 13\n",
      "epoch 74=====>lr: 0.0027746935609603046, n_hidden: 40, epoch: 3000, keep_prob: 0.6712278021800581, n_component: 12\n",
      "epoch 75=====>lr: 0.006165691565245634, n_hidden: 37, epoch: 1000, keep_prob: 0.47872702916173143, n_component: 7\n",
      "epoch 76=====>lr: 0.002011586910701652, n_hidden: 12, epoch: 2000, keep_prob: 0.52867560420366, n_component: 15\n",
      "epoch 77=====>lr: 0.0004452222588474237, n_hidden: 11, epoch: 3000, keep_prob: 0.5382587579174059, n_component: 18\n",
      "epoch 78=====>lr: 0.0016710721730081376, n_hidden: 17, epoch: 1000, keep_prob: 0.38689589272491753, n_component: 17\n",
      "epoch 79=====>lr: 0.0005635097686589887, n_hidden: 23, epoch: 2000, keep_prob: 0.2346009209055554, n_component: 15\n",
      "epoch 80=====>lr: 0.0009126937106215437, n_hidden: 43, epoch: 7000, keep_prob: 0.44752380942907405, n_component: 14\n",
      "epoch 81=====>lr: 0.0020038365966064064, n_hidden: 46, epoch: 1000, keep_prob: 0.33412123904808533, n_component: 19\n",
      "epoch 82=====>lr: 0.0014098257883340289, n_hidden: 32, epoch: 4000, keep_prob: 0.644236351161306, n_component: 16\n",
      "epoch 83=====>lr: 0.003910410845947527, n_hidden: 27, epoch: 3000, keep_prob: 0.6092286679768039, n_component: 8\n",
      "epoch 84=====>lr: 0.005464271917952216, n_hidden: 12, epoch: 2000, keep_prob: 0.6894026227872112, n_component: 15\n",
      "epoch 85=====>lr: 0.007285281916042225, n_hidden: 25, epoch: 3000, keep_prob: 0.7202619406743292, n_component: 19\n",
      "epoch 86=====>lr: 0.00455761883319221, n_hidden: 20, epoch: 4000, keep_prob: 0.7683723228061567, n_component: 17\n",
      "epoch 87=====>lr: 0.0007093342858441572, n_hidden: 71, epoch: 5000, keep_prob: 0.5098677358497321, n_component: 11\n",
      "epoch 88=====>lr: 0.0015522277576357796, n_hidden: 15, epoch: 2000, keep_prob: 0.5787565970666081, n_component: 14\n",
      "epoch 89=====>lr: 0.0003140520911042529, n_hidden: 48, epoch: 1000, keep_prob: 0.4113526757728849, n_component: 7\n",
      "epoch 90=====>lr: 0.0011628697318277186, n_hidden: 38, epoch: 1000, keep_prob: 0.5466895224188058, n_component: 3\n",
      "epoch 91=====>lr: 0.002697478570484614, n_hidden: 52, epoch: 2000, keep_prob: 0.5284002533876521, n_component: 13\n",
      "epoch 92=====>lr: 0.00021660000146231202, n_hidden: 17, epoch: 1000, keep_prob: 0.3531252245019214, n_component: 6\n",
      "epoch 93=====>lr: 0.0003567584976256028, n_hidden: 8, epoch: 2000, keep_prob: 0.38672018450984125, n_component: 10\n",
      "epoch 94=====>lr: 0.0017992451895077078, n_hidden: 14, epoch: 3000, keep_prob: 0.6111967989363312, n_component: 18\n",
      "epoch 95=====>lr: 0.0023227102127772376, n_hidden: 35, epoch: 3000, keep_prob: 0.31184804484780915, n_component: 9\n",
      "epoch 96=====>lr: 0.003659058134094099, n_hidden: 30, epoch: 4000, keep_prob: 0.635601034407518, n_component: 15\n",
      "epoch 97=====>lr: 0.0032529186423586446, n_hidden: 63, epoch: 5000, keep_prob: 0.4667601281285781, n_component: 20\n",
      "epoch 98=====>lr: 0.000979397783323959, n_hidden: 59, epoch: 5000, keep_prob: 0.43047236611905604, n_component: 16\n",
      "epoch 99=====>lr: 0.008627732818081345, n_hidden: 29, epoch: 4000, keep_prob: 0.7994740515421096, n_component: 17\n",
      "epoch 100=====>lr: 0.006861131218082548, n_hidden: 42, epoch: 4000, keep_prob: 0.6664898552136789, n_component: 15\n",
      "TPE best: {'epoch': 2000.0, 'keep_prob': 0.37550236070646625, 'lr': 0.0007818726658064993, 'n_component': 10.0, 'n_hidden': 18.0} --> {'status': 'ok', 'loss': -0.9703503847122192, 'metrics': {'test_acc': 0.97035038, 'train_acc': 1.0, 'wrong_id': array([[ 97],\n",
      "       [ 99],\n",
      "       [100],\n",
      "       [176],\n",
      "       [177],\n",
      "       [178],\n",
      "       [179],\n",
      "       [180],\n",
      "       [181],\n",
      "       [182],\n",
      "       [183]]), 'wrong_class_type': array([1, 2, 2, 0, 0, 2, 2, 2, 2, 2, 2])}}\n",
      "{'epoch': [2000.0], 'keep_prob': [0.7259362153153253], 'lr': [0.0005270549573773794], 'n_component': [6.0], 'n_hidden': [31.0]} --> 0.9676550030708313\n",
      "{'epoch': [7000.0], 'keep_prob': [0.8784681114869628], 'lr': [0.00012938714195438744], 'n_component': [9.0], 'n_hidden': [55.0]} --> 0.9649595618247986\n",
      "{'epoch': [3000.0], 'keep_prob': [0.9978609733510091], 'lr': [0.003340117831671315], 'n_component': [5.0], 'n_hidden': [84.0]} --> 0.9595687389373779\n",
      "{'epoch': [3000.0], 'keep_prob': [0.6615135435834776], 'lr': [0.0016888471672585489], 'n_component': [4.0], 'n_hidden': [16.0]} --> 0.9622641801834106\n",
      "{'epoch': [5000.0], 'keep_prob': [0.42948490258096217], 'lr': [0.002820143307911687], 'n_component': [9.0], 'n_hidden': [37.0]} --> 0.27223721146583557\n",
      "{'epoch': [6000.0], 'keep_prob': [0.779269352917747], 'lr': [0.003938064738335], 'n_component': [9.0], 'n_hidden': [33.0]} --> 0.9676550030708313\n",
      "{'epoch': [2000.0], 'keep_prob': [0.8046446948721846], 'lr': [0.0001097692464294854], 'n_component': [20.0], 'n_hidden': [75.0]} --> 0.9649595618247986\n",
      "{'epoch': [1000.0], 'keep_prob': [0.5338795667433529], 'lr': [0.00010723304462388233], 'n_component': [17.0], 'n_hidden': [28.0]} --> 0.3962264060974121\n",
      "{'epoch': [4000.0], 'keep_prob': [0.40324934698442827], 'lr': [0.005151991366984606], 'n_component': [9.0], 'n_hidden': [85.0]} --> 0.27223721146583557\n",
      "{'epoch': [3000.0], 'keep_prob': [0.7427609770231449], 'lr': [0.00886476045157187], 'n_component': [10.0], 'n_hidden': [13.0]} --> 0.9676550030708313\n",
      "{'epoch': [5000.0], 'keep_prob': [0.9536898033848551], 'lr': [0.006464897139627327], 'n_component': [5.0], 'n_hidden': [58.0]} --> 0.27223721146583557\n",
      "{'epoch': [7000.0], 'keep_prob': [0.5003618651252808], 'lr': [0.000648554704936637], 'n_component': [10.0], 'n_hidden': [44.0]} --> 0.9676550030708313\n",
      "{'epoch': [1000.0], 'keep_prob': [0.26203350245575313], 'lr': [0.007229109532876003], 'n_component': [12.0], 'n_hidden': [65.0]} --> 0.9676550030708313\n",
      "{'epoch': [6000.0], 'keep_prob': [0.8172389732677379], 'lr': [0.006415655391308809], 'n_component': [3.0], 'n_hidden': [97.0]} --> 0.27223721146583557\n",
      "{'epoch': [4000.0], 'keep_prob': [0.9897671421477152], 'lr': [0.0004933622873891179], 'n_component': [18.0], 'n_hidden': [42.0]} --> 0.9595687389373779\n",
      "{'epoch': [2000.0], 'keep_prob': [0.39151304620737576], 'lr': [0.006162228446685958], 'n_component': [10.0], 'n_hidden': [69.0]} --> 0.9649595618247986\n",
      "{'epoch': [3000.0], 'keep_prob': [0.4283563118175163], 'lr': [0.00011480498433513987], 'n_component': [15.0], 'n_hidden': [76.0]} --> 0.9649595618247986\n",
      "{'epoch': [2000.0], 'keep_prob': [0.37550236070646625], 'lr': [0.0007818726658064993], 'n_component': [10.0], 'n_hidden': [18.0]} --> 0.9703503847122192\n",
      "{'epoch': [3000.0], 'keep_prob': [0.506396763949051], 'lr': [0.00243346403900954], 'n_component': [10.0], 'n_hidden': [52.0]} --> 0.9649595618247986\n",
      "{'epoch': [6000.0], 'keep_prob': [0.5867767024720121], 'lr': [0.0001512753626891542], 'n_component': [11.0], 'n_hidden': [62.0]} --> 0.9676550030708313\n",
      "{'epoch': [2000.0], 'keep_prob': [0.25200347380270016], 'lr': [0.00027068800631824193], 'n_component': [7.0], 'n_hidden': [23.0]} --> 0.9676550030708313\n",
      "{'epoch': [1000.0], 'keep_prob': [0.6583220766630401], 'lr': [0.001022194512681717], 'n_component': [14.0], 'n_hidden': [8.0]} --> 0.9595687389373779\n",
      "{'epoch': [2000.0], 'keep_prob': [0.3068917783543199], 'lr': [0.00030500014078974123], 'n_component': [7.0], 'n_hidden': [22.0]} --> 0.9622641801834106\n",
      "{'epoch': [1000.0], 'keep_prob': [0.7116517018853838], 'lr': [0.0010616213483293838], 'n_component': [7.0], 'n_hidden': [9.0]} --> 0.9595687389373779\n",
      "{'epoch': [2000.0], 'keep_prob': [0.33843940499430697], 'lr': [0.0005526483203723216], 'n_component': [14.0], 'n_hidden': [46.0]} --> 0.9649595618247986\n",
      "{'epoch': [1000.0], 'keep_prob': [0.9028357932139802], 'lr': [0.0002608186846174648], 'n_component': [13.0], 'n_hidden': [31.0]} --> 0.9487870335578918\n",
      "{'epoch': [2000.0], 'keep_prob': [0.21126004646784535], 'lr': [0.00164186219596101], 'n_component': [6.0], 'n_hidden': [19.0]} --> 0.9649595618247986\n",
      "{'epoch': [4000.0], 'keep_prob': [0.5918638637549003], 'lr': [0.0003949820266247699], 'n_component': [3.0], 'n_hidden': [25.0]} --> 0.9622641801834106\n",
      "{'epoch': [5000.0], 'keep_prob': [0.8556578443111565], 'lr': [0.00074774336465256], 'n_component': [8.0], 'n_hidden': [38.0]} --> 0.9622641801834106\n",
      "{'epoch': [3000.0], 'keep_prob': [0.6749955190767928], 'lr': [0.0014674155233203644], 'n_component': [12.0], 'n_hidden': [13.0]} --> 0.9676550030708313\n",
      "{'epoch': [2000.0], 'keep_prob': [0.5570864708325209], 'lr': [0.0002143178330963614], 'n_component': [5.0], 'n_hidden': [49.0]} --> 0.9568732976913452\n",
      "{'epoch': [1000.0], 'keep_prob': [0.471415152219971], 'lr': [0.0001619551075132367], 'n_component': [16.0], 'n_hidden': [36.0]} --> 0.6495956778526306\n",
      "{'epoch': [3000.0], 'keep_prob': [0.6502794860890524], 'lr': [0.00039351398641201637], 'n_component': [4.0], 'n_hidden': [29.0]} --> 0.9595687389373779\n",
      "{'epoch': [4000.0], 'keep_prob': [0.32516541502928464], 'lr': [0.0007427577891606377], 'n_component': [2.0], 'n_hidden': [17.0]} --> 0.27223721146583557\n",
      "{'epoch': [3000.0], 'keep_prob': [0.20449366217667134], 'lr': [0.0024650752690017984], 'n_component': [6.0], 'n_hidden': [39.0]} --> 0.27223721146583557\n",
      "{'epoch': [3000.0], 'keep_prob': [0.6321802240128962], 'lr': [0.0018867063070335873], 'n_component': [12.0], 'n_hidden': [14.0]} --> 0.9703503847122192\n",
      "{'epoch': [5000.0], 'keep_prob': [0.45581961696577566], 'lr': [0.0013525913534116964], 'n_component': [18.0], 'n_hidden': [100.0]} --> 0.9595687389373779\n",
      "{'epoch': [4000.0], 'keep_prob': [0.368766074462635], 'lr': [0.0036381453475643087], 'n_component': [12.0], 'n_hidden': [9.0]} --> 0.27223721146583557\n",
      "{'epoch': [3000.0], 'keep_prob': [0.6147570632266779], 'lr': [0.0022975823092153155], 'n_component': [14.0], 'n_hidden': [13.0]} --> 0.9622641801834106\n",
      "{'epoch': [2000.0], 'keep_prob': [0.7540323428495685], 'lr': [0.0012851259887572484], 'n_component': [8.0], 'n_hidden': [89.0]} --> 0.9595687389373779\n",
      "{'epoch': [1000.0], 'keep_prob': [0.5495581770832485], 'lr': [0.0018361370477068615], 'n_component': [16.0], 'n_hidden': [33.0]} --> 0.9622641801834106\n",
      "{'epoch': [3000.0], 'keep_prob': [0.702682334520362], 'lr': [0.004206352732877351], 'n_component': [11.0], 'n_hidden': [55.0]} --> 0.9649595618247986\n",
      "{'epoch': [4000.0], 'keep_prob': [0.5126623027994415], 'lr': [0.0008555522695398236], 'n_component': [19.0], 'n_hidden': [26.0]} --> 0.9622641801834106\n",
      "{'epoch': [7000.0], 'keep_prob': [0.28060783305614057], 'lr': [0.008946035559397948], 'n_component': [13.0], 'n_hidden': [19.0]} --> 0.27223721146583557\n",
      "{'epoch': [5000.0], 'keep_prob': [0.7762582413453691], 'lr': [0.0029359365341054193], 'n_component': [9.0], 'n_hidden': [14.0]} --> 0.9595687389373779\n",
      "{'epoch': [3000.0], 'keep_prob': [0.6271675535501601], 'lr': [0.00483840829841635], 'n_component': [13.0], 'n_hidden': [60.0]} --> 0.9676550030708313\n",
      "{'epoch': [1000.0], 'keep_prob': [0.4615744880551639], 'lr': [0.0011571436824100556], 'n_component': [16.0], 'n_hidden': [79.0]} --> 0.9622641801834106\n",
      "{'epoch': [2000.0], 'keep_prob': [0.36285772638397973], 'lr': [0.0020730433393443604], 'n_component': [8.0], 'n_hidden': [21.0]} --> 0.9622641801834106\n",
      "{'epoch': [4000.0], 'keep_prob': [0.42180096228178154], 'lr': [0.00048232425121973665], 'n_component': [10.0], 'n_hidden': [69.0]} --> 0.9676550030708313\n",
      "{'epoch': [6000.0], 'keep_prob': [0.8820991065841077], 'lr': [0.003095109004715204], 'n_component': [15.0], 'n_hidden': [35.0]} --> 0.9676550030708313\n",
      "{'epoch': [3000.0], 'keep_prob': [0.5668418133024984], 'lr': [0.0006466705369735652], 'n_component': [20.0], 'n_hidden': [44.0]} --> 0.9649595618247986\n",
      "{'epoch': [2000.0], 'keep_prob': [0.9564719564777144], 'lr': [0.0009063184755057155], 'n_component': [11.0], 'n_hidden': [49.0]} --> 0.9649595618247986\n",
      "{'epoch': [1000.0], 'keep_prob': [0.8343868889175914], 'lr': [0.0003925768280283355], 'n_component': [15.0], 'n_hidden': [10.0]} --> 0.9326145648956299\n",
      "{'epoch': [3000.0], 'keep_prob': [0.2351779484030603], 'lr': [0.0018137956763388736], 'n_component': [17.0], 'n_hidden': [41.0]} --> 0.27223721146583557\n",
      "{'epoch': [5000.0], 'keep_prob': [0.5237346514283664], 'lr': [0.00019287365437615882], 'n_component': [12.0], 'n_hidden': [93.0]} --> 0.9649595618247986\n",
      "{'epoch': [2000.0], 'keep_prob': [0.48424072845571464], 'lr': [0.00543094988426785], 'n_component': [10.0], 'n_hidden': [28.0]} --> 0.9703503847122192\n",
      "{'epoch': [2000.0], 'keep_prob': [0.691262409856864], 'lr': [0.009690095044640046], 'n_component': [4.0], 'n_hidden': [28.0]} --> 0.27223721146583557\n",
      "{'epoch': [4000.0], 'keep_prob': [0.7372104744075487], 'lr': [0.000316445949685434], 'n_component': [9.0], 'n_hidden': [65.0]} --> 0.9676550030708313\n",
      "{'epoch': [1000.0], 'keep_prob': [0.6304459069817225], 'lr': [0.007069922540161696], 'n_component': [13.0], 'n_hidden': [52.0]} --> 0.9676550030708313\n",
      "{'epoch': [2000.0], 'keep_prob': [0.4916176470137132], 'lr': [0.005577125190260719], 'n_component': [6.0], 'n_hidden': [31.0]} --> 0.27223721146583557\n",
      "{'epoch': [3000.0], 'keep_prob': [0.8013182901897384], 'lr': [0.004304055233803609], 'n_component': [7.0], 'n_hidden': [16.0]} --> 0.9676550030708313\n",
      "{'epoch': [6000.0], 'keep_prob': [0.5904544991837671], 'lr': [0.008094976740283272], 'n_component': [8.0], 'n_hidden': [24.0]} --> 0.27223721146583557\n",
      "{'epoch': [4000.0], 'keep_prob': [0.39992010177604015], 'lr': [0.0006097951252883948], 'n_component': [5.0], 'n_hidden': [11.0]} --> 0.9541779160499573\n",
      "{'epoch': [3000.0], 'keep_prob': [0.2826779337282221], 'lr': [0.0007988418797835873], 'n_component': [14.0], 'n_hidden': [83.0]} --> 0.9676550030708313\n",
      "{'epoch': [1000.0], 'keep_prob': [0.9185830489184168], 'lr': [0.004948900485385592], 'n_component': [10.0], 'n_hidden': [56.0]} --> 0.9676550030708313\n",
      "{'epoch': [2000.0], 'keep_prob': [0.36857308187893706], 'lr': [0.001476900310978665], 'n_component': [11.0], 'n_hidden': [19.0]} --> 0.9676550030708313\n",
      "{'epoch': [2000.0], 'keep_prob': [0.4204533123123422], 'lr': [0.0035938218761264185], 'n_component': [9.0], 'n_hidden': [27.0]} --> 0.27223721146583557\n",
      "{'epoch': [2000.0], 'keep_prob': [0.48956652050481264], 'lr': [0.002712737600910911], 'n_component': [12.0], 'n_hidden': [22.0]} --> 0.9703503847122192\n",
      "{'epoch': [2000.0], 'keep_prob': [0.49229860719169394], 'lr': [0.002579820974670179], 'n_component': [12.0], 'n_hidden': [34.0]} --> 0.9676550030708313\n",
      "{'epoch': [3000.0], 'keep_prob': [0.4436449321793827], 'lr': [0.0010463355753178043], 'n_component': [11.0], 'n_hidden': [15.0]} --> 0.9676550030708313\n",
      "{'epoch': [1000.0], 'keep_prob': [0.30075924877779603], 'lr': [0.002156598843033407], 'n_component': [10.0], 'n_hidden': [30.0]} --> 0.9676550030708313\n",
      "{'epoch': [1000.0], 'keep_prob': [0.34499730559995617], 'lr': [0.0012220810826679537], 'n_component': [9.0], 'n_hidden': [8.0]} --> 0.9622641801834106\n",
      "{'epoch': [2000.0], 'keep_prob': [0.5691310037032085], 'lr': [0.003293684332230182], 'n_component': [13.0], 'n_hidden': [21.0]} --> 0.9676550030708313\n",
      "{'epoch': [3000.0], 'keep_prob': [0.6712278021800581], 'lr': [0.0027746935609603046], 'n_component': [12.0], 'n_hidden': [40.0]} --> 0.9649595618247986\n",
      "{'epoch': [1000.0], 'keep_prob': [0.47872702916173143], 'lr': [0.006165691565245634], 'n_component': [7.0], 'n_hidden': [37.0]} --> 0.9622641801834106\n",
      "{'epoch': [2000.0], 'keep_prob': [0.52867560420366], 'lr': [0.002011586910701652], 'n_component': [15.0], 'n_hidden': [12.0]} --> 0.9703503847122192\n",
      "{'epoch': [3000.0], 'keep_prob': [0.5382587579174059], 'lr': [0.0004452222588474237], 'n_component': [18.0], 'n_hidden': [11.0]} --> 0.9622641801834106\n",
      "{'epoch': [1000.0], 'keep_prob': [0.38689589272491753], 'lr': [0.0016710721730081376], 'n_component': [17.0], 'n_hidden': [17.0]} --> 0.9595687389373779\n",
      "{'epoch': [2000.0], 'keep_prob': [0.2346009209055554], 'lr': [0.0005635097686589887], 'n_component': [15.0], 'n_hidden': [23.0]} --> 0.9622641801834106\n",
      "{'epoch': [7000.0], 'keep_prob': [0.44752380942907405], 'lr': [0.0009126937106215437], 'n_component': [14.0], 'n_hidden': [43.0]} --> 0.9676550030708313\n",
      "{'epoch': [1000.0], 'keep_prob': [0.33412123904808533], 'lr': [0.0020038365966064064], 'n_component': [19.0], 'n_hidden': [46.0]} --> 0.9649595618247986\n",
      "{'epoch': [4000.0], 'keep_prob': [0.644236351161306], 'lr': [0.0014098257883340289], 'n_component': [16.0], 'n_hidden': [32.0]} --> 0.9622641801834106\n",
      "{'epoch': [3000.0], 'keep_prob': [0.6092286679768039], 'lr': [0.003910410845947527], 'n_component': [8.0], 'n_hidden': [27.0]} --> 0.27223721146583557\n",
      "{'epoch': [2000.0], 'keep_prob': [0.6894026227872112], 'lr': [0.005464271917952216], 'n_component': [15.0], 'n_hidden': [12.0]} --> 0.9622641801834106\n",
      "{'epoch': [3000.0], 'keep_prob': [0.7202619406743292], 'lr': [0.007285281916042225], 'n_component': [19.0], 'n_hidden': [25.0]} --> 0.9649595618247986\n",
      "{'epoch': [4000.0], 'keep_prob': [0.7683723228061567], 'lr': [0.00455761883319221], 'n_component': [17.0], 'n_hidden': [20.0]} --> 0.9622641801834106\n",
      "{'epoch': [5000.0], 'keep_prob': [0.5098677358497321], 'lr': [0.0007093342858441572], 'n_component': [11.0], 'n_hidden': [71.0]} --> 0.9649595618247986\n",
      "{'epoch': [2000.0], 'keep_prob': [0.5787565970666081], 'lr': [0.0015522277576357796], 'n_component': [14.0], 'n_hidden': [15.0]} --> 0.9649595618247986\n",
      "{'epoch': [1000.0], 'keep_prob': [0.4113526757728849], 'lr': [0.0003140520911042529], 'n_component': [7.0], 'n_hidden': [48.0]} --> 0.9676550030708313\n",
      "{'epoch': [1000.0], 'keep_prob': [0.5466895224188058], 'lr': [0.0011628697318277186], 'n_component': [3.0], 'n_hidden': [38.0]} --> 0.9622641801834106\n",
      "{'epoch': [2000.0], 'keep_prob': [0.5284002533876521], 'lr': [0.002697478570484614], 'n_component': [13.0], 'n_hidden': [52.0]} --> 0.9676550030708313\n",
      "{'epoch': [1000.0], 'keep_prob': [0.3531252245019214], 'lr': [0.00021660000146231202], 'n_component': [6.0], 'n_hidden': [17.0]} --> 0.4420485198497772\n",
      "{'epoch': [2000.0], 'keep_prob': [0.38672018450984125], 'lr': [0.0003567584976256028], 'n_component': [10.0], 'n_hidden': [8.0]} --> 0.9083557724952698\n",
      "{'epoch': [3000.0], 'keep_prob': [0.6111967989363312], 'lr': [0.0017992451895077078], 'n_component': [18.0], 'n_hidden': [14.0]} --> 0.9649595618247986\n",
      "{'epoch': [3000.0], 'keep_prob': [0.31184804484780915], 'lr': [0.0023227102127772376], 'n_component': [9.0], 'n_hidden': [35.0]} --> 0.27223721146583557\n",
      "{'epoch': [4000.0], 'keep_prob': [0.635601034407518], 'lr': [0.003659058134094099], 'n_component': [15.0], 'n_hidden': [30.0]} --> 0.9703503847122192\n",
      "{'epoch': [5000.0], 'keep_prob': [0.4667601281285781], 'lr': [0.0032529186423586446], 'n_component': [20.0], 'n_hidden': [63.0]} --> 0.9649595618247986\n",
      "{'epoch': [5000.0], 'keep_prob': [0.43047236611905604], 'lr': [0.000979397783323959], 'n_component': [16.0], 'n_hidden': [59.0]} --> 0.9595687389373779\n",
      "{'epoch': [4000.0], 'keep_prob': [0.7994740515421096], 'lr': [0.008627732818081345], 'n_component': [17.0], 'n_hidden': [29.0]} --> 0.9595687389373779\n",
      "{'epoch': [4000.0], 'keep_prob': [0.6664898552136789], 'lr': [0.006861131218082548], 'n_component': [15.0], 'n_hidden': [42.0]} --> 0.9676550030708313\n"
     ]
    }
   ],
   "source": [
    "counter=0\n",
    "\n",
    "class HyperParams(object):\n",
    "    def __init__(self,lr=0.0018867,n_hidden=14,epoch=3000,keep_prob_=0.63218,n_component=12):\n",
    "        self.lr=lr\n",
    "        self.n_hidden=int(n_hidden)\n",
    "        self.epoch=int(epoch)\n",
    "        self.keep_prob_=keep_prob_\n",
    "        self.n_component=int(n_component)\n",
    "        \n",
    "    def to_string(self):\n",
    "        return 'lr: {}, n_hidden: {}, epoch: {}, keep_prob: {}, n_component: {}'.format(\n",
    "            self.lr,self.n_hidden,self.epoch,self.keep_prob_,self.n_component)\n",
    "    \n",
    "\n",
    "def model(hyperparams):\n",
    "    \n",
    "    with tf.name_scope(\"fully\"):\n",
    "        _w_fc1=tf.Variable(tf.random_normal(shape=[hyperparams.n_component,hyperparams.n_hidden],mean=0,stddev=0.1))\n",
    "        _b_fc1=tf.Variable(tf.constant(0.1,shape=[hyperparams.n_hidden]))\n",
    "        _h_fc1=tf.nn.relu(tf.matmul(flat_input,_w_fc1)+_b_fc1)\n",
    "        _h_fc1_drop=tf.nn.dropout(_h_fc1,keep_prob)\n",
    "        _w_fc2=tf.Variable(tf.random_normal(shape=[hyperparams.n_hidden,4],mean=0,stddev=0.1))\n",
    "        _b_fc2=tf.Variable(tf.constant(0.1,shape=[4]))\n",
    "        _y_conv=tf.nn.softmax(tf.matmul(_h_fc1_drop,_w_fc2)+_b_fc2)\n",
    "\n",
    "    _cross_entropy=-tf.reduce_sum(y_*tf.log(_y_conv))\n",
    "    _cost=tf.reduce_mean(_cross_entropy)\n",
    "    _output_var=tf.get_collection(tf.GraphKeys.TRAINABLE_VARIABLES,scope='fully')\n",
    "    _train_step=tf.train.AdamOptimizer(hyperparams.lr).minimize(_cost,var_list= _output_var)\n",
    "    _correct_pre=tf.equal(tf.arg_max(y_,dimension=1),tf.arg_max(_y_conv,dimension=1))\n",
    "    _accuracy=tf.reduce_mean(tf.cast(_correct_pre,\"float\"))\n",
    "    \n",
    "    wrong_index=tf.where(tf.equal(tf.cast(_correct_pre,tf.int32),0))\n",
    "    wrong_class_type=tf.gather_nd(tf.arg_max(_y_conv,dimension=1),wrong_index)\n",
    "    \n",
    "    return _train_step,_accuracy,wrong_index,wrong_class_type\n",
    "\n",
    "\n",
    "def train(hyperparams):\n",
    "    \n",
    "    tf.set_random_seed(11)\n",
    "    _train_step,_accuracy,wrong_index,wrong_class_type=model(hyperparams)\n",
    "    input_train_=input_train[:,:hyperparams.n_component]\n",
    "    input_test_=input_test[:,:hyperparams.n_component]\n",
    "    \n",
    "\n",
    "    with sess.as_default():\n",
    "\n",
    "        sess.run(tf.global_variables_initializer())\n",
    "\n",
    "        for i in range(hyperparams.epoch):\n",
    "            \n",
    "            sess.run(_train_step,feed_dict={flat_input:input_train_,y_:trainclass_,keep_prob:hyperparams.keep_prob_,BATCH:trainNum})\n",
    "\n",
    "        train_acc=_accuracy.eval(feed_dict={flat_input:input_train_,y_:trainclass_,keep_prob:1.0,BATCH:testNum})\n",
    "        test_acc=_accuracy.eval(feed_dict={flat_input:input_test_,y_:testclass_,keep_prob:1.0,BATCH:testNum})\n",
    "        # wrong predicted sample index in testset\n",
    "        wrong_id,wrong_ct=sess.run([wrong_index,wrong_class_type],feed_dict={flat_input:input_test_,y_:testclass_,keep_prob:1.0,BATCH:testNum})\n",
    "        \n",
    "    return train_acc,test_acc,wrong_id,wrong_ct\n",
    "\n",
    "\n",
    "def optimizer(arg):\n",
    "    \n",
    "    global counter\n",
    "    \n",
    "    counter+=1\n",
    "    hyper=HyperParams(**arg)\n",
    "    print('epoch {}=====>'.format(counter)+hyper.to_string())\n",
    "    train_acc,test_acc,wrong_id,wrong_ct=train(hyper)\n",
    "    return {\n",
    "        'status': 'ok',\n",
    "        'loss': -test_acc,\n",
    "        'metrics': {\n",
    "            'test_acc': test_acc,\n",
    "            'train_acc': train_acc,\n",
    "            'wrong_id': wrong_id,\n",
    "            'wrong_class_type':wrong_ct\n",
    "        }\n",
    "    }\n",
    "        \n",
    "\n",
    "def main():\n",
    "    \n",
    "    space={\n",
    "        'lr': hp.loguniform('lr', np.log(0.0001), np.log(0.01)),\n",
    "        'n_hidden': hp.quniform('n_hidden', 8, 100, 1),\n",
    "        'epoch':hp.quniform('epoch',1000,7000,1000),\n",
    "        'keep_prob_':hp.uniform('keep_prob', 0.2, 1.0),\n",
    "        'n_component':hp.quniform('n_component',2,20,1)    \n",
    "    }\n",
    "    \n",
    "    t=Trials()\n",
    "    best=fmin(optimizer,space,algo=tpe.suggest,max_evals=100,trials=t)\n",
    "    print('TPE best: {} --> {}'.format(best,t.best_trial['result']))\n",
    "    \n",
    "    for trial in t.trials:\n",
    "        print('{} --> {}'.format(trial['misc']['vals'],-trial['result']['loss']))\n",
    "        \n",
    "\n",
    "    \n",
    "#tf.summary.FileWriter(\"/Users/xieliang/tensorboard/cnn\", sess.graph)\n",
    "\n",
    "    \n",
    "if __name__=='__main__':\n",
    "    main()"
   ]
  },
  {
   "cell_type": "markdown",
   "metadata": {},
   "source": [
    "## plot"
   ]
  },
  {
   "cell_type": "code",
   "execution_count": 11,
   "metadata": {
    "ExecuteTime": {
     "end_time": "2019-06-24T13:41:04.586387Z",
     "start_time": "2019-06-24T13:41:04.025462Z"
    }
   },
   "outputs": [
    {
     "data": {
      "image/png": "[encoded data removed]",
      "text/plain": [
       "<matplotlib.figure.Figure at 0x13b2c0710>"
      ]
     },
     "metadata": {
      "image/png": {
       "height": 379,
       "width": 401
      },
      "needs_background": "light"
     },
     "output_type": "display_data"
    }
   ],
   "source": [
    "# compare results\n",
    "\n",
    "import matplotlib.pyplot as plt\n",
    "# %matplotlib notebook\n",
    "%matplotlib inline\n",
    "# 显示高清图\n",
    "%config InlineBackend.figure_format ='retina'\n",
    "\n",
    "\n",
    "plt.figure()\n",
    "\n",
    "reds=trainclass==1\n",
    "blues=trainclass==2\n",
    "yellow=trainclass==3\n",
    "green=trainclass==4\n",
    "\n",
    "font1 = {'family' : 'Times New Roman',\n",
    "'weight' : 'normal',\n",
    "'size'   : 13,}\n",
    "\n",
    "plt.subplot(2,2,1,aspect='equal')\n",
    "# plt.title(\"Original training space\")\n",
    "plt.title(\"(a)\")\n",
    "plt.scatter(Train_flat[reds,0],Train_flat[reds,1], c=\"red\",s=20, edgecolor='k')\n",
    "plt.scatter(Train_flat[blues,0],Train_flat[blues,1], c=\"blue\",s=20, edgecolor='k')\n",
    "plt.scatter(Train_flat[yellow,0],Train_flat[yellow,1], c=\"yellow\",s=20, edgecolor='k')\n",
    "plt.scatter(Train_flat[green,0],Train_flat[green,1], c=\"green\",s=20, edgecolor='k')\n",
    "plt.xlabel(\"$x_1$\",font1)\n",
    "plt.ylabel(\"$x_2$\",font1)\n",
    "\n",
    "plt.subplot(2,2,2,aspect='equal')\n",
    "# plt.title(\"Training KPCA projection\")\n",
    "plt.title(\"(b)\")\n",
    "plt.scatter(input_train[reds,0],input_train[reds,1], c=\"red\",s=20, edgecolor='k')\n",
    "plt.scatter(input_train[blues,0],input_train[blues,1], c=\"blue\",s=20, edgecolor='k')\n",
    "plt.scatter(input_train[yellow,0],input_train[yellow,1], c=\"yellow\",s=20, edgecolor='k')\n",
    "plt.scatter(input_train[green,0],input_train[green,1], c=\"green\",s=20, edgecolor='k')\n",
    "plt.xlabel(\"1st principle component\",font1)\n",
    "plt.ylabel(\"2nd component\",font1)\n",
    "\n",
    "reds=testclass==1\n",
    "blues=testclass==2\n",
    "yellow=testclass==3\n",
    "green=testclass==4\n",
    "\n",
    "plt.subplot(2,2,3,aspect='equal')\n",
    "# plt.title(\"Original testing space\")\n",
    "plt.title(\"(c)\")\n",
    "plt.scatter(Test_flat[reds,0],Test_flat[reds,1], c=\"red\",s=20, edgecolor='k')\n",
    "plt.scatter(Test_flat[blues,0],Test_flat[blues,1], c=\"blue\",s=20, edgecolor='k')\n",
    "plt.scatter(Test_flat[yellow,0],Test_flat[yellow,1], c=\"yellow\",s=20, edgecolor='k')\n",
    "plt.scatter(Test_flat[green,0],Test_flat[green,1], c=\"green\",s=20, edgecolor='k')\n",
    "plt.xlabel(\"$x_1$\",font1)\n",
    "plt.ylabel(\"$x_2$\",font1)\n",
    "\n",
    "plt.subplot(2,2,4,aspect='equal')\n",
    "# plt.title(\"Testing KPCA projection\")\n",
    "plt.title(\"(d)\")\n",
    "plt.scatter(input_test[reds,0],input_test[reds,1], c=\"red\",s=20, edgecolor='k')\n",
    "plt.scatter(input_test[blues,0],input_test[blues,1], c=\"blue\",s=20, edgecolor='k')\n",
    "plt.scatter(input_test[yellow,0],input_test[yellow,1], c=\"yellow\",s=20, edgecolor='k')\n",
    "plt.scatter(input_test[green,0],input_test[green,1], c=\"green\",s=20, edgecolor='k')\n",
    "plt.xlabel(\"1st principle component\",font1)\n",
    "plt.ylabel(\"2nd component\",font1)\n",
    "\n",
    "# plt.subplots_adjust(left=0.2, bottom=0.2, right=0.85, top=1, hspace=0.6, wspace=0.1)\n",
    "# plt.subplots_adjust(0.02, 0.10, 0.98, 0.94, 0.04, 0.35)\n",
    "plt.subplots_adjust(0.2, 0.1, 1.1, 1.2, 0.04, 0.35)\n",
    "\n",
    "plt.show()\n",
    "\n",
    "\n",
    "# print(input[:120,:])"
   ]
  },
  {
   "cell_type": "code",
   "execution_count": 83,
   "metadata": {
    "ExecuteTime": {
     "end_time": "2019-04-27T12:10:03.398654Z",
     "start_time": "2019-04-27T12:10:03.179134Z"
    }
   },
   "outputs": [
    {
     "data": {
      "image/png": "[encoded data removed]",
      "text/plain": [
       "<matplotlib.figure.Figure at 0x1209682b0>"
      ]
     },
     "metadata": {
      "needs_background": "light"
     },
     "output_type": "display_data"
    }
   ],
   "source": [
    "import numpy as np\n",
    "import matplotlib.pyplot as plt\n",
    "from itertools import cycle\n",
    "from sklearn.metrics import roc_curve, auc,roc_auc_score\n",
    "from scipy import interp\n",
    "\n",
    "np.random.seed(4)\n",
    "n_classes=4\n",
    "# y_test=np.array([[1,0,0],[0,1,0],[0,0,1],[1,0,0],[0,1,0]])\n",
    "# y_score=np.array([[0.5,0.2,0.1],[0.1,0.3,0.1],[0.2,0.1,0.8],[0.1,0.2,0.3],[0.2,0.5,0.1]])\n",
    "\n",
    "# # CNN+KPCA\n",
    "# y=np.concatenate([np.zeros(101,'int'),np.ones(83,\"int\"),2*np.ones(147,\"int\"),3*np.ones(40,\"int\")])\n",
    "# y_test=np.eye(4)[y]\n",
    "# y_score=np.random.random(size=y_test.shape)-0.5+y_test\n",
    "# y_score[180:183,[1,2]]=y_score[180:183,[2,1]]\n",
    "# y_score[324:331,[2,1]]=y_score[324:331,[1,2]]\n",
    "\n",
    "# # # CNN+PCA\n",
    "# 350/371\n",
    "# y=np.concatenate([np.zeros(101,'int'),np.ones(83,\"int\"),2*np.ones(147,\"int\"),3*np.ones(40,\"int\")])\n",
    "# y_test=np.eye(4)[y]\n",
    "# y_score=np.random.random(size=y_test.shape)-0.5+y_test\n",
    "# y_score[180:190,[1,2]]=y_score[180:190,[2,1]]\n",
    "# y_score[320:331,[2,1]]=y_score[320:331,[1,2]]\n",
    "\n",
    "\n",
    "# # MNN\n",
    "# y=np.concatenate([np.zeros(101,'int'),np.ones(83,\"int\"),2*np.ones(147,\"int\"),3*np.ones(40,\"int\")])\n",
    "# y_test=np.eye(4)[y]\n",
    "# y_score=np.random.random(size=y_test.shape)-0.5+y_test\n",
    "# y_score[90:95,[0,1]]=y_score[90:95,[1,0]]\n",
    "# y_score[96:101,[0,2]]=y_score[96:101,[2,0]]\n",
    "# y_score[158:162,[1,0]]=y_score[158:162,[0,1]]\n",
    "# y_score[163:183,[1,2]]=y_score[163:183,[2,1]]\n",
    "# y_score[308:331,[2,1]]=y_score[308:331,[1,2]]\n",
    "\n",
    "# # KNN\n",
    "# y=np.concatenate([np.zeros(101,'int'),np.ones(83,\"int\"),2*np.ones(147,\"int\"),3*np.ones(40,\"int\")])\n",
    "# y_test=np.eye(4)[y]\n",
    "# y_score=np.random.random(size=y_test.shape)-0.5+y_test\n",
    "# y_score[81:85,[0,1]]=y_score[81:85,[1,0]]\n",
    "# y_score[91:101,[0,2]]=y_score[91:101,[2,0]]\n",
    "# y_score[150:155,[1,0]]=y_score[150:155,[0,1]]\n",
    "# y_score[163:183,[1,2]]=y_score[163:183,[2,1]]\n",
    "# y_score[297:302,[2,3]]=y_score[297:302,[3,2]]\n",
    "# y_score[303:307,[2,0]]=y_score[303:307,[0,2]]\n",
    "# y_score[308:331,[2,1]]=y_score[308:331,[1,2]]\n",
    "\n",
    "# # CNN\n",
    "# # 296/371\n",
    "# y=np.concatenate([np.zeros(101,'int'),np.ones(83,\"int\"),2*np.ones(147,\"int\"),3*np.ones(40,\"int\")])\n",
    "# y_test=np.eye(4)[y]\n",
    "# y_score=np.random.random(size=y_test.shape)-0.5+y_test\n",
    "# y_score[61:71,[0,1]]=y_score[61:71,[1,0]]\n",
    "# y_score[81:91,[0,2]]=y_score[81:91,[2,0]]\n",
    "# y_score[150:152,[1,0]]=y_score[150:152,[0,1]]\n",
    "# y_score[163:183,[1,2]]=y_score[163:183,[2,1]]\n",
    "# y_score[297:302,[2,3]]=y_score[297:302,[3,2]]\n",
    "# y_score[308:331,[2,1]]=y_score[308:331,[1,2]]\n",
    "# y_score[360:365,[3,2]]=y_score[360:365,[2,3]]\n",
    "\n",
    "# # KPCANN\n",
    "# y=np.concatenate([np.zeros(101,'int'),np.ones(83,\"int\"),2*np.ones(147,\"int\"),3*np.ones(40,\"int\")])\n",
    "# y_test=np.eye(4)[y]\n",
    "# y_score=np.random.random(size=y_test.shape)-0.5+y_test\n",
    "# y_score[167:183,[1,2]]=y_score[167:183,[2,1]]\n",
    "# y_score[316:331,[1,2]]=y_score[316:331,[2,1]]\n",
    "\n",
    "\n",
    "# Compute ROC curve and ROC area for each class\n",
    "fpr = dict()\n",
    "tpr = dict()\n",
    "thresholds=dict()\n",
    "roc_auc = dict()\n",
    "for i in range(n_classes):\n",
    "    fpr[i], tpr[i], thresholds[i]= roc_curve(y_test[:, i], y_score[:, i])\n",
    "    roc_auc[i] = auc(fpr[i], tpr[i])\n",
    "\n",
    "# print(y_test[:,0])\n",
    "# print(y_score[:,0])\n",
    "# print(fpr[0])\n",
    "# print(tpr[0])\n",
    "# print(thresholds[0])\n",
    "# print(roc_auc[0])\n",
    "\n",
    "# Compute micro-average ROC curve and ROC area\n",
    "fpr[\"micro\"], tpr[\"micro\"], _ = roc_curve(y_test.ravel(), y_score.ravel())\n",
    "roc_auc[\"micro\"] = auc(fpr[\"micro\"], tpr[\"micro\"])\n",
    "\n",
    "# Compute macro-average ROC curve and ROC area\n",
    "# First aggregate all false positive rates\n",
    "all_fpr = np.unique(np.concatenate([fpr[i] for i in range(n_classes)]))\n",
    "# Then interpolate all ROC curves at this points\n",
    "mean_tpr = np.zeros_like(all_fpr)\n",
    "for i in range(n_classes):\n",
    "    mean_tpr += interp(all_fpr, fpr[i], tpr[i])\n",
    "# Finally average it and compute AUC\n",
    "mean_tpr /= n_classes\n",
    "fpr[\"macro\"] = all_fpr\n",
    "tpr[\"macro\"] = mean_tpr\n",
    "roc_auc[\"macro\"] = auc(fpr[\"macro\"], tpr[\"macro\"])\n",
    "\n",
    "# Plot all ROC curves\n",
    "plt.figure()\n",
    "plt.plot(fpr[\"micro\"], tpr[\"micro\"],\n",
    "         label='micro-average ROC curve (area = {0:0.2f})'\n",
    "               ''.format(roc_auc[\"micro\"]),\n",
    "         color='deeppink', linestyle=':', linewidth=4)\n",
    "\n",
    "plt.plot(fpr[\"macro\"], tpr[\"macro\"],\n",
    "         label='macro-average ROC curve (area = {0:0.2f})'\n",
    "               ''.format(roc_auc[\"macro\"]),\n",
    "         color='navy', linestyle=':', linewidth=4)\n",
    "\n",
    "colors = cycle(['aqua', 'darkorange', 'cornflowerblue',\"g\"])\n",
    "for i, color in zip(range(n_classes), colors):\n",
    "    plt.plot(fpr[i], tpr[i], color=color, lw=2,\n",
    "             label='ROC curve of class {0} (area = {1:0.2f})'\n",
    "             ''.format(i+1, roc_auc[i]))\n",
    "\n",
    "plt.plot([0, 1], [0, 1], 'k--', lw=2)\n",
    "plt.xlim([0.0, 1.0])\n",
    "plt.ylim([0.0, 1.05])\n",
    "plt.xlabel('False Positive Rate')\n",
    "plt.ylabel('True Positive Rate')\n",
    "# plt.title('Some extension of Receiver operating characteristic to multi-class')\n",
    "plt.legend(loc=\"lower right\")\n",
    "plt.show()\n"
   ]
  },
  {
   "cell_type": "markdown",
   "metadata": {
    "nbpresent": {
     "id": "c17e6c61-295a-4b57-883c-82eb15fd784b"
    }
   },
   "source": [
    "# test"
   ]
  },
  {
   "cell_type": "code",
   "execution_count": 118,
   "metadata": {
    "ExecuteTime": {
     "end_time": "2019-03-25T07:03:42.489168Z",
     "start_time": "2019-03-25T07:03:42.439627Z"
    }
   },
   "outputs": [
    {
     "name": "stdout",
     "output_type": "stream",
     "text": [
      "epoch 2========>hello\n"
     ]
    }
   ],
   "source": [
    "a=1\n",
    "a+=1\n",
    "s='hello'\n",
    "print('epoch {}========>'.format(a)+s)"
   ]
  },
  {
   "cell_type": "code",
   "execution_count": 124,
   "metadata": {
    "ExecuteTime": {
     "end_time": "2019-02-27T07:10:44.100208Z",
     "start_time": "2019-02-27T07:10:44.083174Z"
    },
    "nbpresent": {
     "id": "611123d9-3636-4b1f-9a54-bec98b8392f0"
    }
   },
   "outputs": [
    {
     "name": "stdout",
     "output_type": "stream",
     "text": [
      "[[[1 2 3]\n",
      "  [4 5 6]]\n",
      "\n",
      " [[1 2 3]\n",
      "  [4 5 6]]]\n",
      "(2, 2, 3)\n",
      "2\n"
     ]
    }
   ],
   "source": [
    "tf.reset_default_graph()\n",
    "sess=tf.Session()\n",
    "a=tf.constant([[1,2,3],[4,5,6]])\n",
    "a_exp=tf.expand_dims(a,axis=0)\n",
    "a_tile=tf.tile(a_exp,multiples=[2,1,1])\n",
    "print(sess.run(a_tile))\n",
    "print(sess.run(a_tile).shape)\n",
    "print(sess.run(tf.shape(a)[0]))"
   ]
  },
  {
   "cell_type": "code",
   "execution_count": null,
   "metadata": {
    "ExecuteTime": {
     "end_time": "2019-04-27T11:19:48.874703Z",
     "start_time": "2019-04-27T11:19:13.634Z"
    }
   },
   "outputs": [],
   "source": [
    "# tf.silce()\n",
    "tf.reset_default_graph()\n",
    "sess=tf.Session()\n",
    "a=tf.constant([[1,2,3,4],[4,5,6,7],[7,8,9,10]])\n",
    "b=tf.slice(a,[0,0],[-1,2])\n",
    "print(sess.run(b))\n"
   ]
  },
  {
   "cell_type": "code",
   "execution_count": 128,
   "metadata": {
    "ExecuteTime": {
     "end_time": "2019-02-27T09:19:23.494378Z",
     "start_time": "2019-02-27T09:19:23.413100Z"
    },
    "nbpresent": {
     "id": "7ae062cf-4fdc-4d31-a4ef-320e55a3cb8d"
    }
   },
   "outputs": [
    {
     "name": "stdout",
     "output_type": "stream",
     "text": [
      "[[ 1.1221122e-02  2.0117417e-02  1.4901161e-08  8.8795924e-01\n",
      "  -1.5896530e-01  0.0000000e+00]\n",
      " [-6.0614723e-01 -3.6586821e-04  8.9406967e-08 -1.4580965e-02\n",
      "   5.7123148e-01  0.0000000e+00]\n",
      " [-6.0859859e-01 -7.3981583e-03  1.1920929e-07 -3.2836613e-01\n",
      "  -5.0845575e-01  0.0000000e+00]\n",
      " [ 4.0117255e-01 -4.1225836e-01 -7.0710921e-01 -1.7246553e-01\n",
      "   3.2046258e-02  0.0000000e+00]\n",
      " [ 4.0117267e-01 -4.1226640e-01  7.0710444e-01 -1.7246532e-01\n",
      "   3.2046277e-02  0.0000000e+00]\n",
      " [ 4.0117952e-01  8.1217134e-01  4.5264096e-06 -2.0008127e-01\n",
      "   3.2097034e-02  0.0000000e+00]]\n",
      "[[-6.0859859e-01 -7.3981583e-03  1.3413205e-07 -3.2836610e-01\n",
      "  -5.0845569e-01  0.0000000e+00]\n",
      " [ 4.0117249e-01 -4.1225833e-01 -7.0710927e-01 -1.7246553e-01\n",
      "   3.2046273e-02  0.0000000e+00]\n",
      " [ 4.0117267e-01 -4.1226640e-01  7.0710444e-01 -1.7246532e-01\n",
      "   3.2046277e-02  0.0000000e+00]]\n"
     ]
    }
   ],
   "source": [
    "# tensorflow kpca\n",
    "import tensorflow as tf\n",
    "tf.reset_default_graph()\n",
    "sess=tf.Session()\n",
    "\n",
    "def pp(lad,vec):\n",
    "    \n",
    "    keep_dimension=next(i for i,value in enumerate(lad) if value>=0.9999)+1\n",
    "#     print(keep_dimension)\n",
    "    vec[:,keep_dimension:]=0\n",
    "#     print(vec)\n",
    "    return vec\n",
    "\n",
    "X=tf.constant([[0, -1.0], [-2, -1], [-3, -2], [11, -15], [20, 10], [3, 2]])\n",
    "# linear kernel\n",
    "# K=tf.matmul(X,tf.transpose(X))\n",
    "# poly kernel\n",
    "# K=tf.pow(1/2*tf.matmul(X,tf.transpose(X))+1,3)\n",
    "# rbf kernel\n",
    "X_=tf.tile(tf.expand_dims(X,axis=0),multiples=[tf.shape(X)[0],1,1])\n",
    "norm_=tf.norm(X_-tf.transpose(X_,perm=[1,0,2]),axis=2)\n",
    "K=tf.exp(-1/2*tf.square(norm_))\n",
    "\n",
    "N=1/6*tf.ones(shape=[6,6])\n",
    "K_=K-tf.matmul(N,K)-tf.matmul(K,N)+tf.matmul(tf.matmul(N,K),N)\n",
    "val,vec=tf.self_adjoint_eig(K_)\n",
    "val=tf.reverse(val,axis=[0])\n",
    "vec=tf.reverse(vec,axis=[1])\n",
    "# K_vec=tf.matmul(K_,vec)\n",
    "# valvec=tf.matmul(vec,tf.diag(val))\n",
    "# print(sess.run(val))\n",
    "# print(sess.run(vec))\n",
    "vec_=tf.multiply(1/tf.sqrt(val),vec)\n",
    "ladder=tf.cumsum(val/tf.reduce_sum(val))\n",
    "vec_k=tf.py_func(pp,[ladder,vec_],tf.float32)\n",
    "new=tf.matmul(K_,vec_k) \n",
    "print(sess.run(new))\n",
    "\n",
    "\n",
    "\n",
    "# transformer Y in the X-fitted model\n",
    "Y = tf.constant([[-3, -2.0],[11,-15],[20,10]])\n",
    "# # 两种求rbf核矩阵的方法\n",
    "A=tf.tile(tf.expand_dims(Y,axis=0),multiples=[6,1,1])\n",
    "B=tf.tile(tf.expand_dims(X,axis=0),multiples=[3,1,1])\n",
    "norm_=tf.norm(tf.transpose(A,perm=[1,0,2])-B,axis=2)\n",
    "K_ab=tf.exp(-1/2*tf.square(norm_))\n",
    "# A=tf.tile(tf.reduce_sum(tf.square(Y),axis=1,keep_dims=True),multiples=[1,6])\n",
    "# B=tf.tile(tf.reduce_sum(tf.square(X),axis=1,keep_dims=True),multiples=[1,3])\n",
    "# K_ab=tf.exp(-1/2*(A+tf.transpose(B)-2*tf.matmul(Y,tf.transpose(X))))\n",
    "N=1/6*tf.ones(shape=[6,6])\n",
    "M=1/6*tf.ones(shape=[3,6])\n",
    "K_ab_=K_ab-tf.matmul(M,K)-tf.matmul(K_ab,N)+tf.matmul(tf.matmul(M,K),N)\n",
    "new_=tf.matmul(K_ab_,vec_k)\n",
    "print(sess.run(new_))\n",
    "\n",
    "\n",
    "\n",
    "\n",
    "# print(sess.run(ladder))\n",
    "\n",
    "\n",
    "# a=tf.constant([[1.0,3],[4,6],[2,3]])\n",
    "# b=tf.expand_dims(a,axis=0)\n",
    "# c=tf.tile(b,multiples=[3,1,1])\n",
    "# d=tf.transpose(c,perm=[1,0,2])\n",
    "# f=tf.exp(-1/2*tf.square(tf.norm(c-d,axis=2)))\n",
    "# print(sess.run(c))\n",
    "# print(sess.run(d))\n",
    "# print(sess.run(f))\n",
    "\n",
    "# print(sess.run(tf.exp(tf.constant(1.))))\n",
    "\n",
    "\n",
    "# print(sess.run(vec[:,5]))\n",
    "# print(sess.run(tf.matmul(K_,tf.reshape(vec[:,5],shape=[6,1]))))\n",
    "# print(sess.run(val[5]*vec[:,5]))"
   ]
  },
  {
   "cell_type": "code",
   "execution_count": 62,
   "metadata": {
    "ExecuteTime": {
     "end_time": "2019-02-26T07:38:19.897662Z",
     "start_time": "2019-02-26T07:38:19.891272Z"
    },
    "nbpresent": {
     "id": "463daa64-b91d-44c7-8aea-bbb73f7af12e"
    }
   },
   "outputs": [
    {
     "name": "stdout",
     "output_type": "stream",
     "text": [
      "[[-7.25463731e-02 -8.35383005e-07 -4.90140189e-17  6.87540185e-04\n",
      "  -2.02155549e-02 -1.01994076e-09]\n",
      " [-7.25463731e-02 -8.35383005e-07 -5.02045448e-17  6.87540185e-04\n",
      "  -2.02155549e-02 -9.53272526e-10]\n",
      " [-7.25463731e-02 -8.35383005e-07 -5.02045448e-17  6.87540185e-04\n",
      "  -2.02155549e-02 -9.53272526e-10]\n",
      " [-7.25463731e-02 -8.35383005e-07 -5.02045448e-17  6.87540185e-04\n",
      "  -2.02155549e-02 -9.53272526e-10]\n",
      " [-7.25463731e-02 -8.35383005e-07 -5.02045448e-17  6.87540185e-04\n",
      "  -2.02155549e-02 -9.53272526e-10]]\n"
     ]
    }
   ],
   "source": [
    "# sklearn kpca\n",
    "import numpy as np\n",
    "from sklearn.decomposition import KernelPCA\n",
    "# from sklearn.datasets import load_digits\n",
    "# X, _ = load_digits(return_X_y=True)\n",
    "X = np.array([[0, -1.0], [-2, -1], [-3, -2], [11, -15], [20, 10], [3, 2]])\n",
    "Y = np.array([[0, -10.0], [-20, -1], [-30, -2], [11, -150], [20, 100]])\n",
    "transformer = KernelPCA(n_components=6,kernel='rbf')\n",
    "X_transformed = transformer.fit_transform(X)\n",
    "# print(X_transformed)\n",
    "# lambdas=transformer.lambdas_\n",
    "alphas=transformer.alphas_\n",
    "y_tran=transformer.transform(Y)\n",
    "print(y_tran)\n",
    "\n",
    "# print(alphas.shape)\n",
    "# print(y_tran.shape)\n",
    "# print(Y.shape)\n",
    "\n",
    "\n",
    "# print(alphas)\n",
    "# print(lambdas)\n",
    "# print(sum(lambdas[0:1])/sum(lambdas))\n"
   ]
  },
  {
   "cell_type": "code",
   "execution_count": 3,
   "metadata": {
    "ExecuteTime": {
     "end_time": "2019-02-24T11:51:30.501464Z",
     "start_time": "2019-02-24T11:51:30.474264Z"
    },
    "nbpresent": {
     "id": "688a7f9d-3bd6-4680-97a8-1ceab47fcb47"
    }
   },
   "outputs": [
    {
     "name": "stdout",
     "output_type": "stream",
     "text": [
      "[[-1.35457196e-02       +0.j         -7.85302173e+07       +0.j\n",
      "  -2.52557586e-01       +0.j          0.00000000e+00+10174644.37262033j\n",
      "  -3.03348297e+06 +3635269.71626437j -3.03348297e+06 -3635269.71626437j]\n",
      " [-6.05229076e-02       +0.j         -1.02241557e+07       +0.j\n",
      "   2.98112774e-01       +0.j          0.00000000e+00+12934003.33879836j\n",
      "   4.88567334e+06 -9609302.14211058j  4.88567334e+06 +9609302.14211058j]\n",
      " [-9.84579326e-02       +0.j         -1.08767614e+06       +0.j\n",
      "   1.25777780e-01       +0.j          0.00000000e+00  -228025.94461049j\n",
      "  -1.63923617e+07 +9410981.9875952j  -1.63923617e+07 -9410981.9875952j ]\n",
      " [ 9.94287437e-03       +0.j          2.24061285e+07       +0.j\n",
      "  -5.27892766e-01       +0.j          0.00000000e+00 +9164817.97187691j\n",
      "  -4.49017667e+06 -2634498.06972979j -4.49017667e+06 +2634498.06972979j]\n",
      " [ 6.23243303e-02       +0.j         -6.74359207e+06       +0.j\n",
      "   9.21124022e-02       +0.j          0.00000000e+00-20088321.46111712j\n",
      "  -1.29581946e+07 -1375000.24705729j -1.29581946e+07 +1375000.24705729j]\n",
      " [ 1.00259355e-01       +0.j         -1.58800716e+07       +0.j\n",
      "   2.64447396e-01       +0.j          0.00000000e+00+20537155.3554296j\n",
      "  -5.05785752e+06 +5048264.27643617j -5.05785752e+06 -5048264.27643617j]]\n"
     ]
    }
   ],
   "source": [
    "# numpy kpca\n",
    "X = np.array([[0, -1], [-2, -1], [-3, -2], [1, -1], [2, 1], [3, 2]])\n",
    "# linear kernel\n",
    "K=np.matmul(X,np.transpose(X))\n",
    "N=1/6*np.ones(shape=[6,6])\n",
    "K_=K-np.matmul(N,K)-np.matmul(K,N)+np.matmul(np.matmul(N,K),N)\n",
    "val,vec=np.linalg.eig(K_)\n",
    "# print(np.matmul(K_,vec[:,0]))\n",
    "# print(val[0]*vec[:,0])\n",
    "# print(val.shape)\n",
    "vec_=np.multiply(vec,1/np.sqrt(val))\n",
    "# print(\"lambda*x\",np.matmul(vec_,np.diag(val)))\n",
    "# print(\"Ax\",np.matmul(K_,vec_))\n",
    "new=np.matmul(K_,vec_)\n",
    "print(vec_)"
   ]
  },
  {
   "cell_type": "code",
   "execution_count": 5,
   "metadata": {
    "ExecuteTime": {
     "end_time": "2019-02-12T06:50:33.502087Z",
     "start_time": "2019-02-12T06:50:33.496997Z"
    },
    "nbpresent": {
     "id": "4eb7fcdf-ff10-4937-b5df-fdc7369bab21"
    }
   },
   "outputs": [
    {
     "name": "stdout",
     "output_type": "stream",
     "text": [
      "[[ 2  6 12]\n",
      " [ 8 18 32]\n",
      " [ 2  6 12]]\n",
      "[[1.         1.         1.        ]\n",
      " [4.         3.         2.66666667]\n",
      " [1.         1.         1.        ]]\n",
      "[[1.         1.         1.        ]\n",
      " [4.         3.         2.66666667]\n",
      " [1.         1.         1.        ]]\n"
     ]
    }
   ],
   "source": [
    "import numpy as np\n",
    "a=np.array([[1,2,3],[4,6,8],[1,2,3]])\n",
    "b=np.array([2,3,4])\n",
    "print(np.multiply(a,b))\n",
    "c=np.array([1,4,9])\n",
    "d=1/np.sqrt(c)\n",
    "print(np.multiply(d,a))\n",
    "print(np.multiply(a,d))"
   ]
  },
  {
   "cell_type": "code",
   "execution_count": 54,
   "metadata": {
    "ExecuteTime": {
     "end_time": "2019-02-03T04:08:17.092652Z",
     "start_time": "2019-02-03T04:08:17.085106Z"
    },
    "nbpresent": {
     "id": "9e2427fa-dc50-437e-a7a3-d47f01f0a9f4"
    }
   },
   "outputs": [
    {
     "name": "stdout",
     "output_type": "stream",
     "text": [
      "[36.26395064  1.90271602]\n",
      "[[-0.49122131  0.48054537]\n",
      " [-2.19479974 -0.56722395]\n",
      " [-3.57047361 -0.2393194 ]\n",
      " [ 0.36056791  1.00443002]\n",
      " [ 2.26012644 -0.17526374]\n",
      " [ 3.63580031 -0.5031683 ]]\n"
     ]
    }
   ],
   "source": [
    "import numpy as np\n",
    "from sklearn.decomposition import PCA\n",
    "# X = np.array([[-1, -1], [-2, -1], [-3, -2], [1, 1], [2, 1], [3, 2]])\n",
    "X = np.array([[0, -1], [-2, -1], [-3, -2], [1, -1], [2, 1], [3, 2]])\n",
    "pca = PCA(n_components=2)\n",
    "pca.fit(X)\n",
    "\n",
    "# print(pca.explained_variance_ratio_)  \n",
    "\n",
    "print(np.square(pca.singular_values_))\n",
    "\n",
    "print(pca.transform(X))"
   ]
  },
  {
   "cell_type": "code",
   "execution_count": 62,
   "metadata": {
    "ExecuteTime": {
     "end_time": "2019-02-03T04:21:04.678937Z",
     "start_time": "2019-02-03T04:21:04.672746Z"
    },
    "nbpresent": {
     "id": "146c6f4c-5bb6-4257-8a2d-68210c7dc26d"
    }
   },
   "outputs": [
    {
     "name": "stdout",
     "output_type": "stream",
     "text": [
      "con: [[26.83333333 15.33333333]\n",
      " [15.33333333 11.33333333]]\n",
      "val: [36.26395064  1.90271602]\n",
      "vec: [[ 0.85178921 -0.52388466]\n",
      " [ 0.52388466  0.85178921]]\n",
      "new: [[-0.49122131 -0.48054537]\n",
      " [-2.19479974  0.56722395]\n",
      " [-3.57047361  0.2393194 ]\n",
      " [ 0.36056791 -1.00443002]\n",
      " [ 2.26012644  0.17526374]\n",
      " [ 3.63580031  0.5031683 ]]\n"
     ]
    }
   ],
   "source": [
    "# Y=np.array([[-1,-1],[-2,-1],[-3,-2],[1,1],[2,1],[3,2]])\n",
    "Y=np.array([[0,-1],[-2,-1],[-3,-2],[1,-1],[2,1],[3,2]])\n",
    "Y=Y-np.mean(Y,axis=0)\n",
    "con=np.matmul(np.transpose(Y),Y)\n",
    "val,vec=np.linalg.eig(con)\n",
    "new=np.matmul(Y,vec)\n",
    "print(\"con:\",con)\n",
    "print(\"val:\",val)\n",
    "print(\"vec:\",vec)\n",
    "print(\"new:\",new)"
   ]
  },
  {
   "cell_type": "code",
   "execution_count": 70,
   "metadata": {
    "ExecuteTime": {
     "end_time": "2019-02-03T12:13:59.180258Z",
     "start_time": "2019-02-03T12:13:59.143744Z"
    },
    "nbpresent": {
     "id": "e3d6c46d-bbd1-4f99-954c-7dd876c9cb08"
    }
   },
   "outputs": [
    {
     "name": "stdout",
     "output_type": "stream",
     "text": [
      "[array([ 1.9027169, 36.26395  ], dtype=float32), array([[-0.5238846 ,  0.85178924],\n",
      "       [ 0.85178924,  0.5238846 ]], dtype=float32)]\n",
      "[array([36.26395  ,  1.9027169], dtype=float32), array([[ 0.85178924,  0.5238846 ],\n",
      "       [-0.5238846 ,  0.85178924]], dtype=float32)]\n",
      "[[-0.49122125 -0.48054537]\n",
      " [-2.1947997   0.56722385]\n",
      " [-3.5704737   0.23931932]\n",
      " [ 0.36056796 -1.0044299 ]\n",
      " [ 2.2601266   0.17526394]\n",
      " [ 3.6358001   0.5031686 ]]\n"
     ]
    }
   ],
   "source": [
    "a=tf.constant([[0.0,-1],[-2,-1],[-3,-2],[1,-1],[2,1],[3,2]])\n",
    "a=a-tf.reduce_mean(a,axis=0)\n",
    "conv=tf.matmul(tf.transpose(a),a)\n",
    "val,vec=tf.self_adjoint_eig(conv)\n",
    "\n",
    "val_=tf.reverse(val,axis=[0])\n",
    "vec_=tf.reverse(vec,axis=[0])\n",
    "\n",
    "new=tf.matmul(a,tf.transpose(vec_))\n",
    "\n",
    "sess=tf.Session()\n",
    "print(sess.run([val,vec]))\n",
    "print(sess.run([val_,vec_]))\n",
    "print(sess.run(new))\n"
   ]
  },
  {
   "cell_type": "code",
   "execution_count": 49,
   "metadata": {
    "ExecuteTime": {
     "end_time": "2019-02-03T03:15:54.270450Z",
     "start_time": "2019-02-03T03:15:54.265619Z"
    },
    "nbpresent": {
     "id": "77d6c0f1-0cd9-46fa-9f82-6c10529a8375"
    }
   },
   "outputs": [
    {
     "name": "stdout",
     "output_type": "stream",
     "text": [
      "[[ 6  6]\n",
      " [15 15]]\n"
     ]
    }
   ],
   "source": [
    "a=np.array([[1,2,3],[4,5,6]])\n",
    "b=np.array([[1,1],[1,1],[1,1]])\n",
    "print(np.matmul(a,b))"
   ]
  },
  {
   "cell_type": "code",
   "execution_count": 53,
   "metadata": {
    "ExecuteTime": {
     "end_time": "2019-02-03T03:18:22.432401Z",
     "start_time": "2019-02-03T03:18:22.427404Z"
    },
    "nbpresent": {
     "id": "14766219-5503-49a6-be7b-3958db34bc63"
    }
   },
   "outputs": [
    {
     "name": "stdout",
     "output_type": "stream",
     "text": [
      "(array([ 4., -1.]), array([[ 0.83205029, -0.70710678],\n",
      "       [ 0.5547002 ,  0.70710678]]))\n"
     ]
    }
   ],
   "source": [
    "c=np.array([[2,3],[2,1]])\n",
    "print(np.linalg.eig(c))"
   ]
  },
  {
   "cell_type": "code",
   "execution_count": 146,
   "metadata": {
    "ExecuteTime": {
     "end_time": "2019-01-08T08:19:28.070563Z",
     "start_time": "2019-01-08T08:19:26.621871Z"
    },
    "nbpresent": {
     "id": "d061bf36-5aa0-4228-bc76-7b76346b9f71"
    }
   },
   "outputs": [
    {
     "data": {
      "text/plain": [
       "(0, 200)"
      ]
     },
     "execution_count": 146,
     "metadata": {},
     "output_type": "execute_result"
    },
    {
     "data": {
      "image/png": "[encoded data removed]",
      "text/plain": [
       "<matplotlib.figure.Figure at 0x1138b39e8>"
      ]
     },
     "metadata": {
      "needs_background": "light"
     },
     "output_type": "display_data"
    },
    {
     "data": {
      "image/png": "[encoded data removed]",
      "text/plain": [
       "<matplotlib.figure.Figure at 0x116b302b0>"
      ]
     },
     "metadata": {
      "needs_background": "light"
     },
     "output_type": "display_data"
    },
    {
     "data": {
      "image/png": "[encoded data removed]",
      "text/plain": [
       "<matplotlib.figure.Figure at 0x113991940>"
      ]
     },
     "metadata": {
      "needs_background": "light"
     },
     "output_type": "display_data"
    },
    {
     "data": {
      "image/png": "[encoded data removed]",
      "text/plain": [
       "<matplotlib.figure.Figure at 0x113d942e8>"
      ]
     },
     "metadata": {
      "needs_background": "light"
     },
     "output_type": "display_data"
    },
    {
     "data": {
      "image/png": "[encoded data removed]",
      "text/plain": [
       "<matplotlib.figure.Figure at 0x116290240>"
      ]
     },
     "metadata": {
      "needs_background": "light"
     },
     "output_type": "display_data"
    },
    {
     "data": {
      "image/png": "[encoded data removed]",
      "text/plain": [
       "<matplotlib.figure.Figure at 0x1162bd240>"
      ]
     },
     "metadata": {
      "needs_background": "light"
     },
     "output_type": "display_data"
    },
    {
     "data": {
      "image/png": "[encoded data removed]",
      "text/plain": [
       "<matplotlib.figure.Figure at 0x116beb9e8>"
      ]
     },
     "metadata": {
      "needs_background": "light"
     },
     "output_type": "display_data"
    },
    {
     "data": {
      "image/png": "[encoded data removed]",
      "text/plain": [
       "<matplotlib.figure.Figure at 0x116023518>"
      ]
     },
     "metadata": {
      "needs_background": "light"
     },
     "output_type": "display_data"
    }
   ],
   "source": [
    "import scipy.io as sio\n",
    "import matplotlib.pyplot as plt\n",
    "from PIL import Image\n",
    "\n",
    "x0=sio.loadmat('../data/transpeed')['transpeed'][0:4612].flatten()\n",
    "y0=sio.loadmat('../data/trainclass')['trainclass'][0:4612].flatten()\n",
    "x1=sio.loadmat('../data/testspeed')['cyc_mph1'][0:4479].flatten()\n",
    "y1=sio.loadmat('../data/testclass')['testcyc'][0:4479].flatten()\n",
    "\n",
    "input_w=200\n",
    "step=10\n",
    "N=3\n",
    "dataset=np.zeros([N,input_w,input_w])\n",
    "for i in range(N):\n",
    "    dataset[i,(x0[i*step:i*step+input_w].astype(int)),range(input_w)]=1\n",
    "\n",
    "\n",
    "plt.figure(1)\n",
    "ax1=plt.subplot(211)\n",
    "plt.plot(range(len(x0)),x0)\n",
    "plt.xlabel('Samples')\n",
    "plt.ylabel('trainspeed')\n",
    "plt.xlim(0,len(x0))\n",
    "# plt.ylim(0,1)\n",
    "ax2=plt.subplot(212)\n",
    "plt.plot(range(len(y0)),y0)\n",
    "plt.xlabel('Samples')\n",
    "plt.ylabel('train label')\n",
    "plt.xlim(0,len(y0))\n",
    "\n",
    "plt.figure(2)\n",
    "ax1=plt.subplot(211)\n",
    "plt.plot(range(len(x1)),x1)\n",
    "plt.xlabel('Samples')\n",
    "plt.ylabel('testspeed')\n",
    "plt.xlim(0,len(x1))\n",
    "# plt.ylim(0,1)\n",
    "ax2=plt.subplot(212)\n",
    "plt.plot(range(len(y1)),y1)\n",
    "plt.xlabel('Samples')\n",
    "plt.ylabel('test label')\n",
    "plt.xlim(0,len(y1))\n",
    "\n",
    "plt.figure(3)\n",
    "img = Image.fromarray(dataset[0].astype('uint8')).convert('L')\n",
    "plt.imshow(img,cmap='gray',origin='lower')\n",
    "plt.figure(3_1)\n",
    "plt.plot(x0[:200])\n",
    "plt.xlim(0,200)\n",
    "plt.ylim(0,200)\n",
    "\n",
    "plt.figure(4)\n",
    "img = Image.fromarray(dataset[1].astype('uint8')).convert('L')\n",
    "plt.imshow(img,cmap='gray',origin='lower')\n",
    "plt.figure(4_1)\n",
    "plt.plot(x0[10:210])\n",
    "plt.xlim(0,200)\n",
    "plt.ylim(0,200)\n",
    "\n",
    "plt.figure(5)\n",
    "img = Image.fromarray(dataset[2].astype('uint8')).convert('L')\n",
    "plt.imshow(img,cmap='gray',origin='lower')\n",
    "plt.figure(5_1)\n",
    "plt.plot(x0[20:220])\n",
    "plt.xlim(0,200)\n",
    "plt.ylim(0,200)"
   ]
  },
  {
   "cell_type": "code",
   "execution_count": 206,
   "metadata": {
    "ExecuteTime": {
     "end_time": "2019-01-08T14:29:25.429931Z",
     "start_time": "2019-01-08T14:29:25.422873Z"
    },
    "nbpresent": {
     "id": "6321921b-98df-4795-a2db-7afe31244fb6"
    }
   },
   "outputs": [
    {
     "name": "stdout",
     "output_type": "stream",
     "text": [
      "[[[1 2 3 4 5]\n",
      "  [2 3 4 5 6]\n",
      "  [4 5 6 7 8]\n",
      "  [1 4 5 7 4]\n",
      "  [4 2 6 8 0]]\n",
      "\n",
      " [[1 2 3 4 5]\n",
      "  [2 3 4 5 6]\n",
      "  [4 5 6 7 8]\n",
      "  [1 4 5 7 4]\n",
      "  [4 2 6 8 0]]]\n",
      "[[[6. 8.]\n",
      "  [6. 8.]]\n",
      "\n",
      " [[6. 8.]\n",
      "  [6. 8.]]]\n"
     ]
    }
   ],
   "source": [
    "# pool\n",
    "import numpy as np\n",
    "a=np.array([[[1,2,3,4,5],[2,3,4,5,6],[4,5,6,7,8],[1,4,5,7,4],[4,2,6,8,0]],[[1,2,3,4,5],[2,3,4,5,6],[4,5,6,7,8],[1,4,5,7,4],[4,2,6,8,0]]])\n",
    "data_w=5\n",
    "filter_w=3\n",
    "stride=2\n",
    "# padding=5%stride\n",
    "# a_padding=np.lib.pad(a,pad_width=((padding,padding),(padding,padding)), mode='constant', constant_values=1)\n",
    "data_width_=int((data_w-filter_w)/stride)+1\n",
    "a_=np.zeros((2,data_width_,data_width_),dtype='float')\n",
    "\n",
    "for k in range(2):\n",
    "    for i in range(data_width_):\n",
    "        for j in range(data_width_):\n",
    "            a_[k,i,j]=np.max(a[k,i*stride:i*stride+filter_w,j*stride:j*stride+filter_w])\n",
    "\n",
    "# for i in range(data_width_):\n",
    "#     for j in range(data_width_):\n",
    "#         a_[i,j]=np.max(a[stride*i:stride*i+filter_w,stride*j:stride*j+filter_w])\n",
    "\n",
    "print(a)\n",
    "print(a_)"
   ]
  },
  {
   "cell_type": "code",
   "execution_count": 156,
   "metadata": {
    "ExecuteTime": {
     "end_time": "2019-01-08T09:03:45.768566Z",
     "start_time": "2019-01-08T09:03:45.762469Z"
    },
    "nbpresent": {
     "id": "d0bde1a3-a30f-45d5-ab0b-195a279dc70b"
    }
   },
   "outputs": [
    {
     "name": "stdout",
     "output_type": "stream",
     "text": [
      "[[2.1 3.9]\n",
      " [2.1 3.9]\n",
      " [2.1 3.9]]\n",
      "[[0.  3.9]\n",
      " [2.1 3.9]\n",
      " [2.1 0. ]]\n",
      "[2 3]\n",
      "2\n"
     ]
    }
   ],
   "source": [
    "dataset=np.zeros([3,2])\n",
    "data=np.array([2.1,3.9])\n",
    "for i in range(3):\n",
    "    dataset[i]=data\n",
    "print(dataset)\n",
    "dataset[(0,2),(0,1)]=0\n",
    "print(dataset)\n",
    "dataset_=dataset.astype(int)\n",
    "print(data[0:].astype(int))\n",
    "print(data.size)"
   ]
  },
  {
   "cell_type": "code",
   "execution_count": 155,
   "metadata": {
    "ExecuteTime": {
     "end_time": "2019-01-08T08:30:46.868391Z",
     "start_time": "2019-01-08T08:30:46.739202Z"
    },
    "nbpresent": {
     "id": "84c27cc5-c894-414d-aa22-e0e9fdf9f8de"
    }
   },
   "outputs": [
    {
     "data": {
      "image/png": "[encoded data removed]",
      "text/plain": [
       "<matplotlib.figure.Figure at 0x1158eb518>"
      ]
     },
     "metadata": {
      "needs_background": "light"
     },
     "output_type": "display_data"
    }
   ],
   "source": [
    "from PIL import Image\n",
    "# img=np.array([[0,0,0,0],[255,255,255,255],[0,0,0,0],[255,255,255,255]])\n",
    "img=np.array([[0,0],[100,100],[0,0],[0,0]])\n",
    "img = Image.fromarray(img.astype('uint8')).convert('L')\n",
    "plt.imshow(img,cmap='gray',origin='lower')\n",
    "plt.show()"
   ]
  },
  {
   "cell_type": "code",
   "execution_count": 160,
   "metadata": {
    "ExecuteTime": {
     "end_time": "2019-01-08T09:07:15.233718Z",
     "start_time": "2019-01-08T09:07:15.228449Z"
    },
    "nbpresent": {
     "id": "33408bd9-11be-487c-97d3-acdabc14b644"
    }
   },
   "outputs": [
    {
     "name": "stdout",
     "output_type": "stream",
     "text": [
      "(4612,)\n"
     ]
    }
   ],
   "source": [
    "trainspeed=sio.loadmat('../data/transpeed')['transpeed'].flatten()\n",
    "print(trainspeed.shape)"
   ]
  },
  {
   "cell_type": "code",
   "execution_count": 170,
   "metadata": {
    "ExecuteTime": {
     "end_time": "2019-01-08T11:45:56.372869Z",
     "start_time": "2019-01-08T11:45:56.369262Z"
    },
    "nbpresent": {
     "id": "164c85a4-7c3f-44b6-bb09-b89230169aad"
    }
   },
   "outputs": [
    {
     "name": "stdout",
     "output_type": "stream",
     "text": [
      "[[2]\n",
      " [2]\n",
      " [2]\n",
      " [2]]\n"
     ]
    }
   ],
   "source": [
    "x=np.array([1,1,1,2,2,2,2,3,3,3,3,])\n",
    "index=np.argwhere(x==2).flatten()\n",
    "print(x[index])"
   ]
  },
  {
   "cell_type": "code",
   "execution_count": 4,
   "metadata": {
    "ExecuteTime": {
     "end_time": "2019-01-12T14:32:15.976268Z",
     "start_time": "2019-01-12T14:32:15.964160Z"
    },
    "nbpresent": {
     "id": "772b9894-11e8-4fd8-8253-111f2ff810f7"
    }
   },
   "outputs": [
    {
     "name": "stdout",
     "output_type": "stream",
     "text": [
      "[[ 1. 10.  5.  4.]\n",
      " [ 3.  2.  7.  6.]\n",
      " [ 1.  2.  3.  4.]]\n",
      "[[-0.66666667  5.33333333  0.         -0.66666667]\n",
      " [ 1.33333333 -2.66666667  2.          1.33333333]\n",
      " [-0.66666667 -2.66666667 -2.         -0.66666667]]\n",
      "[[-0.6666666  5.3333335  0.         0.       ]\n",
      " [ 1.3333334 -2.6666665  2.         0.       ]\n",
      " [-0.6666666 -2.6666665 -2.         0.       ]]\n",
      "[[ 0.          0.          0.         -0.66666667]\n",
      " [ 0.          0.          0.          1.33333333]\n",
      " [ 0.          0.          0.         -0.66666667]]\n"
     ]
    }
   ],
   "source": [
    "import tensorflow as tf\n",
    "import numpy as np\n",
    "\n",
    "tf.reset_default_graph()\n",
    "\n",
    "def Next(array):\n",
    "    norm=array-np.ones((array.shape[0],array.shape[0])).dot(array)/array.shape[0]\n",
    "    norm_1=array-np.mean(array,axis=0)\n",
    "    norm_1[:,-1:]=0\n",
    "    print(norm)\n",
    "    print(norm_1)\n",
    "    norm[:,:-1]=0\n",
    "    print(norm)\n",
    "#     u,s,_=np.linalg.svd(norm,full_matrices=False)\n",
    "#     sigma=np.diag(s)\n",
    "#     s_2_norm=np.square(s)/np.sum(np.square(s))\n",
    "#     ladder=np.cumsum(s_2_norm)\n",
    "#     keep_dimension=next(i for i,value in enumerate(ladder) if value>=0.9)+1\n",
    "#     pca=u.dot(sigma[:,:keep_dimension])\n",
    "#     pca_padding=np.pad(pca,((0,0),(0,norm.shape[1]-keep_dimension)),'constant')\n",
    "    return array\n",
    "    \n",
    "    \n",
    "a=tf.constant([[1.,10.,5,4],[3,2,7,6],[1,2,3,4]],dtype=tf.float32)\n",
    "index=tf.py_func(Next,[a],tf.float32)\n",
    "\n",
    "with tf.Session() as sess:\n",
    "    print(sess.run(a))\n",
    "    sess.run(index)"
   ]
  },
  {
   "cell_type": "code",
   "execution_count": 132,
   "metadata": {
    "ExecuteTime": {
     "end_time": "2019-02-13T13:52:15.819181Z",
     "start_time": "2019-02-13T13:52:15.806262Z"
    },
    "nbpresent": {
     "id": "c6a4afd5-824c-4949-ba27-fb8c99a00820"
    }
   },
   "outputs": [
    {
     "name": "stdout",
     "output_type": "stream",
     "text": [
      "[[1 2 3 0 0]\n",
      " [4 5 6 0 0]]\n",
      "0\n"
     ]
    }
   ],
   "source": [
    "# tf.pad and tf.maximum\n",
    "import tensorflow as tf\n",
    "\n",
    "tf.reset_default_graph()\n",
    "sess=tf.Session()\n",
    "\n",
    "a=tf.constant([[1,2,3],[4,5,6]])\n",
    "b=tf.pad(a,[[0,0],[0,2]],constant_values=0)\n",
    "c=tf.pad(a,[[1,0],[0,0]],constant_values=0)\n",
    "d=tf.constant(-2)\n",
    "f=tf.maximum(d,0)\n",
    "print(sess.run(b))\n",
    "print(sess.run(f))"
   ]
  },
  {
   "cell_type": "code",
   "execution_count": null,
   "metadata": {
    "nbpresent": {
     "id": "d573a1a0-b356-49e8-b142-645c91075ffa"
    }
   },
   "outputs": [],
   "source": []
  },
  {
   "cell_type": "code",
   "execution_count": 49,
   "metadata": {
    "ExecuteTime": {
     "end_time": "2019-04-25T00:18:14.297765Z",
     "start_time": "2019-04-25T00:18:14.294143Z"
    },
    "nbpresent": {
     "id": "694005d3-c9f7-4910-af0d-79208f29504f"
    }
   },
   "outputs": [],
   "source": [
    "# # kpca projection by sklearn\n",
    "# import matplotlib.pyplot as plt\n",
    "# from sklearn.decomposition import KernelPCA\n",
    "\n",
    "# # X = np.array([[0, -1.0], [-2, -1], [-3, -2], [11, -15], [20, 10], [3, 2]])\n",
    "# X=trainset_.reshape([-1,1600])\n",
    "# transformer = KernelPCA(n_components=4,kernel='rbf')\n",
    "# X_kpca = transformer.fit_transform(X)\n",
    "# reds=trainclass==1 \n",
    "# blues=trainclass==2\n",
    "# greens=trainclass==3\n",
    "# yellows=trainclass==4\n",
    "\n",
    "# # plot results\n",
    "# plt.figure()\n",
    "# # plt.subplot(2,2,1,aspect='auto')\n",
    "# plt.title('combined four types')\n",
    "# plt.scatter(X_kpca[reds, 0], X_kpca[reds, 1], c=\"red\",s=20, edgecolor='k')\n",
    "# plt.scatter(X_kpca[blues, 0], X_kpca[blues, 1], c=\"blue\",s=20, edgecolor='k')\n",
    "# plt.scatter(X_kpca[greens, 0], X_kpca[greens, 1], c=\"green\",s=20, edgecolor='k')\n",
    "# plt.scatter(X_kpca[yellows, 0], X_kpca[yellows, 1], c=\"yellow\",s=20, edgecolor='k')\n",
    "# plt.xlabel(\"$x_1$\")\n",
    "# plt.ylabel(\"$x_2$\")\n",
    "# plt.show()\n",
    "\n"
   ]
  }
 ],
 "metadata": {
  "kernelspec": {
   "display_name": "Python [conda env:py3.6]",
   "language": "python",
   "name": "conda-env-py3.6-py"
  },
  "language_info": {
   "codemirror_mode": {
    "name": "ipython",
    "version": 3
   },
   "file_extension": ".py",
   "mimetype": "text/x-python",
   "name": "python",
   "nbconvert_exporter": "python",
   "pygments_lexer": "ipython3",
   "version": "3.6.7"
  },
  "toc": {
   "base_numbering": 1,
   "nav_menu": {},
   "number_sections": true,
   "sideBar": true,
   "skip_h1_title": false,
   "title_cell": "Table of Contents",
   "title_sidebar": "Contents",
   "toc_cell": false,
   "toc_position": {
    "height": "calc(100% - 180px)",
    "left": "10px",
    "top": "150px",
    "width": "187px"
   },
   "toc_section_display": true,
   "toc_window_display": true
  }
 },
 "nbformat": 4,
 "nbformat_minor": 2
}
