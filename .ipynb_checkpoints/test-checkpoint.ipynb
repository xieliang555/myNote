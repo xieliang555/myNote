{
 "cells": [
  {
   "cell_type": "code",
   "execution_count": 21,
   "metadata": {},
   "outputs": [],
   "source": [
    "import tensorflow as tf\n",
    "import trfl"
   ]
  },
  {
   "cell_type": "code",
   "execution_count": 24,
   "metadata": {},
   "outputs": [],
   "source": [
    "# Q-values for the previous and next timesteps, shape [batch_size, num_actions].\n",
    "tf.reset_default_graph()\n",
    "q_tm1 = tf.get_variable(\n",
    "    \"q_tm1\", initializer=[[1., 1., 0.], [1., 2., 0.]], dtype=tf.float32 )\n",
    "q_t = tf.get_variable(\n",
    "    \"q_t\", initializer=[[0., 1., 0.], [1., 2., 0.]], dtype=tf.float32)\n",
    "\n",
    "# Action indices, discounts and rewards, shape [batch_size].\n",
    "a_tm1 = tf.constant([0, 1], dtype=tf.int32)\n",
    "r_t = tf.constant([1, 1], dtype=tf.float32)\n",
    "pcont_t = tf.constant([0, 1], dtype=tf.float32)  # the discount factor\n",
    "\n",
    "# Q-learning loss, and auxiliary data.\n",
    "loss, q_learning = trfl.qlearning(q_tm1, a_tm1, r_t, pcont_t, q_t)\n",
    "# with tf.Session() as sess:\n",
    "#     result=sess.run(loss)\n",
    "#     print(result)"
   ]
  },
  {
   "cell_type": "code",
   "execution_count": 3,
   "metadata": {},
   "outputs": [],
   "source": [
    "loss, _ = trfl.qlearning(q_tm1, a_tm1, r_t, pcont_t, q_t)\n",
    "loss = trfl.qlearning(q_tm1, a_tm1, r_t, pcont_t, q_t).loss"
   ]
  },
  {
   "cell_type": "code",
   "execution_count": 4,
   "metadata": {},
   "outputs": [],
   "source": [
    "reduced_loss = tf.reduce_mean(loss)\n",
    "optimizer = tf.train.AdamOptimizer(learning_rate=0.1)\n",
    "train_op = optimizer.minimize(reduced_loss)"
   ]
  }
 ],
 "metadata": {
  "kernelspec": {
   "display_name": "Python [conda env:py3.6]",
   "language": "python",
   "name": "conda-env-py3.6-py"
  },
  "language_info": {
   "codemirror_mode": {
    "name": "ipython",
    "version": 3
   },
   "file_extension": ".py",
   "mimetype": "text/x-python",
   "name": "python",
   "nbconvert_exporter": "python",
   "pygments_lexer": "ipython3",
   "version": "3.6.7"
  },
  "toc": {
   "base_numbering": 1,
   "nav_menu": {},
   "number_sections": true,
   "sideBar": true,
   "skip_h1_title": false,
   "title_cell": "Table of Contents",
   "title_sidebar": "Contents",
   "toc_cell": false,
   "toc_position": {},
   "toc_section_display": true,
   "toc_window_display": false
  }
 },
 "nbformat": 4,
 "nbformat_minor": 2
}
