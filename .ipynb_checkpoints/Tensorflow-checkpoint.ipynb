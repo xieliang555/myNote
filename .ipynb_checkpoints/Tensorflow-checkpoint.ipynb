{
 "cells": [
  {
   "cell_type": "markdown",
   "metadata": {},
   "source": [
    "# 解析Mnist数据集"
   ]
  },
  {
   "cell_type": "code",
   "execution_count": 64,
   "metadata": {
    "scrolled": true
   },
   "outputs": [
    {
     "name": "stdout",
     "output_type": "stream",
     "text": [
      "trainingNumber labelShape imageShape\n",
      "60000 (60000,) (60000, 784)\n",
      "5\n"
     ]
    },
    {
     "data": {
      "image/png": "[encoded data removed]",
      "text/plain": [
       "<matplotlib.figure.Figure at 0x132b716a0>"
      ]
     },
     "metadata": {
      "needs_background": "light"
     },
     "output_type": "display_data"
    },
    {
     "name": "stdout",
     "output_type": "stream",
     "text": [
      "testingNumber labelShape imageShape\n",
      "10000 (10000,) (10000, 784)\n",
      "7\n"
     ]
    },
    {
     "data": {
      "image/png": "[encoded data removed]",
      "text/plain": [
       "<matplotlib.figure.Figure at 0x121d0f1d0>"
      ]
     },
     "metadata": {
      "needs_background": "light"
     },
     "output_type": "display_data"
    }
   ],
   "source": [
    "import struct\n",
    "import numpy as np\n",
    "import matplotlib.pyplot as plt\n",
    "import os\n",
    "\n",
    "# Function: transform binary-represented image labels into decimal-represented (array) image labels\n",
    "# http://yann.lecun.com/exdb/mnist/  ：minst数据集描述\n",
    "# input: binary file  \n",
    "# output: the number of images and the array represented image labels\n",
    "def read_labels(enter):\n",
    "    data=open(enter, 'rb').read()\n",
    "    head=struct.unpack_from('>II',data,0)\n",
    "    number=head[1]\n",
    "    numString='>'+str(number)+'B'\n",
    "    offset=struct.calcsize('>II')\n",
    "    labels=struct.unpack_from(numString, data, offset)\n",
    "    labels=np.reshape(labels, [number])\n",
    "    return number, labels\n",
    "\n",
    "# Function: transfer binary-represented image into decimal-represented (array) image \n",
    "# input: binary file\n",
    "# output: the number of images and the array represented image \n",
    "def read_images(enter):\n",
    "    data=open(enter, 'rb').read()\n",
    "    head=struct.unpack_from('>IIII',data,0)\n",
    "    number=head[1]\n",
    "    rows=head[2]\n",
    "    columns=head[3]\n",
    "    offset=struct.calcsize('>IIII')\n",
    "    numString='>'+str(number*rows*columns)+'B'\n",
    "    images=struct.unpack_from(numString, data, offset)\n",
    "    images=np.reshape(images, [number, rows*columns])\n",
    "    return number, images\n",
    "    \n",
    "\n",
    "# pwd=os.getcwd()\n",
    "# print(pwd)\n",
    "trainNum, trainL=read_labels('./data/train-labels.idx1-ubyte')\n",
    "_, trainI=read_images('./data/train-images.idx3-ubyte')\n",
    "testNum, testL=read_labels('./data/t10k-labels.idx1-ubyte')\n",
    "_, testI=read_images('./data/t10k-images.idx3-ubyte')\n",
    "print(\"trainingNumber\",\"labelShape\", \"imageShape\")\n",
    "print(trainNum, trainL.shape, trainI.shape)\n",
    "print(trainL[0])\n",
    "fig=plt.figure()\n",
    "plotwindow = fig.add_subplot(111)\n",
    "plt.imshow(trainI[0,].reshape(28,28) , cmap='gray')\n",
    "plt.show()\n",
    "print(\"testingNumber\", \"labelShape\", \"imageShape\")\n",
    "print(testNum, testL.shape, testI.shape)\n",
    "print(testL[0])\n",
    "fig=plt.figure()\n",
    "plotwindow = fig.add_subplot(111)\n",
    "plt.imshow(testI[0,].reshape(28,28) , cmap='gray')\n",
    "plt.show()"
   ]
  },
  {
   "cell_type": "markdown",
   "metadata": {},
   "source": [
    "# 构建mlp，保存模型"
   ]
  },
  {
   "cell_type": "code",
   "execution_count": 94,
   "metadata": {
    "ExecuteTime": {
     "end_time": "2018-12-09T14:22:05.436413Z",
     "start_time": "2018-12-09T14:22:02.248073Z"
    }
   },
   "outputs": [
    {
     "name": "stdout",
     "output_type": "stream",
     "text": [
      "Extracting MNIST_data/train-images-idx3-ubyte.gz\n",
      "Extracting MNIST_data/train-labels-idx1-ubyte.gz\n",
      "Extracting MNIST_data/t10k-images-idx3-ubyte.gz\n",
      "Extracting MNIST_data/t10k-labels-idx1-ubyte.gz\n",
      "Training Epoch 0, iterations: 0, Training Accuracy:  47.0%, Validation Accuracy:  28.0%,  Validation Loss: 193.682\n",
      "Training Epoch 1, iterations: 600, Training Accuracy:  90.0%, Validation Accuracy:  91.0%,  Validation Loss: 34.215\n",
      "Training Epoch 2, iterations: 1200, Training Accuracy:  95.0%, Validation Accuracy:  91.0%,  Validation Loss: 28.471\n",
      "Training Epoch 3, iterations: 1800, Training Accuracy:  95.0%, Validation Accuracy:  89.0%,  Validation Loss: 28.889\n",
      "model saved into /Users/xieliang/notebook/model/mlp-model\n",
      "0.91745454\n",
      "0.9165\n"
     ]
    }
   ],
   "source": [
    "import tensorflow as tf\n",
    "from tensorflow.examples.tutorials.mnist import input_data\n",
    "import os\n",
    "\n",
    "#多个cell重置graph\n",
    "tf.reset_default_graph()\n",
    "#mnist是一个轻量级的类。它以Numpy数组的形式存储着训练、校验和测试数据集。同时提供了一个函数，用于在迭代中获得minibatch\n",
    "mnist = input_data.read_data_sets(\"MNIST_data/\", one_hot=True)\n",
    "# 输入为二维张量，None表示第0维可以为任何值，即表示输入的batch\n",
    "x=tf.placeholder(\"float\",name=\"x\", shape=[None, 784])\n",
    "W=tf.Variable(tf.zeros([784,10]),name=\"W\")\n",
    "b=tf.Variable(tf.zeros([10]),name=\"b\")\n",
    "# +b 第一维不够自动扩展（matmul（x,W）和b的第0维长度必须相同）\n",
    "y=tf.nn.softmax(tf.matmul(x,W)+b)\n",
    "y_=tf.placeholder(\"float\",name=\"y_\", shape=[None,10])\n",
    "# *为hadamard积\n",
    "cross_entropy=-tf.reduce_sum(y_*tf.log(y))\n",
    "cost=tf.reduce_mean(cross_entropy)\n",
    "# training cross_entropy instead of cost(先求导后平均和先平均后求导是等价的)\n",
    "train_step=tf.train.GradientDescentOptimizer(0.005).minimize(cross_entropy)\n",
    "# testing\n",
    "# argmax(_y,1)指按照第1维找最大值的下标\n",
    "correct_prediction=tf.equal(tf.argmax(y_,1), tf.argmax(y, 1))\n",
    "# equal()返回布尔值，将其转化为float\n",
    "accuracy=tf.reduce_mean(tf.cast(correct_prediction, \"float\"),name=\"accuracy\")\n",
    "# 最多保存模型的一次迭代结果\n",
    "saver=tf.train.Saver(max_to_keep=1)\n",
    "\n",
    "with tf.Session() as sess:\n",
    "    sess.run(tf.global_variables_initializer())\n",
    "    for i in range(2000):\n",
    "        batch_xs, batch_ys =mnist.train.next_batch(100)\n",
    "        batch_xs_val, batch_ys_val =mnist.train.next_batch(100)\n",
    "        feed_dict_tra={x: batch_xs, y_: batch_ys}\n",
    "        feed_dict_val={x: batch_xs_val, y_: batch_ys_val}\n",
    "        sess.run(train_step, feed_dict=feed_dict_tra)\n",
    "        #每1000个iteration保存模型,graph只需保存一次\n",
    "        epoch=int(i/600)\n",
    "        if i%1000==0: \n",
    "            if epoch>0:\n",
    "                saver.save(sess,'./model/mlp-model',write_meta_graph=False)\n",
    "            else:\n",
    "                saver.save(sess,'./model/mlp-model',write_meta_graph=True)\n",
    "        #每个epoch打印训练信息\n",
    "        if i%(600)==0:\n",
    "            acc=sess.run(accuracy,feed_dict=feed_dict_tra)\n",
    "            acc_val=sess.run(accuracy,feed_dict=feed_dict_val)\n",
    "            val_loss=sess.run(cost,feed_dict=feed_dict_val)\n",
    "            msg = \"Training Epoch {0}, iterations: {1}, Training Accuracy: {2:>6.1%}, Validation Accuracy: {3:>6.1%},  Validation Loss: {4:.3f}\"\n",
    "            print(msg.format(epoch,i,acc,acc_val,val_loss))\n",
    "            \n",
    "    #print(batch_xs.shape)\n",
    "    print('model saved into'+' '+str(os.getcwd())+'/model/mlp-model')\n",
    "    print(sess.run(accuracy, feed_dict={x: mnist.train.images, y_:  mnist.train.labels}))\n",
    "    print(sess.run(accuracy, feed_dict={x: mnist.test.images, y_: mnist.test.labels}))\n",
    "    summary_writer = tf.summary.FileWriter(\"/Users/xieliang/tensorboard/log\", sess.graph)\n",
    "    "
   ]
  },
  {
   "cell_type": "markdown",
   "metadata": {},
   "source": [
    "# 多graph交互"
   ]
  },
  {
   "cell_type": "code",
   "execution_count": 87,
   "metadata": {
    "ExecuteTime": {
     "end_time": "2018-12-09T13:55:51.366680Z",
     "start_time": "2018-12-09T13:55:51.345827Z"
    }
   },
   "outputs": [
    {
     "name": "stdout",
     "output_type": "stream",
     "text": [
      "[ 7 10]\n",
      "False\n",
      "True\n",
      "3\n"
     ]
    }
   ],
   "source": [
    "import tensorflow as tf\n",
    "tf.reset_default_graph()\n",
    "# 默认graph\n",
    "m=[1,2]\n",
    "x=tf.placeholder(\"int32\",shape=[2])\n",
    "a=tf.constant([1,2])\n",
    "r=a+x\n",
    "\n",
    "# 新建graph\n",
    "g1=tf.Graph()\n",
    "with g1.as_default():\n",
    "    b=tf.constant([5,6])\n",
    "    c=m+b\n",
    "    \n",
    "\n",
    "\n",
    "sess1=tf.Session(graph=tf.get_default_graph())\n",
    "sess2=tf.Session(graph=g1)\n",
    "out=sess1.run(r,feed_dict={x:sess2.run(c)}) \n",
    "print(out)\n",
    "    \n",
    "print(x.graph is g1)\n",
    "print(x.graph is tf.get_default_graph())\n",
    "print(g1.version)\n",
    "summary_writer = tf.summary.FileWriter(\"/Users/xieliang/tensorboard/log\", sess.graph)"
   ]
  },
  {
   "cell_type": "markdown",
   "metadata": {},
   "source": [
    "# 载入mlp模型：graph+variable"
   ]
  },
  {
   "cell_type": "code",
   "execution_count": 31,
   "metadata": {
    "ExecuteTime": {
     "end_time": "2018-11-29T13:51:06.302742Z",
     "start_time": "2018-11-29T13:51:05.673034Z"
    }
   },
   "outputs": [
    {
     "name": "stdout",
     "output_type": "stream",
     "text": [
      "Extracting MNIST_data/train-images-idx3-ubyte.gz\n",
      "Extracting MNIST_data/train-labels-idx1-ubyte.gz\n",
      "Extracting MNIST_data/t10k-images-idx3-ubyte.gz\n",
      "Extracting MNIST_data/t10k-labels-idx1-ubyte.gz\n",
      "INFO:tensorflow:Restoring parameters from ./model/mlp-model\n",
      "0.9152727\n",
      "0.915\n"
     ]
    }
   ],
   "source": [
    "import tensorflow as tf\n",
    "from tensorflow.examples.tutorials.mnist import input_data\n",
    "\n",
    "#jupyter的cell不是互相独立的，需要重置graph\n",
    "tf.reset_default_graph()\n",
    "\n",
    "mnist = input_data.read_data_sets(\"MNIST_data/\", one_hot=True)\n",
    "graph=tf.get_default_graph()\n",
    "sess3=tf.Session()\n",
    "new_saver=tf.train.import_meta_graph('./model/mlp-model.meta')\n",
    "new_saver.restore(sess3,tf.train.latest_checkpoint('./model/'))\n",
    "accuracy=graph.get_tensor_by_name(\"accuracy:0\")\n",
    "x=graph.get_tensor_by_name(\"x:0\")\n",
    "y_=graph.get_tensor_by_name(\"y_:0\")\n",
    "print(sess3.run(accuracy,feed_dict={x:mnist.train.images,y_:mnist.train.labels}))\n",
    "print(sess3.run(accuracy,feed_dict={x:mnist.test.images,y_:mnist.test.labels}))"
   ]
  },
  {
   "cell_type": "markdown",
   "metadata": {},
   "source": [
    "# 载入mlp模型：variable"
   ]
  },
  {
   "cell_type": "code",
   "execution_count": 7,
   "metadata": {
    "ExecuteTime": {
     "end_time": "2018-12-21T02:31:35.881736Z",
     "start_time": "2018-12-21T02:31:35.133518Z"
    }
   },
   "outputs": [
    {
     "name": "stdout",
     "output_type": "stream",
     "text": [
      "Extracting MNIST_data/train-images-idx3-ubyte.gz\n",
      "Extracting MNIST_data/train-labels-idx1-ubyte.gz\n",
      "Extracting MNIST_data/t10k-images-idx3-ubyte.gz\n",
      "Extracting MNIST_data/t10k-labels-idx1-ubyte.gz\n",
      "INFO:tensorflow:Restoring parameters from ./model/mlp-model\n",
      "0.9153636\n",
      "0.9188\n",
      "None\n"
     ]
    }
   ],
   "source": [
    "import tensorflow as tf\n",
    "from tensorflow.examples.tutorials.mnist import  input_data\n",
    "  \n",
    "tf.reset_default_graph()\n",
    "mnist=input_data.read_data_sets(\"MNIST_data/\",one_hot=True)\n",
    "x=tf.placeholder(\"float\",shape=[None,784])\n",
    "y_=tf.placeholder(\"float\",shape=[None,10])\n",
    "#只载入模型变量，需要手动构建网络，且所有Variable的名字需对应上\n",
    "W=tf.Variable(tf.zeros([784,10]),name=\"W\")\n",
    "b=tf.Variable(tf.zeros([10]),name=\"b\")\n",
    "y=tf.nn.softmax(tf.matmul(x,W)+b)\n",
    "cross_entropy=-tf.reduce_sum(y_*tf.log(y))\n",
    "cost=tf.reduce_mean(cross_entropy)\n",
    "train_step=tf.train.GradientDescentOptimizer(0.01).minimize(cross_entropy)\n",
    "correct_prediction=tf.equal(tf.argmax(y,1),tf.argmax(y_,1))\n",
    "accuracy=tf.reduce_mean(tf.cast(correct_prediction,\"float\"))\n",
    "\n",
    "sess=tf.Session()\n",
    "saver=tf.train.Saver()\n",
    "saver.restore(sess,tf.train.latest_checkpoint('./model/'))\n",
    "print(sess.run(accuracy,feed_dict={x:mnist.train.images,y_:mnist.train.labels}))\n",
    "print(sess.run(accuracy,feed_dict={x:mnist.test.images,y_:mnist.test.labels}))\n",
    "print(sess.run(train_step,feed_dict={x:mnist.train.images,y_:mnist.train.labels}))\n"
   ]
  },
  {
   "cell_type": "markdown",
   "metadata": {},
   "source": [
    "# 构建CNN, Tensorboard"
   ]
  },
  {
   "cell_type": "code",
   "execution_count": 45,
   "metadata": {
    "ExecuteTime": {
     "end_time": "2018-11-29T14:51:23.928008Z",
     "start_time": "2018-11-29T14:49:38.744457Z"
    }
   },
   "outputs": [
    {
     "name": "stdout",
     "output_type": "stream",
     "text": [
      "Extracting MNIST_data/train-images-idx3-ubyte.gz\n",
      "Extracting MNIST_data/train-labels-idx1-ubyte.gz\n",
      "Extracting MNIST_data/t10k-images-idx3-ubyte.gz\n",
      "Extracting MNIST_data/t10k-labels-idx1-ubyte.gz\n",
      "step 0, validation accuracy 0.14\n",
      "step 100, validation accuracy 0.82\n",
      "step 200, validation accuracy 0.94\n",
      "step 300, validation accuracy 0.96\n",
      "step 400, validation accuracy 0.94\n",
      "step 500, validation accuracy 0.96\n",
      "step 600, validation accuracy 0.96\n",
      "step 700, validation accuracy 0.94\n",
      "step 800, validation accuracy 0.94\n",
      "step 900, validation accuracy 1\n",
      "test accuracy 0.964\n"
     ]
    }
   ],
   "source": [
    "import tensorflow as tf\n",
    "from tensorflow.examples.tutorials.mnist import input_data\n",
    "\n",
    "tf.reset_default_graph()\n",
    "mnist=input_data.read_data_sets(\"MNIST_data/\",one_hot=True)\n",
    "x=tf.placeholder(\"float\",shape=[None,784])\n",
    "y_=tf.placeholder(\"float\",shape=[None,10])\n",
    "\n",
    "x_image=tf.reshape(x,[-1,28,28,1])\n",
    "W_conv1=tf.Variable(tf.truncated_normal(shape=[5,5,1,32],mean=0,stddev=0.1))\n",
    "b_conv1=tf.Variable(tf.constant(0.1,shape=[32]))\n",
    "h_conv1=tf.nn.relu(tf.nn.conv2d(x_image,W_conv1,strides=[1,1,1,1],padding='SAME')+b_conv1)\n",
    "h_pool1=tf.nn.max_pool(h_conv1,ksize=[1,2,2,1],strides=[1,2,2,1],padding='SAME')\n",
    "\n",
    "W_conv2=tf.Variable(tf.truncated_normal(shape=[5,5,32,64],mean=0,stddev=0.1))\n",
    "b_conv2=tf.Variable(tf.constant(0.1,shape=[64]))\n",
    "h_conv2=tf.nn.relu(tf.nn.conv2d(h_pool1,W_conv2,strides=[1,1,1,1],padding='SAME')+b_conv2)\n",
    "h_pool2=tf.nn.max_pool(h_conv2,ksize=[1,2,2,1],strides=[1,2,2,1],padding='SAME')\n",
    "\n",
    "W_fc1=tf.Variable(tf.truncated_normal(shape=[7*7*64,1024],mean=0,stddev=0.1))\n",
    "b_fc1=tf.Variable(tf.constant(0.1,shape=[1024]))\n",
    "h_pool2_flat=tf.reshape(h_pool2,[-1,7*7*64])\n",
    "h_fc1=tf.nn.relu(tf.matmul(h_pool2_flat,W_fc1)+b_fc1)\n",
    "\n",
    "keep_prob=tf.placeholder(\"float\")\n",
    "h_fc1_drop=tf.nn.dropout(h_fc1,keep_prob)\n",
    "\n",
    "W_fc2=tf.Variable(tf.truncated_normal(shape=[1024,10],mean=0,stddev=0.1))\n",
    "b_fc2=tf.Variable(tf.constant(0.1,shape=[10]))\n",
    "y_conv=tf.nn.softmax(tf.matmul(h_fc1_drop,W_fc2)+b_fc2)\n",
    "\n",
    "cross_entropy=-tf.reduce_sum(y_*tf.log(y_conv))\n",
    "tf.summary.histogram(\"cross_entropy\",cross_entropy)\n",
    "train_step=tf.train.AdamOptimizer(1e-4).minimize(cross_entropy)\n",
    "correct_prediction=tf.equal(tf.argmax(y_,1),tf.argmax(y_conv,1))\n",
    "accuracy=tf.reduce_mean(tf.cast(correct_prediction,\"float\"))\n",
    "tf.summary.scalar(\"accuracy\",accuracy)\n",
    "writer = tf.summary.FileWriter(\"/Users/xieliang/tensorboard\")\n",
    "summaries = tf.summary.merge_all()\n",
    "\n",
    "with tf.Session() as sess:\n",
    "    sess.run(tf.initialize_all_variables())\n",
    "    for i in range(1000):\n",
    "        batch=mnist.train.next_batch(50)\n",
    "        if i%100==0:\n",
    "            train_accuracy=accuracy.eval(feed_dict={x:batch[0],y_:batch[1],keep_prob:1.0})\n",
    "            print(\"step %d, validation accuracy %g\"%(i, train_accuracy))\n",
    "        summ,_=sess.run([summaries,train_step],feed_dict={x:batch[0],y_:batch[1],keep_prob:0.5})\n",
    "        writer.add_summary(summ,i)\n",
    "    print(\"test accuracy %g\"%accuracy.eval(feed_dict={\n",
    "    x: mnist.test.images, y_: mnist.test.labels, keep_prob: 1.0}))\n",
    "    \n",
    "#在py3.6环境下，终端输入：tensorboard --logdir=\"/Users/xieliang/tensorboard\""
   ]
  },
  {
   "cell_type": "markdown",
   "metadata": {},
   "source": [
    "# 共享变量"
   ]
  },
  {
   "cell_type": "code",
   "execution_count": 6,
   "metadata": {
    "ExecuteTime": {
     "end_time": "2018-12-16T11:52:13.399859Z",
     "start_time": "2018-12-16T11:52:13.307097Z"
    }
   },
   "outputs": [
    {
     "name": "stdout",
     "output_type": "stream",
     "text": [
      "[[[[0.]\n",
      "   [0.]]\n",
      "\n",
      "  [[0.]\n",
      "   [0.]]]]\n",
      "[[[[0.]\n",
      "   [0.]]\n",
      "\n",
      "  [[0.]\n",
      "   [0.]]]]\n"
     ]
    }
   ],
   "source": [
    "import tensorflow as tf\n",
    "\n",
    "tf.reset_default_graph()\n",
    "\n",
    "x1=tf.placeholder(\"float\",[1,2,2,3])\n",
    "x2=tf.placeholder(\"float\",[1,2,2,3])\n",
    "\n",
    "def conv_relu(input, kernel_shape, bias_shape):\n",
    "    weights=tf.get_variable(\"weights\",kernel_shape,initializer=tf.random_normal_initializer())\n",
    "    biases=tf.get_variable(\"biases\",bias_shape,initializer=tf.constant_initializer(0.1))\n",
    "    conv=tf.nn.conv2d(input,weights,strides=[1,1,1,1],padding=\"SAME\")\n",
    "    return tf.nn.relu(conv+biases)\n",
    "\n",
    "def my_filter(input):\n",
    "    with tf.variable_scope(\"conv1\"):\n",
    "        relu1=conv_relu(input,[1,1,3,2],[2])\n",
    "    with tf.variable_scope(\"conv2\"):\n",
    "        return conv_relu(relu1,[1,1,2,1],[1])\n",
    "    \n",
    "with tf.variable_scope(\"my_filter\",reuse=tf.AUTO_REUSE) as scope:\n",
    "    result1=my_filter(x1)\n",
    "#     scope.reuse_variables()\n",
    "    result2=my_filter(x2)\n",
    "    \n",
    "sess=tf.Session()\n",
    "sess.run(tf.global_variables_initializer())\n",
    "print(sess.run(result1,feed_dict={x1:[[[[1.0,1.0,1.0],[1.0,1.0,1.0]],[[1.0,1.0,1.0],[1.0,1.0,1.0]]]]}))\n",
    "print(sess.run(result2,feed_dict={x2:[[[[1.0,1.0,1.0],[1.0,1.0,1.0]],[[1.0,1.0,1.0],[1.0,1.0,1.0]]]]}))\n",
    "summary_writer = tf.summary.FileWriter(\"/Users/xieliang/tensorboard/log\", sess.graph)\n",
    "# tensorboard --logdir=\"/Users/xieliang/tensorboard/log\""
   ]
  },
  {
   "cell_type": "markdown",
   "metadata": {},
   "source": [
    "# 不使用共享变量"
   ]
  },
  {
   "cell_type": "code",
   "execution_count": 1,
   "metadata": {
    "ExecuteTime": {
     "end_time": "2018-12-26T12:26:07.766141Z",
     "start_time": "2018-12-26T12:26:05.391978Z"
    }
   },
   "outputs": [
    {
     "name": "stdout",
     "output_type": "stream",
     "text": [
      "[[[[0.10241538]\n",
      "   [0.10241538]]\n",
      "\n",
      "  [[0.10241538]\n",
      "   [0.10241538]]]]\n",
      "[[[[0.06110672]\n",
      "   [0.06110672]]\n",
      "\n",
      "  [[0.06110672]\n",
      "   [0.06110672]]]]\n",
      "[[[[0.10241538]\n",
      "   [0.10241538]]\n",
      "\n",
      "  [[0.10241538]\n",
      "   [0.10241538]]]]\n",
      "[[[[0.06110672]\n",
      "   [0.06110672]]\n",
      "\n",
      "  [[0.06110672]\n",
      "   [0.06110672]]]]\n"
     ]
    }
   ],
   "source": [
    "import tensorflow as tf\n",
    "\n",
    "tf.reset_default_graph()\n",
    "\n",
    "x1=tf.placeholder(\"float\",[1,2,2,3])\n",
    "x2=tf.placeholder(\"float\",[1,2,2,3])\n",
    "\n",
    "def my_filter(input):\n",
    "    w1=tf.Variable(tf.truncated_normal([1,1,3,2],mean=0,stddev=0.1))\n",
    "    b1=tf.Variable(tf.constant(0.1,shape=[2]))\n",
    "    relu1=tf.nn.relu(tf.nn.conv2d(input,w1,strides=[1,1,1,1],padding=\"SAME\")+b1)\n",
    "    w2=tf.Variable(tf.truncated_normal([1,1,2,1],mean=0,stddev=0.1))\n",
    "    b2=tf.Variable(tf.constant(0.1,shape=[1]))\n",
    "    conv2=tf.nn.conv2d(relu1,w2,strides=[1,1,1,1],padding=\"SAME\")\n",
    "    return tf.nn.relu(conv2+b2)\n",
    "\n",
    "result1=my_filter(x1)\n",
    "result2=my_filter(x2)\n",
    "\n",
    "sess=tf.Session()\n",
    "sess.run(tf.global_variables_initializer())\n",
    "\n",
    "print(sess.run(result1,feed_dict={x1:[[[[1.0,1.0,1.0],[1.0,1.0,1.0]],[[1.0,1.0,1.0],[1.0,1.0,1.0]]]]}))\n",
    "print(sess.run(result2,feed_dict={x2:[[[[1.0,1.0,1.0],[1.0,1.0,1.0]],[[1.0,1.0,1.0],[1.0,1.0,1.0]]]]}))\n",
    "summary_writer = tf.summary.FileWriter(\"/Users/xieliang/tensorboard/log\", sess.graph)"
   ]
  },
  {
   "cell_type": "markdown",
   "metadata": {},
   "source": [
    "# 可视化(Figure)"
   ]
  },
  {
   "cell_type": "markdown",
   "metadata": {},
   "source": [
    "## 损失函数"
   ]
  },
  {
   "cell_type": "code",
   "execution_count": 20,
   "metadata": {
    "ExecuteTime": {
     "end_time": "2018-12-21T05:23:01.286645Z",
     "start_time": "2018-12-21T05:23:00.738519Z"
    }
   },
   "outputs": [
    {
     "name": "stdout",
     "output_type": "stream",
     "text": [
      "Warning: Cannot change to a different GUI toolkit: notebook. Using osx instead.\n",
      "a= 1.210777 b= 2.485608\n"
     ]
    }
   ],
   "source": [
    "import tensorflow as tf\n",
    "import numpy as np\n",
    "import matplotlib.pyplot as plt\n",
    "from mpl_toolkits.mplot3d import Axes3D\n",
    "\n",
    "LR = 0.1\n",
    "REAL_PARAMS = [1.2, 2.5]\n",
    "INIT_PARAMS = [[5, 4],\n",
    "               [5, 1],\n",
    "               [2, 4.5]][2]\n",
    "\n",
    "x = np.linspace(-1, 1, 200, dtype=np.float32)   # x data\n",
    "\n",
    "# Test (1): Visualize a simple linear function with two parameters,\n",
    "# you can change LR to 1 to see the different pattern in gradient descent.\n",
    "\n",
    "# y_fun = lambda a, b: a * x + b\n",
    "# tf_y_fun = lambda a, b: a * x + b\n",
    "\n",
    "\n",
    "# Test (2): Using Tensorflow as a calibrating tool for empirical formula like following.\n",
    "\n",
    "# y_fun = lambda a, b: a * x**3 + b * x**2\n",
    "# tf_y_fun = lambda a, b: a * x**3 + b * x**2\n",
    "\n",
    "\n",
    "# Test (3): Most simplest two parameters and two layers Neural Net, and their local & global minimum,\n",
    "# you can try different INIT_PARAMS set to visualize the gradient descent.\n",
    "\n",
    "y_fun = lambda a, b: np.sin(b*np.cos(a*x))\n",
    "tf_y_fun = lambda a, b: tf.sin(b*tf.cos(a*x))\n",
    "\n",
    "noise = np.random.randn(200)/10\n",
    "y = y_fun(*REAL_PARAMS) + noise         # target\n",
    "\n",
    "# tensorflow graph\n",
    "a, b = [tf.Variable(initial_value=p, dtype=tf.float32) for p in INIT_PARAMS]\n",
    "pred = tf_y_fun(a, b)\n",
    "mse = tf.reduce_mean(tf.square(y-pred))\n",
    "train_op = tf.train.GradientDescentOptimizer(LR).minimize(mse)\n",
    "\n",
    "a_list, b_list, cost_list = [], [], []\n",
    "with tf.Session() as sess:\n",
    "    sess.run(tf.global_variables_initializer())\n",
    "    for t in range(400):\n",
    "        a_, b_, mse_ = sess.run([a, b, mse])\n",
    "        a_list.append(a_); b_list.append(b_); cost_list.append(mse_)    # record parameter changes\n",
    "        result, _ = sess.run([pred, train_op])                          # training\n",
    "\n",
    "\n",
    "# visualization codes:\n",
    "# %matplotlib inline\n",
    "%matplotlib notebook\n",
    "print('a=', a_, 'b=', b_)\n",
    "plt.figure(1)\n",
    "plt.scatter(x, y, c='b')    # plot data\n",
    "plt.plot(x, result, 'r-', lw=2)   # plot line fitting\n",
    "# 3D cost figure\n",
    "fig = plt.figure(2); ax = Axes3D(fig)\n",
    "a3D, b3D = np.meshgrid(np.linspace(-2, 7, 30), np.linspace(-2, 7, 30))  # parameter space\n",
    "cost3D = np.array([np.mean(np.square(y_fun(a_, b_) - y)) for a_, b_ in zip(a3D.flatten(), b3D.flatten())]).reshape(a3D.shape)\n",
    "ax.plot_surface(a3D, b3D, cost3D, rstride=1, cstride=1, cmap=plt.get_cmap('rainbow'), alpha=0.5)\n",
    "ax.scatter(a_list[0], b_list[0], zs=cost_list[0], s=300, c='r')  # initial parameter place\n",
    "ax.set_xlabel('a'); ax.set_ylabel('b')\n",
    "ax.plot(a_list, b_list, zs=cost_list, zdir='z', c='r', lw=3)    # plot 3D gradient descent\n",
    "plt.show()"
   ]
  }
 ],
 "metadata": {
  "kernelspec": {
   "display_name": "Python [conda env:py3.6]",
   "language": "python",
   "name": "conda-env-py3.6-py"
  },
  "language_info": {
   "codemirror_mode": {
    "name": "ipython",
    "version": 3
   },
   "file_extension": ".py",
   "mimetype": "text/x-python",
   "name": "python",
   "nbconvert_exporter": "python",
   "pygments_lexer": "ipython3",
   "version": "3.6.7"
  },
  "toc": {
   "base_numbering": 1,
   "nav_menu": {},
   "number_sections": true,
   "sideBar": true,
   "skip_h1_title": false,
   "title_cell": "Table of Contents",
   "title_sidebar": "Contents",
   "toc_cell": false,
   "toc_position": {
    "height": "calc(100% - 180px)",
    "left": "10px",
    "top": "150px",
    "width": "288px"
   },
   "toc_section_display": true,
   "toc_window_display": true
  }
 },
 "nbformat": 4,
 "nbformat_minor": 2
}
