{
 "cells": [
  {
   "cell_type": "markdown",
   "metadata": {},
   "source": [
    "# Neural Network\n",
    "## Forward propagation\n",
    "- 样本为什么要独立同分布...     \n",
    "- 神经元的本质（不同神经元代表不同的维度）  \n",
    "- 神经网络w和b的作用（简化至二维平面w和b的作用） （本质上是坐标的线性变换，寻找不同的空间以实现分类）   \n",
    "- 激活函数为什么需要sigmoid/relu等非线性激活函数（本质上是非线性变换）  \n",
    "<img src=\"img/1.png\" width=\"50%\">\n",
    "- sigmoid和relu的区别  \n",
    "- 如何初始化参数（阈值添加少量噪声打破隐藏对称性，对于relu用一个较小正数初始化偏置项）  \n",
    "- padding的作用  \n",
    "（padding=same，自动补全，new_width=width/stride(向上取整)）  \n",
    "（padding=valid，不补全，new_width=（width-filter）/stride+1(向下取整)）      \n",
    "- 旋转不变性和平移不变性\n",
    "- dropout [dropout.pdf](http://localhost:8888/files/pdf/dropout.pdf) \n",
    "\n",
    "\n",
    "## Loss function\n",
    "- cross-entropy(最大似然) [cross_entropy.pdf](http://localhost:8888/files/pdf/cross_entropy.pdf) [loss_function.pdf](http://localhost:8888/files/pdf/loss_function.pdf) [visual_information.pdf](http://localhost:8888/files/pdf/visual_information.pdf)  \n",
    "- 交叉墒为什么要取对数：   \n",
    "（1）乘法变加法，简化计算  \n",
    "（2）要求导的话很多常数项可以省去，简化分析  \n",
    "（3）大量很小的因子（如概率）直接相乘结果接近0，会产生下溢，计算机直接近似为0，取对数可避免    \n",
    "\n",
    "## Back propagation\n",
    "- 训练为什么需要batch（这样做既可以减少计算开销，又可以最大化地学习到数据集的总体特性。）  \n",
    "- 优化方法有哪些，如何选择\n",
    "\n",
    "## 调参经验"
   ]
  },
  {
   "cell_type": "markdown",
   "metadata": {},
   "source": [
    "# Tensorflow\n",
    "- Session.run()和Tensor.eval()的区别  "
   ]
  },
  {
   "cell_type": "markdown",
   "metadata": {},
   "source": [
    "# RL\n",
    "- on-policy和off-policy的区别    \n",
    "（1）在更新Q-table时，on-policy采用greedy选择下一状态的动作，off-policy采用max选择下一状态的动作  \n",
    "（2）在执行顺序上，on-policy先执行动作，在通过greedy选择下一动作；off-policy先通过greedy选择动作，再执行动作。  \n",
    "（从整个算法来看，除去更新Q-table这一步，on-policy和off-policy完全相同，故2不算本质的区别）  \n",
    "两者在效果上的区别(实验测试)...  \n",
    "- 经验回放为什么只能用于off-policy...    \n",
    "- 经验回放的作用：获取训练样本..  "
   ]
  },
  {
   "cell_type": "code",
   "execution_count": null,
   "metadata": {},
   "outputs": [],
   "source": []
  }
 ],
 "metadata": {
  "kernelspec": {
   "display_name": "Python [conda env:py3.6]",
   "language": "python",
   "name": "conda-env-py3.6-py"
  },
  "language_info": {
   "codemirror_mode": {
    "name": "ipython",
    "version": 3
   },
   "file_extension": ".py",
   "mimetype": "text/x-python",
   "name": "python",
   "nbconvert_exporter": "python",
   "pygments_lexer": "ipython3",
   "version": "3.6.7"
  },
  "toc": {
   "base_numbering": 1,
   "nav_menu": {},
   "number_sections": true,
   "sideBar": true,
   "skip_h1_title": false,
   "title_cell": "Table of Contents",
   "title_sidebar": "Contents",
   "toc_cell": false,
   "toc_position": {},
   "toc_section_display": true,
   "toc_window_display": false
  }
 },
 "nbformat": 4,
 "nbformat_minor": 2
}
