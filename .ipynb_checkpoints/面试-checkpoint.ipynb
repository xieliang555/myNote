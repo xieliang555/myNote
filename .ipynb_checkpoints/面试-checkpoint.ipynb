{
 "cells": [
  {
   "cell_type": "markdown",
   "metadata": {},
   "source": [
    "- __项目中遇到的问题？如何解决__？\n",
    "\n",
    "    - KPCA+CNN： 将KPCA应用于神经网络的中间层有困难\n",
    "        - 1）PCA降维维度太大（3200），特征分解很慢有时求不出，改用KPCA，通过选择样本的数量控制维度。\n",
    "        - 2）将KPCA应用与神经网络导致神经元个数无法确定。\n",
    "        - 3）新的样本如何投影到训练样本的特征空间中。看sklearn源码\n",
    "        - 3）实现KPCA时要调用SVD分解的包，tensorflow不支持对SVD的反向传播。\n",
    "        \n",
    "    - DQN+Q-learning：奖励函数\n",
    "        - 1）设置奖励函数，经常不收敛，如Q-learning：根据一些非线性函数设计奖励函数，往往不收敛或者没有想要的结果。设计稀疏的奖励函数，但学起来更慢。DQN的奖励不能太大，神经网络的输出很小，奖励太大会掩盖住神经网络的输出。\n",
    "        - 2）奖励函数的调试，检查奖励的有效性：状态动作空间太大，奖励的反馈存在延迟，很难观察学习到的策略是如何学习的。观察终止状态的学习过程，检查奖励函数的有效性和代码的逻辑性。\n",
    "        \n",
    "    - KPCA+MLP：\n",
    "        - 测试的样本如何降维？\n",
    "        - 第一个项目，无法通过结果（降维效果）检查代码是否有逻辑上的错误。自己实现的算法和python包调用的算法在相同的样本上实现，看是否相同\n",
    "\n",
    "\n",
    "- __如何调参数？哪些调参数算法__？（网格搜索，随机搜索，贝叶斯优化）\n",
    "    - 手动调参数：控制变量，先粗调后微调，调好一个参数后再调其他的，参数一般先从默认值开始，如lr：1e-4，filter个数一般选2的倍数：32，64，优化算法选SGD/Adam，dropout标配\n",
    "    - 基于机器辅助：Talos，通过比较不同超参数与预测精度的相关性，逐渐减小超参数的可选范围。\n",
    "    - 基于算法：Spearmint（高斯过程代理）,SMAC（随机森林回归）,Hyperopt（随机，gridsearch，tpe），Scikit-Optimize(贝叶斯优化)\n",
    "    \n",
    "    \n",
    "- __如何评估模型泛化能力（过拟合/欠拟合，偏差/方差）？__\n",
    "    - 模型容量（复杂度）低于最优容量就是欠拟合，高于最优容量就是过拟合\n",
    "    - 当模型复杂度比较小时，模型的学习能力很差，预测的整体偏差（误差期望）会比较大，模型对个别采样点的扰动不会很敏感（模型对个别样本的个性的学习能力比较差），所以方差会比较小；随着模型复杂度变大，学习能力增强，可以学习到样本集的全局性（共性），偏差会慢慢减小，方差也不会很大，此时模型容量最优；当模型复杂度进一步增大，偏差更小，对样本个性也更敏感，甚至偏差为0，即完全拟合了样本集，此时方差最大，将数据的波动（噪声）也学习了。\n",
    "\n",
    "- __有哪些深度神经网络?特点与解决的问题__ \n",
    "    - LeNet\n",
    "    - AlexNet\n",
    "    - VGGNet\n",
    "    - GoogleNet\n",
    "    \n",
    "- __CNN如何减少参数?__\n",
    "    - 通过卷积核将全连接替换为局部连接\n",
    "    - 权值共享：同一个特征图共享一个卷积核\n",
    "    - 池化减少了展开后神经元的个数\n",
    "    \n",
    "- __为什么参数少了反而提高学习能力？__\n",
    "    - 由于权值共享，卷积核可以提取全局的局部特征（与局部特征的位置无关），较好的保留了局部特征的平面结构信息\n",
    "    - 参数减少可以避免模型过拟合，提高泛化能力。\n",
    "\n",
    "- __如何减少过拟合__？\n",
    "    - L1/L2正则\n",
    "    - dropout\n",
    "    - early stoping\n",
    "    - 减小模型复杂度\n",
    "    - 减小训练epoch\n",
    "    - 丰富样本\n",
    "\n",
    "- __数据预处理__：\n",
    "    - 均值归一化\n",
    "    - 方差归一化\n",
    "    - PCA/KPCA降维\n",
    "    - 白化\n",
    "\n",
    "- __正确率（precision）和召回率（recall）？__ \n",
    "    - 假设有20个1，10个0，一次测试中预测5个为1，这个5个预测值中有3个的真实类别是1，2个的真实类别是0，则正确率为3/5，召回率为3/20；25个为0，这25个预测值中有17个真实类别是1，8个是0，则正确率为8/25，召回率为8/10。\n",
    "    \n",
    "\n",
    "- __项目介绍__\n",
    "    - CNN+KPCA: \n",
    "        - 车辆工况识别，给定车辆在不同工况下的样本，利用CNN+KPCA对不同的工况进行识别。\n",
    "    - DQN+Q-learning:\n",
    "        - 车辆混合能源管理，电动汽车一般是锂电池作为主能源，然后超级电容作为辅助能源弥补锂电池在车辆加速阶段的动力不足，同时在制动阶段又能吸收制动能量，目标是设计一个控制算法对锂电池和超级电容之间的供能进行合理分配，能满足驾驶员的功率需求，同时又使耗能最低，另外还要考虑降低锂电池的输出频率以延长电池的使用寿命。为满足上述目标，考虑使用DQN和Q-learning分别控制策略进行学习。\n",
    "    - KPCA+MLP：\n",
    "        - 车辆工况识别，给定车辆在某一典型工况下的行驶速度，以这一时间段的速度信息代表该工况，进行特征提取（平均速度，加速度，停车时间等），对特征进行KPCA降维，然后利用神经网络对降维后的特征进行分类。"
   ]
  },
  {
   "cell_type": "markdown",
   "metadata": {},
   "source": [
    "- __Python常用库__:\n",
    "    - Pickle：结构化数据的存取；Pandas：数据预处理；NumPy：数值计算；scikit-learn：机器学习库；Matplotlab：可视化；Pillow：图形库"
   ]
  },
  {
   "cell_type": "markdown",
   "metadata": {},
   "source": [
    "- rbf和mlp的区别： chrome-note(rbf和mlp的区别，nn,rbf神经网络)\n",
    "- 神经网络输入归一化/标准化：chrome-note(nn)\n",
    "- 数据预处理：normalizing([0,1],[-1,1]),standardizing(随机变量服从正太分布，x->(x-u)/std)，测试集标准化的数据必须来自训练集"
   ]
  },
  {
   "cell_type": "code",
   "execution_count": null,
   "metadata": {},
   "outputs": [],
   "source": []
  }
 ],
 "metadata": {
  "kernelspec": {
   "display_name": "Python [conda env:py3.6]",
   "language": "python",
   "name": "conda-env-py3.6-py"
  },
  "language_info": {
   "codemirror_mode": {
    "name": "ipython",
    "version": 3
   },
   "file_extension": ".py",
   "mimetype": "text/x-python",
   "name": "python",
   "nbconvert_exporter": "python",
   "pygments_lexer": "ipython3",
   "version": "3.6.7"
  },
  "toc": {
   "base_numbering": 1,
   "nav_menu": {},
   "number_sections": true,
   "sideBar": true,
   "skip_h1_title": false,
   "title_cell": "Table of Contents",
   "title_sidebar": "Contents",
   "toc_cell": false,
   "toc_position": {},
   "toc_section_display": true,
   "toc_window_display": false
  }
 },
 "nbformat": 4,
 "nbformat_minor": 2
}
