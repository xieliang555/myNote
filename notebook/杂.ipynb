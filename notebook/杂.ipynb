{
 "cells": [
  {
   "cell_type": "markdown",
   "metadata": {
    "toc": true
   },
   "source": [
    "<h1>Table of Contents<span class=\"tocSkip\"></span></h1>\n",
    "<div class=\"toc\"><ul class=\"toc-item\"><li><span><a href=\"#数据结构与算法\" data-toc-modified-id=\"数据结构与算法-1\"><span class=\"toc-item-num\">1&nbsp;&nbsp;</span>数据结构与算法</a></span><ul class=\"toc-item\"><li><span><a href=\"#数学表达式\" data-toc-modified-id=\"数学表达式-1.1\"><span class=\"toc-item-num\">1.1&nbsp;&nbsp;</span>数学表达式</a></span></li></ul></li><li><span><a href=\"#windows\" data-toc-modified-id=\"windows-2\"><span class=\"toc-item-num\">2&nbsp;&nbsp;</span>windows</a></span></li><li><span><a href=\"#TCP\" data-toc-modified-id=\"TCP-3\"><span class=\"toc-item-num\">3&nbsp;&nbsp;</span>TCP</a></span></li><li><span><a href=\"#OS\" data-toc-modified-id=\"OS-4\"><span class=\"toc-item-num\">4&nbsp;&nbsp;</span>OS</a></span></li></ul></div>"
   ]
  },
  {
   "cell_type": "markdown",
   "metadata": {},
   "source": [
    "# 数据结构与算法"
   ]
  },
  {
   "cell_type": "markdown",
   "metadata": {},
   "source": [
    "## 数学表达式"
   ]
  },
  {
   "cell_type": "markdown",
   "metadata": {},
   "source": [
    "中缀->后缀：  \n",
    "利用栈作为中转，中缀为输入，后缀为输出，栈顶空用#表示，规则如下：  \n",
    "（1）（当前输入与栈顶）运算符同级（+-或×/）时，当前运算符等级低于栈顶运算符（当前+-低于栈顶+-）  \n",
    "（2）#等级低于所有运算符（+-×/），当前#等级等于栈顶#  \n",
    "（3）如当前为操作数，直接输出到队列    \n",
    "（4）如当前运算符高于栈顶运算符，入栈    \n",
    "（5）如当前运算符低于栈顶运算符，栈顶退栈，输出到队列  \n",
    "（6）如当前运算符等于栈顶运算符，且均为#，结束  \n",
    "如： \n",
    "A+B-C/D×E \n",
    "\n",
    "| 输入队列 | 栈 | 输出队列 | \n",
    "| --- | --- | --- |\n",
    "| +B-C/D×E# | # | A |  \n",
    "| -C/D×E# | #+ | AB |\n",
    "| /D×E# | #- | AB+C |\n",
    "| ×E# | #-/ | AB+CD |\n",
    "| # | #-× | AB+CD/E |\n",
    "| # | # | AB+CD/E×- |\n"
   ]
  },
  {
   "cell_type": "markdown",
   "metadata": {},
   "source": [
    "计算后缀 ABCD/-E×+  （2342/-3×+） \n",
    "利用栈作为中转，输入为后缀，输出为计算结果\n",
    "\n",
    "| 输入队列 | 栈 | 输出结果 |\n",
    "| --- | --- | --- |\n",
    "| 2342/-3×+ |  |  |\n",
    "| /-3×+ | 2342 |  |\n",
    "| -3×+ | 23 | 4/2=2 |\n",
    "| -3×+ | 232 |  |\n",
    "| 3×+ | 2 | 3-1=1 |\n",
    "| 3×+ | 21 |  |\n",
    "| ×+ | 213 |  |\n",
    "| + | 2 | 1×3=3 |\n",
    "| + | 23 |  |\n",
    "|  |  | 2+3=5 |"
   ]
  },
  {
   "cell_type": "markdown",
   "metadata": {},
   "source": [
    "# windows"
   ]
  },
  {
   "cell_type": "markdown",
   "metadata": {
    "ExecuteTime": {
     "end_time": "2019-06-23T07:42:28.823122Z",
     "start_time": "2019-06-23T07:42:28.818049Z"
    }
   },
   "source": [
    "修改命令行默认路径：右键->属性->快捷方式 将起始位置改为需要更改的路径"
   ]
  },
  {
   "cell_type": "markdown",
   "metadata": {},
   "source": [
    "# TCP"
   ]
  },
  {
   "cell_type": "markdown",
   "metadata": {},
   "source": [
    "ip：主机分配给电脑的地址\n",
    "\n",
    "网关：主机的地址\n",
    "\n",
    "分配方式：\n",
    "\n",
    "静态：需要手动设定ip等信息\n",
    "\n",
    "动态(DHCP): 主机自动分配ip给电脑"
   ]
  },
  {
   "cell_type": "markdown",
   "metadata": {},
   "source": [
    "# OS"
   ]
  },
  {
   "cell_type": "markdown",
   "metadata": {},
   "source": [
    "course：操作系统与系统编程 cs162 Berkeley\n",
    "\n",
    "book：operating system concepts 9th edition"
   ]
  },
  {
   "cell_type": "code",
   "execution_count": null,
   "metadata": {},
   "outputs": [],
   "source": []
  }
 ],
 "metadata": {
  "kernelspec": {
   "display_name": "Python [default]",
   "language": "python",
   "name": "python3"
  },
  "language_info": {
   "codemirror_mode": {
    "name": "ipython",
    "version": 3
   },
   "file_extension": ".py",
   "mimetype": "text/x-python",
   "name": "python",
   "nbconvert_exporter": "python",
   "pygments_lexer": "ipython3",
   "version": "3.6.5"
  },
  "toc": {
   "base_numbering": 1,
   "nav_menu": {},
   "number_sections": true,
   "sideBar": true,
   "skip_h1_title": false,
   "title_cell": "Table of Contents",
   "title_sidebar": "Contents",
   "toc_cell": true,
   "toc_position": {},
   "toc_section_display": true,
   "toc_window_display": true
  }
 },
 "nbformat": 4,
 "nbformat_minor": 2
}
