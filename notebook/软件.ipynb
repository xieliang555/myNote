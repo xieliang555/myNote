{
 "cells": [
  {
   "cell_type": "markdown",
   "metadata": {},
   "source": [
    "# sublime3"
   ]
  },
  {
   "cell_type": "markdown",
   "metadata": {},
   "source": [
    "## default VS user"
   ]
  },
  {
   "cell_type": "markdown",
   "metadata": {},
   "source": [
    "preferences->package settings:\n",
    "    - settings-default: 每次sublime更新后这个文件都会变，之前的修改会被覆盖,不建议修改的\n",
    "    - settings-user: 每次sublime更新后这个文件不会变，且user里面的设置的优先级高于default"
   ]
  },
  {
   "cell_type": "markdown",
   "metadata": {},
   "source": [
    "## 创建项目"
   ]
  },
  {
   "cell_type": "markdown",
   "metadata": {},
   "source": [
    "- 创建项目：\n",
    "    - project->save project as（会附带新建workspace,即打开项目时会另外打开一个workspace，而不是在当前workplace中打开project）\n",
    "    - project->add folder to project（将某一目录添加到项目中）\n",
    "    - view->side bar->show side bar （显示上面添加的目录）\n",
    "    \n",
    "- 打开项目：\n",
    "    - project->open project"
   ]
  },
  {
   "cell_type": "markdown",
   "metadata": {},
   "source": [
    "## 添加Python编译环境"
   ]
  },
  {
   "cell_type": "code",
   "execution_count": null,
   "metadata": {},
   "outputs": [],
   "source": [
    "参考：https://damnwidget.github.io/anaconda/anaconda_settings/\n",
    "\n",
    "- sublime添加anaconda的python虚拟环境：\n",
    "    - 可以在全局中配置（任何项目默认使用全局配置中的python环境）\n",
    "        - preferences->package setting->Anaconda->setting user/setting default\n",
    "    - (建议)也可以在具体项目中配置（任何项目优先使用项目中配置的环境，如果没有配置则使用全局配置的环境）\n",
    "        - 新建project\n",
    "        - project->edit project\n",
    "        - {\n",
    "            \"build_systems\":\n",
    "            [\n",
    "                {\n",
    "                    \"name\": \"Anaconda Python Builder\",\n",
    "                    \"selector\": \"source.python\",\n",
    "                    \"shell_cmd\": \"/Users/xieliang/anaconda3/envs/cs294HW/bin/python -u \\\"$file\\\"\"\n",
    "                }\n",
    "            ],\n",
    "            \"folders\":\n",
    "            [\n",
    "                {\n",
    "                    \"follow_symlinks\": true,\n",
    "                    \"path\": \".\"\n",
    "                }\n",
    "            ],\n",
    "            \"settings\":\n",
    "            {\n",
    "                \"python_interpreter\": \"/Users/xieliang/anaconda3/envs/cs294HW/bin/python\"\n",
    "            }\n",
    "        }\n",
    "    \n",
    "注意：\n",
    "（1） 由于不同项目的python环境很可能不同，故建议在项目中而不是全局配置环境\n",
    "（2）build_systems会新建一个编译系统名字为Anaconda Python Builder，在首次编译python文件时，\n",
    "    选择tools->build systems->Anaconda Python Builder\n",
    "（3） Anaconda Python Builder只会在该project的build system中出现\n",
    "（4）\"/Users/xieliang/anaconda3/envs/py3.6/bin/python\"是虚拟环境的路径，可在shell中通过which python查找"
   ]
  },
  {
   "cell_type": "markdown",
   "metadata": {},
   "source": [
    "## 添加C++编译环境"
   ]
  },
  {
   "cell_type": "code",
   "execution_count": 1,
   "metadata": {
    "ExecuteTime": {
     "end_time": "2019-06-30T05:39:09.585162Z",
     "start_time": "2019-06-30T05:39:09.572486Z"
    }
   },
   "outputs": [
    {
     "ename": "SyntaxError",
     "evalue": "invalid character in identifier (<ipython-input-1-b0729df07741>, line 1)",
     "output_type": "error",
     "traceback": [
      "\u001b[0;36m  File \u001b[0;32m\"<ipython-input-1-b0729df07741>\"\u001b[0;36m, line \u001b[0;32m1\u001b[0m\n\u001b[0;31m    - 添加c++编译器：\u001b[0m\n\u001b[0m              ^\u001b[0m\n\u001b[0;31mSyntaxError\u001b[0m\u001b[0;31m:\u001b[0m invalid character in identifier\n"
     ]
    }
   ],
   "source": [
    "- 添加c++编译器：\n",
    "    - tools-build system-new build system,用以下文件替换，保存为g++文件，其中/usr/bin/g++是g++编译器在系统中的绝对路径\n",
    "    {\n",
    "    \"cmd\" : [\"/usr/bin/g++ $file_name -std=c++11 -o ${file_base_name} && ./${file_base_name}\"],\n",
    "    \"selector\" : \"source.c, source.c++\",\n",
    "    \"shell\": true,\n",
    "    \"working_dir\" : \"$file_path\"\n",
    "    }\n",
    "    \n",
    "- 当需要从终端输入（cin/scanf）,需要再建立一个编译系统：\n",
    "    - tools-build system-new build system,用以下文件替换，保存为g++ shell文件\n",
    "    {\n",
    "    \"cmd\": [\"bash\", \"-c\", \"/usr/bin/g++ '${file}' -o '${file_path}/${file_base_name}' && open -a Terminal.app '${file_path}/${file_base_name}'\"]\n",
    "    }\n",
    "\n",
    "- 根据代码是否有cin/scanf选择不同的编译，cmd+shift+b选择g++/g++ shell。\n",
    "\n",
    "\n",
    "    \n",
    "    \n",
    "\n",
    "    \n"
   ]
  },
  {
   "cell_type": "markdown",
   "metadata": {},
   "source": [
    "## package control"
   ]
  },
  {
   "cell_type": "markdown",
   "metadata": {},
   "source": [
    "- 失效：\n",
    "    - 根据官网重新安装\n",
    "- 常用包：\n",
    "    - Shell Turtlestein： 终端插件\n",
    "    - Anaconda：添加Anaconda python build system\n",
    "    - LaTexTools：添加LaTex build system"
   ]
  },
  {
   "cell_type": "markdown",
   "metadata": {},
   "source": [
    "# hugo"
   ]
  },
  {
   "cell_type": "markdown",
   "metadata": {},
   "source": [
    "## 安装及部署"
   ]
  },
  {
   "cell_type": "markdown",
   "metadata": {},
   "source": [
    "完整步骤参考：https://gohugo.io/getting-started/quick-start/\n",
    "\n",
    "- 本地部署：\n",
    "    - 安装hugo brew install hugo\n",
    "    - 创建博客： hugo new site blogName\n",
    "    - 下载主题： themes.gohugo.io，进入blogName目录,按照介绍的步骤安装主题\n",
    "    - 新建文章：hugo new post/blog.md（会在content目录下生成该路径）\n",
    "    - 写文章：进入blog.md目录，open blog.md\n",
    "    - 第一次需要配置theme,修改toml文件\n",
    "    - 返回blogName目录，在本地启动博客：hugo server -t themeName --buildDraftsse,或者 hugo server -D\n",
    "    \n",
    "- 部署到github：\n",
    "    - 新建远程仓库，名称：xieliang555.github.io\n",
    "    - 生成html文件：github: hugo --theme=themeName --baseUrl=\"https://xieliang555.github.io/\" --buildDrafts ，\n",
    "    此步骤在blog根目录生成了public文件夹，文件内容包括博客的各种html文件\n",
    "    - 创建本地仓库：\n",
    "        - cd public\n",
    "        - git init\n",
    "        - git add .\n",
    "        - git commit -m \"logg\"\n",
    "    - 将本地仓库与远程仓库关联：\n",
    "        - public目录下：git remote add origin https://github.com/xieliang555/xieliang555.github.io.git\n",
    "    - 将本地仓库推送到远程仓库：\n",
    "        - git push -u origin master\n",
    "    - 在公网 xieliang555.github.io访问博客"
   ]
  },
  {
   "cell_type": "markdown",
   "metadata": {},
   "source": [
    "## 配置MathJax"
   ]
  },
  {
   "cell_type": "markdown",
   "metadata": {},
   "source": [
    "- 配置MathJax使md文件支持MarkDown（Latex）公式编辑：\n",
    "    - 在博客根目录下的/layout/partials路径下新建文件mathjax_support.html，并添加以下代码：\n",
    "     <script type=\"text/javascript\" async\n",
    "      src=\"https://cdn.mathjax.org/mathjax/latest/MathJax.js?config=TeX-AMS-MML_HTMLorMML\">\n",
    "      MathJax.Hub.Config({\n",
    "      tex2jax: {\n",
    "        inlineMath: [['$','$'], ['\\\\(','\\\\)']],\n",
    "        displayMath: [['$$','$$']],\n",
    "        processEscapes: true,\n",
    "        processEnvironments: true,\n",
    "        skipTags: ['script', 'noscript', 'style', 'textarea', 'pre'],\n",
    "        TeX: { equationNumbers: { autoNumber: \"AMS\" },\n",
    "             extensions: [\"AMSmath.js\", \"AMSsymbols.js\"] }\n",
    "      }\n",
    "      });\n",
    "      MathJax.Hub.Queue(function() {\n",
    "        // Fix <code> tags after MathJax finishes running. This is a\n",
    "        // hack to overcome a shortcoming of Markdown. Discussion at\n",
    "        // https://github.com/mojombo/jekyll/issues/199\n",
    "        var all = MathJax.Hub.getAllJax(), i;\n",
    "        for(i = 0; i < all.length; i += 1) {\n",
    "            all[i].SourceElement().parentNode.className += ' has-jax';\n",
    "        }\n",
    "      });\n",
    "\n",
    "      MathJax.Hub.Config({\n",
    "      // Autonumbering by mathjax\n",
    "      TeX: { equationNumbers: { autoNumber: \"AMS\" } }\n",
    "      });\n",
    "     </script>\n",
    "    - 在该目录下的文件header.html（没有则新建）的</head>前添加以下代码：\n",
    "    {{ partial \"mathjax_support.html\" . }}\n",
    "    \n",
    "    - 常见错误：\n",
    "        - 公式中下划线(_) 当表示下标且后面含{}符号时，如a_{\\theta}，需要加\\ 即a\\_{\\theta}"
   ]
  },
  {
   "cell_type": "markdown",
   "metadata": {},
   "source": [
    "# Git"
   ]
  },
  {
   "cell_type": "markdown",
   "metadata": {},
   "source": [
    "\n",
    "- 进入笔记本所在目录\n",
    "- git init 初始化本地仓库\n",
    "- git remote origin <url> 将本地仓库与远程仓库建立关联\n",
    "- git remote -v 查看远程仓库\n",
    "- git status \n",
    "- git add .\n",
    "- git commit -m \"mark info\"\n",
    "- git pull origin master --allow-unrelated-histories 每次在push前先合并\n",
    "- git push origin master"
   ]
  },
  {
   "cell_type": "code",
   "execution_count": null,
   "metadata": {},
   "outputs": [],
   "source": []
  }
 ],
 "metadata": {
  "kernelspec": {
   "display_name": "Python [conda env:anaconda3]",
   "language": "python",
   "name": "conda-env-anaconda3-py"
  },
  "language_info": {
   "codemirror_mode": {
    "name": "ipython",
    "version": 3
   },
   "file_extension": ".py",
   "mimetype": "text/x-python",
   "name": "python",
   "nbconvert_exporter": "python",
   "pygments_lexer": "ipython3",
   "version": "3.6.5"
  },
  "toc": {
   "base_numbering": 1,
   "nav_menu": {},
   "number_sections": true,
   "sideBar": true,
   "skip_h1_title": false,
   "title_cell": "Table of Contents",
   "title_sidebar": "Contents",
   "toc_cell": false,
   "toc_position": {},
   "toc_section_display": true,
   "toc_window_display": true
  }
 },
 "nbformat": 4,
 "nbformat_minor": 2
}
