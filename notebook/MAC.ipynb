{
 "cells": [
  {
   "cell_type": "markdown",
   "metadata": {},
   "source": [
    "# Command"
   ]
  },
  {
   "cell_type": "markdown",
   "metadata": {},
   "source": [
    "- 查找命令（可执行文件） whereis g++ 或 which g++\n",
    "- 从系统根目录打开文件 open /usr/bin，从当前目录打开文件 open usr/bin=open ~/usr/bin（注意区别，前者是绝对路径,从根目录/开始，后者个是相对当前路径，从家目录～开始）\n",
    "- /usr/bin中存储这系统的可执行命令\n",
    "- pwd 打印绝对路径\n",
    "- cd ~ 返回到home目录\n",
    "- cd ..返回上一目录\n",
    "- git clone 将项目克隆在当前目录下\n",
    "- brew: https://learnku.com/articles/18908\n",
    "- ehco [字符串] 在屏幕上显示一段文字  \n",
    "- echo [字符串]>>[filepath] 输出流重定向至filepath，向该文件写入字符串，该文件不存在则创建 \n",
    "- tree --help 查看命令功能  \n",
    "- tree 查看当前目录下所有目录 \n",
    "- tree -d 只显示文件夹\n",
    "- tree folderName 查看当前路径folderName目录下的所有目录\n",
    "- tree -L 1 查看当前路径下所有一级目录  \n",
    "- tree -L 2 查看当前路径下所有一级和二级目录\n",
    "- ls -a 显示所有文件包括隐藏文件\n",
    "- 清屏 clear/command + k\n",
    "- 退出python编译环境：control+D/qiut()\n",
    "- wget url 从网页下载，默认保存路径在home目录\n",
    "- \\$HOME home目录的路径\n",
    "- /bin/bash \\$HOME/miniconda.sh -b bash是执行文件（像python），sh类似于安装包，该命令是安装home目录下miniconda.sh文件，在home目录生成安装文件夹\n",
    "- alias lx=ls 给命令指定别名\n"
   ]
  },
  {
   "cell_type": "markdown",
   "metadata": {},
   "source": [
    "##  查找"
   ]
  },
  {
   "cell_type": "markdown",
   "metadata": {},
   "source": [
    "- which：找可执行文件\n",
    "- find ：找文件，如在/usr下找concurrent_queue.h文件 find /usr -name concurrent_queue.h"
   ]
  },
  {
   "cell_type": "markdown",
   "metadata": {},
   "source": [
    "# 添加环境变量"
   ]
  },
  {
   "cell_type": "markdown",
   "metadata": {},
   "source": [
    "which只是用于找可执行文件，不是所有类型的文件\n",
    "将可执行文件的路径添加进$PATH中，已实现在命令行执行时时系统可以根据路径找到该可执行文件，而不是所有类型的文件（如头文件）\n",
    "\n",
    "- 方法1\n",
    "    - echo \"alias g++='g++ -std=c++11'\" >> ~/.bashrc  \n",
    "    - source ~/.bashrc\n",
    "    - 解释 echo是将字符串输出到标准输出设备，>>改变了输出设备方向，将字符串存储在home目录的.bashrc文件下（配置文件）\n",
    "- 方法2\n",
    "    - export PATH=\\$HOME/miniconda3/bin:$PATH            \n",
    "    - source ～/.bash_profile表示立即生效（不需要通过重启来生效）\n",
    "    - 解释：将bin路径加入环境变量 即将路径加入到~/.bash_profile文件中 \n",
    "  \n",
    "  \n",
    "\n",
    "\n",
    "\n",
    "- env 查看所有环境变量\n",
    "- echo $PATH 查看环境变量PATH的VALUE\n",
    "- unset KEY  清除为KEY的环境变量"
   ]
  },
  {
   "cell_type": "markdown",
   "metadata": {},
   "source": [
    "# 常见错误"
   ]
  },
  {
   "cell_type": "markdown",
   "metadata": {},
   "source": [
    "## 找不到头文件"
   ]
  },
  {
   "cell_type": "markdown",
   "metadata": {
    "ExecuteTime": {
     "end_time": "2019-06-14T03:11:56.162472Z",
     "start_time": "2019-06-14T03:11:56.149815Z"
    }
   },
   "source": [
    "缺少c/c++头文件\n",
    "    - 1：MAC OS 10.14将头文件从/usr/include移除，gcc/g++的默认搜索路径是/usr/include，由于该路径不存在导致找不到头文件\n",
    "        - 解决方法：参考： https://github.com/neovim/neovim/issues/9050，可以添加/usr/include文件夹\n",
    "            - 安装软件：open /Library/Developer/CommandLineTools/Packages/macOS_SDK_headers_for_macOS_10.14.pkg\n",
    "            - 配置环境变量：export MACOSX_DEPLOYMENT_TARGET=10.14\n",
    "    - 2: 通过brew安装的软件其头文件都在/usr/local/include中，需要将该路径添加到gcc/g++的默认搜索路径中"
   ]
  },
  {
   "cell_type": "markdown",
   "metadata": {},
   "source": [
    "缺少软件的头文件\n",
    "  \n",
    "  - 是否在home目录添加.文件，如.mujoco/\n",
    "  - .mujoco/文件中是否缺少该头文件"
   ]
  },
  {
   "cell_type": "markdown",
   "metadata": {},
   "source": [
    "缺少头文件一般是没有配置好环境变量，找不到路径"
   ]
  },
  {
   "cell_type": "markdown",
   "metadata": {},
   "source": []
  },
  {
   "cell_type": "markdown",
   "metadata": {},
   "source": []
  },
  {
   "cell_type": "code",
   "execution_count": null,
   "metadata": {},
   "outputs": [],
   "source": []
  }
 ],
 "metadata": {
  "kernelspec": {
   "display_name": "Python [default]",
   "language": "python",
   "name": "python3"
  },
  "language_info": {
   "codemirror_mode": {
    "name": "ipython",
    "version": 3
   },
   "file_extension": ".py",
   "mimetype": "text/x-python",
   "name": "python",
   "nbconvert_exporter": "python",
   "pygments_lexer": "ipython3",
   "version": "3.6.5"
  },
  "toc": {
   "base_numbering": 1,
   "nav_menu": {},
   "number_sections": true,
   "sideBar": true,
   "skip_h1_title": false,
   "title_cell": "Table of Contents",
   "title_sidebar": "Contents",
   "toc_cell": false,
   "toc_position": {},
   "toc_section_display": true,
   "toc_window_display": false
  }
 },
 "nbformat": 4,
 "nbformat_minor": 2
}
