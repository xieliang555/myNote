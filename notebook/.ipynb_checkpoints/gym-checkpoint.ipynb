{
 "cells": [
  {
   "cell_type": "code",
   "execution_count": 2,
   "metadata": {
    "ExecuteTime": {
     "end_time": "2019-07-25T00:34:11.471851Z",
     "start_time": "2019-07-25T00:34:11.180534Z"
    }
   },
   "outputs": [],
   "source": [
    "import gym"
   ]
  },
  {
   "cell_type": "markdown",
   "metadata": {},
   "source": [
    "- 离散动作：CartPole-v0；连续动作：CarRacing-v0；依赖于Atari库:MountainCar-v0；依赖于MuJoCo库:Hopper-v2\n",
    "- 所有环境介绍： http://gym.openai.com/envs/#classic_control\n",
    "- print(\"所有环境： \",gym.envs.registry.all())"
   ]
  },
  {
   "cell_type": "markdown",
   "metadata": {},
   "source": [
    "# 离散动作"
   ]
  },
  {
   "cell_type": "markdown",
   "metadata": {},
   "source": [
    "- 常用：\n",
    "    - CartPole-v0\n",
    "    - LunarLander-v2\n",
    "    - PongNoFrameskip-v4\n",
    "    - SpaceInvaders-ram-v0\n",
    "    - SpaceInvaders-v0\n",
    "    - Atlantis-v0"
   ]
  },
  {
   "cell_type": "code",
   "execution_count": 3,
   "metadata": {
    "ExecuteTime": {
     "end_time": "2019-08-07T11:20:22.735125Z",
     "start_time": "2019-08-07T11:20:22.575876Z"
    }
   },
   "outputs": [],
   "source": [
    "env=gym.make('Atlantis-v0')"
   ]
  },
  {
   "cell_type": "markdown",
   "metadata": {},
   "source": [
    "## 最长episode"
   ]
  },
  {
   "cell_type": "code",
   "execution_count": 5,
   "metadata": {
    "ExecuteTime": {
     "end_time": "2019-07-10T00:45:54.866937Z",
     "start_time": "2019-07-10T00:45:54.862744Z"
    }
   },
   "outputs": [
    {
     "name": "stdout",
     "output_type": "stream",
     "text": [
      "maximum episode length:  200\n"
     ]
    }
   ],
   "source": [
    "print(\"maximum episode length: \",env.spec.max_episode_steps)"
   ]
  },
  {
   "cell_type": "markdown",
   "metadata": {},
   "source": [
    "## 获取对象"
   ]
  },
  {
   "cell_type": "code",
   "execution_count": 8,
   "metadata": {
    "ExecuteTime": {
     "end_time": "2019-07-25T12:01:52.242486Z",
     "start_time": "2019-07-25T12:01:52.234277Z"
    }
   },
   "outputs": [
    {
     "name": "stdout",
     "output_type": "stream",
     "text": [
      "环境对象：  <TimeLimit<AtariEnv<PongNoFrameskip-v4>>>\n",
      "离散动作对象：  Discrete(6)\n",
      "连续状态对象：  Box(210, 160, 3)\n"
     ]
    }
   ],
   "source": [
    "print(\"环境对象： \",env)\n",
    "print(\"离散动作对象： \",env.action_space)\n",
    "print(\"连续状态对象： \",env.observation_space)"
   ]
  },
  {
   "cell_type": "markdown",
   "metadata": {},
   "source": [
    "## 获取维度"
   ]
  },
  {
   "cell_type": "code",
   "execution_count": 4,
   "metadata": {
    "ExecuteTime": {
     "end_time": "2019-08-07T11:20:25.776716Z",
     "start_time": "2019-08-07T11:20:25.765309Z"
    }
   },
   "outputs": [
    {
     "name": "stdout",
     "output_type": "stream",
     "text": [
      "连续状态维度：  (210, 160, 3)\n",
      "离散动作维度：  4\n",
      "False\n"
     ]
    }
   ],
   "source": [
    "# 注意离散动作的维度不是指n个变量，而是一个变量的不同取值，\n",
    "# 如汽车的方向，可以向左或向右或不动，则n=3，注意与连续动作区分\n",
    "print(\"连续状态维度： \",env.observation_space.shape)\n",
    "print(\"离散动作维度： \",env.action_space.n)\n",
    "print(env.action_space.contains(6))"
   ]
  },
  {
   "cell_type": "markdown",
   "metadata": {},
   "source": [
    "## reset"
   ]
  },
  {
   "cell_type": "code",
   "execution_count": 23,
   "metadata": {
    "ExecuteTime": {
     "end_time": "2019-07-10T13:17:42.097483Z",
     "start_time": "2019-07-10T13:17:42.082789Z"
    }
   },
   "outputs": [
    {
     "name": "stdout",
     "output_type": "stream",
     "text": [
      "s_0：  [[[  0   0   0]\n",
      "  [  0   0   0]\n",
      "  [  0   0   0]\n",
      "  ...\n",
      "  [109 118  43]\n",
      "  [109 118  43]\n",
      "  [109 118  43]]\n",
      "\n",
      " [[109 118  43]\n",
      "  [109 118  43]\n",
      "  [109 118  43]\n",
      "  ...\n",
      "  [109 118  43]\n",
      "  [109 118  43]\n",
      "  [109 118  43]]\n",
      "\n",
      " [[109 118  43]\n",
      "  [109 118  43]\n",
      "  [109 118  43]\n",
      "  ...\n",
      "  [109 118  43]\n",
      "  [109 118  43]\n",
      "  [109 118  43]]\n",
      "\n",
      " ...\n",
      "\n",
      " [[ 53  95  24]\n",
      "  [ 53  95  24]\n",
      "  [ 53  95  24]\n",
      "  ...\n",
      "  [ 53  95  24]\n",
      "  [ 53  95  24]\n",
      "  [ 53  95  24]]\n",
      "\n",
      " [[ 53  95  24]\n",
      "  [ 53  95  24]\n",
      "  [ 53  95  24]\n",
      "  ...\n",
      "  [ 53  95  24]\n",
      "  [ 53  95  24]\n",
      "  [ 53  95  24]]\n",
      "\n",
      " [[ 53  95  24]\n",
      "  [ 53  95  24]\n",
      "  [ 53  95  24]\n",
      "  ...\n",
      "  [ 53  95  24]\n",
      "  [ 53  95  24]\n",
      "  [ 53  95  24]]]\n",
      "(210, 160, 3)\n"
     ]
    }
   ],
   "source": [
    "obs=env.reset()\n",
    "print(\"s_0： \",obs)\n",
    "print(obs.shape)"
   ]
  },
  {
   "cell_type": "markdown",
   "metadata": {},
   "source": [
    "## sample action"
   ]
  },
  {
   "cell_type": "code",
   "execution_count": 15,
   "metadata": {
    "ExecuteTime": {
     "end_time": "2019-07-10T00:50:41.997525Z",
     "start_time": "2019-07-10T00:50:41.985821Z"
    }
   },
   "outputs": [
    {
     "name": "stdout",
     "output_type": "stream",
     "text": [
      "a_0： 1\n"
     ]
    }
   ],
   "source": [
    "action=env.action_space.sample()\n",
    "print(\"a_0：\",action)"
   ]
  },
  {
   "cell_type": "markdown",
   "metadata": {},
   "source": [
    "## step"
   ]
  },
  {
   "cell_type": "code",
   "execution_count": 49,
   "metadata": {
    "ExecuteTime": {
     "end_time": "2019-07-10T01:11:45.237224Z",
     "start_time": "2019-07-10T01:11:45.230247Z"
    }
   },
   "outputs": [
    {
     "name": "stdout",
     "output_type": "stream",
     "text": [
      "s_1： [-0.05887593 -0.10610249 -0.19634122  0.556054    0.3314786  -0.05592567\n",
      " -0.4024583   0.48150241  0.05402563 -1.40710773  0.28472323  1.36071248\n",
      " -1.8411903  -1.52855009 -0.63264071  1.0487146  -1.31251566]\n",
      "r_1： -0.24227446821423565\n",
      "是否结束： False\n"
     ]
    }
   ],
   "source": [
    "obs,reward,done,_=env.step(action)\n",
    "print(\"s_1：\",obs)\n",
    "print(\"r_1：\",reward)\n",
    "print(\"是否结束：\",done)"
   ]
  },
  {
   "cell_type": "markdown",
   "metadata": {},
   "source": [
    "## render"
   ]
  },
  {
   "cell_type": "code",
   "execution_count": 24,
   "metadata": {
    "ExecuteTime": {
     "end_time": "2019-07-10T00:53:52.322756Z",
     "start_time": "2019-07-10T00:53:48.709034Z"
    }
   },
   "outputs": [],
   "source": [
    "env.reset()\n",
    "for i in range(1000):\n",
    "        env.render()\n",
    "        _,r,done,_=env.step(env.action_space.sample())\n",
    "        if(done):\n",
    "            env.reset() \n",
    "env.close()"
   ]
  },
  {
   "cell_type": "markdown",
   "metadata": {},
   "source": [
    "# 连续动作"
   ]
  },
  {
   "cell_type": "markdown",
   "metadata": {},
   "source": [
    "- 常用：\n",
    "    - MountainCarContinuous-v0\n",
    "    - InvertedPendulum-v2\n",
    "    - HalfCheetah-v2 无法关闭通过env.close关闭viewer"
   ]
  },
  {
   "cell_type": "code",
   "execution_count": 1,
   "metadata": {
    "ExecuteTime": {
     "end_time": "2019-08-07T11:20:01.969793Z",
     "start_time": "2019-08-07T11:20:01.554224Z"
    }
   },
   "outputs": [],
   "source": [
    "import gym\n",
    "env=gym.make('InvertedPendulum-v2')"
   ]
  },
  {
   "cell_type": "markdown",
   "metadata": {},
   "source": [
    "## 最长episode"
   ]
  },
  {
   "cell_type": "code",
   "execution_count": 28,
   "metadata": {
    "ExecuteTime": {
     "end_time": "2019-07-10T00:56:37.344080Z",
     "start_time": "2019-07-10T00:56:37.340045Z"
    }
   },
   "outputs": [
    {
     "name": "stdout",
     "output_type": "stream",
     "text": [
      "maximum episode length:  1000\n"
     ]
    }
   ],
   "source": [
    "print(\"maximum episode length: \",env.spec.max_episode_steps)"
   ]
  },
  {
   "cell_type": "markdown",
   "metadata": {},
   "source": [
    "## 获取对象"
   ]
  },
  {
   "cell_type": "code",
   "execution_count": 11,
   "metadata": {
    "ExecuteTime": {
     "end_time": "2019-07-15T13:16:52.910035Z",
     "start_time": "2019-07-15T13:16:52.902892Z"
    }
   },
   "outputs": [
    {
     "name": "stdout",
     "output_type": "stream",
     "text": [
      "连续动作对象：  Box(1,)\n",
      "连续状态对象：  Box(4,)\n"
     ]
    }
   ],
   "source": [
    "print(\"连续动作对象： \",env.action_space)\n",
    "print(\"连续状态对象： \",env.observation_space)"
   ]
  },
  {
   "cell_type": "markdown",
   "metadata": {},
   "source": [
    "## 获取维度"
   ]
  },
  {
   "cell_type": "code",
   "execution_count": 2,
   "metadata": {
    "ExecuteTime": {
     "end_time": "2019-08-07T11:20:05.114620Z",
     "start_time": "2019-08-07T11:20:04.999807Z"
    }
   },
   "outputs": [
    {
     "name": "stdout",
     "output_type": "stream",
     "text": [
      "连续动作维度：  ()\n",
      "连续状态维度：  (210, 160, 3)\n"
     ]
    },
    {
     "ename": "AttributeError",
     "evalue": "'Discrete' object has no attribute 'high'",
     "output_type": "error",
     "traceback": [
      "\u001b[0;31m---------------------------------------------------------------------------\u001b[0m",
      "\u001b[0;31mAttributeError\u001b[0m                            Traceback (most recent call last)",
      "\u001b[0;32m<ipython-input-2-c61a4669e229>\u001b[0m in \u001b[0;36m<module>\u001b[0;34m()\u001b[0m\n\u001b[1;32m      4\u001b[0m \u001b[0mprint\u001b[0m\u001b[0;34m(\u001b[0m\u001b[0;34m\"连续状态维度： \"\u001b[0m\u001b[0;34m,\u001b[0m\u001b[0menv\u001b[0m\u001b[0;34m.\u001b[0m\u001b[0mobservation_space\u001b[0m\u001b[0;34m.\u001b[0m\u001b[0mshape\u001b[0m\u001b[0;34m)\u001b[0m\u001b[0;34m\u001b[0m\u001b[0m\n\u001b[1;32m      5\u001b[0m \u001b[0;34m\u001b[0m\u001b[0m\n\u001b[0;32m----> 6\u001b[0;31m \u001b[0mprint\u001b[0m\u001b[0;34m(\u001b[0m\u001b[0;34m\"连续动作最大值： \"\u001b[0m\u001b[0;34m,\u001b[0m\u001b[0menv\u001b[0m\u001b[0;34m.\u001b[0m\u001b[0maction_space\u001b[0m\u001b[0;34m.\u001b[0m\u001b[0mhigh\u001b[0m\u001b[0;34m)\u001b[0m\u001b[0;34m\u001b[0m\u001b[0m\n\u001b[0m\u001b[1;32m      7\u001b[0m \u001b[0mprint\u001b[0m\u001b[0;34m(\u001b[0m\u001b[0;34m\"连续动作最小值： \"\u001b[0m\u001b[0;34m,\u001b[0m\u001b[0menv\u001b[0m\u001b[0;34m.\u001b[0m\u001b[0maction_space\u001b[0m\u001b[0;34m.\u001b[0m\u001b[0mlow\u001b[0m\u001b[0;34m)\u001b[0m\u001b[0;34m\u001b[0m\u001b[0m\n\u001b[1;32m      8\u001b[0m \u001b[0mprint\u001b[0m\u001b[0;34m(\u001b[0m\u001b[0;34m'第0维动作最大值：'\u001b[0m\u001b[0;34m,\u001b[0m\u001b[0menv\u001b[0m\u001b[0;34m.\u001b[0m\u001b[0maction_space\u001b[0m\u001b[0;34m.\u001b[0m\u001b[0mhigh\u001b[0m\u001b[0;34m[\u001b[0m\u001b[0;36m0\u001b[0m\u001b[0;34m]\u001b[0m\u001b[0;34m)\u001b[0m\u001b[0;34m\u001b[0m\u001b[0m\n",
      "\u001b[0;31mAttributeError\u001b[0m: 'Discrete' object has no attribute 'high'"
     ]
    }
   ],
   "source": [
    "# 连续动作维度是指有n个动作变量，注意与离散动作维度区分\n",
    "# high是n维一个数组记录每一个变量的最高值，low同理\n",
    "print(\"连续动作维度： \",env.action_space.shape)\n",
    "print(\"连续状态维度： \",env.observation_space.shape)\n",
    "\n",
    "print(\"连续动作最大值： \",env.action_space.high)\n",
    "print(\"连续动作最小值： \",env.action_space.low)\n",
    "print('第0维动作最大值：',env.action_space.high[0])"
   ]
  },
  {
   "cell_type": "markdown",
   "metadata": {},
   "source": [
    "## reset"
   ]
  },
  {
   "cell_type": "code",
   "execution_count": 44,
   "metadata": {
    "ExecuteTime": {
     "end_time": "2019-07-10T01:08:53.981087Z",
     "start_time": "2019-07-10T01:08:53.969102Z"
    }
   },
   "outputs": [
    {
     "name": "stdout",
     "output_type": "stream",
     "text": [
      "s_0：  [ 0.09914685 -0.07982732  0.00988399  0.04807351 -0.03538703 -0.05512785\n",
      " -0.05405898 -0.08310414  0.04199551 -0.07544683  0.05911374  0.25308018\n",
      "  0.02771656 -0.13880237  0.0389115  -0.12257536 -0.04654153]\n"
     ]
    }
   ],
   "source": [
    "obs=env.reset()\n",
    "print(\"s_0： \",obs)"
   ]
  },
  {
   "cell_type": "markdown",
   "metadata": {},
   "source": [
    "## sample action"
   ]
  },
  {
   "cell_type": "code",
   "execution_count": 46,
   "metadata": {
    "ExecuteTime": {
     "end_time": "2019-07-10T01:09:40.735151Z",
     "start_time": "2019-07-10T01:09:40.730004Z"
    }
   },
   "outputs": [
    {
     "name": "stdout",
     "output_type": "stream",
     "text": [
      "a_0： [-0.4140039   0.99342936  0.5818744  -0.05776102 -0.6953221   0.9803004 ]\n"
     ]
    }
   ],
   "source": [
    "action=env.action_space.sample()\n",
    "print(\"a_0：\",action)"
   ]
  },
  {
   "cell_type": "markdown",
   "metadata": {},
   "source": [
    "## step"
   ]
  },
  {
   "cell_type": "code",
   "execution_count": 51,
   "metadata": {
    "ExecuteTime": {
     "end_time": "2019-07-10T01:12:17.361400Z",
     "start_time": "2019-07-10T01:12:17.354529Z"
    }
   },
   "outputs": [
    {
     "name": "stdout",
     "output_type": "stream",
     "text": [
      "s_1： [ -0.22647741  -0.04342818  -0.20612088   0.6391032    0.24315374\n",
      "  -0.021804    -0.45128248   0.44763294  -0.03218414  -1.08127953\n",
      "   0.27771941  -0.12514253   2.14529429   0.2616084    3.7269662\n",
      " -10.50067947  -0.76470538]\n",
      "r_1： -0.06247372773848581\n",
      "是否结束： False\n"
     ]
    }
   ],
   "source": [
    "obs,reward,done,_=env.step(action)\n",
    "print(\"s_1：\",obs)\n",
    "print(\"r_1：\",reward)\n",
    "print(\"是否结束：\",done)"
   ]
  },
  {
   "cell_type": "markdown",
   "metadata": {},
   "source": [
    "## render"
   ]
  },
  {
   "cell_type": "code",
   "execution_count": 6,
   "metadata": {
    "ExecuteTime": {
     "end_time": "2019-07-10T01:18:51.451374Z",
     "start_time": "2019-07-10T01:18:48.796394Z"
    }
   },
   "outputs": [],
   "source": [
    "env.reset()\n",
    "for i in range(1000):\n",
    "        env.render()\n",
    "        o,r,done,_=env.step(env.action_space.sample())\n",
    "        if(done):\n",
    "            env.reset() \n",
    "env.close()"
   ]
  },
  {
   "cell_type": "markdown",
   "metadata": {},
   "source": [
    "# wrapper"
   ]
  },
  {
   "cell_type": "code",
   "execution_count": 6,
   "metadata": {
    "ExecuteTime": {
     "end_time": "2019-07-10T01:57:48.856941Z",
     "start_time": "2019-07-10T01:57:46.555697Z"
    }
   },
   "outputs": [
    {
     "name": "stdout",
     "output_type": "stream",
     "text": [
      "Episode finished after 11 timestep\n",
      "Episode finished after 9 timestep\n",
      "Episode finished after 21 timestep\n",
      "Episode finished after 11 timestep\n",
      "Episode finished after 12 timestep\n"
     ]
    }
   ],
   "source": [
    "# 记录算法学习的视频\n",
    "# 每一次运行需要更换存储路径\n",
    "\n",
    "import gym\n",
    "from gym import wrappers\n",
    "env=gym.make('CartPole-v0')\n",
    "env=wrappers.Monitor(env,'/Users/xieliang/dump/wrapper_gym')\n",
    "for i_episode in range(5):\n",
    "    observation=env.reset()\n",
    "    for t in range(200):\n",
    "        env.render()\n",
    "        action=env.action_space.sample()\n",
    "        s,r,done,info=env.step(action)\n",
    "        if done:\n",
    "            print(\"Episode finished after {} timestep\".format(t+1))\n",
    "            break\n",
    "    env.close()\n"
   ]
  },
  {
   "cell_type": "code",
   "execution_count": null,
   "metadata": {},
   "outputs": [],
   "source": []
  },
  {
   "cell_type": "code",
   "execution_count": null,
   "metadata": {},
   "outputs": [],
   "source": []
  }
 ],
 "metadata": {
  "kernelspec": {
   "display_name": "Python [conda env:spinningUp]",
   "language": "python",
   "name": "conda-env-spinningUp-py"
  },
  "language_info": {
   "codemirror_mode": {
    "name": "ipython",
    "version": 3
   },
   "file_extension": ".py",
   "mimetype": "text/x-python",
   "name": "python",
   "nbconvert_exporter": "python",
   "pygments_lexer": "ipython3",
   "version": "3.6.2"
  },
  "toc": {
   "base_numbering": 1,
   "nav_menu": {},
   "number_sections": true,
   "sideBar": true,
   "skip_h1_title": false,
   "title_cell": "Table of Contents",
   "title_sidebar": "Contents",
   "toc_cell": false,
   "toc_position": {},
   "toc_section_display": true,
   "toc_window_display": true
  }
 },
 "nbformat": 4,
 "nbformat_minor": 2
}
