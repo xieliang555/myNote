{
 "cells": [
  {
   "cell_type": "code",
   "execution_count": 2,
   "metadata": {
    "ExecuteTime": {
     "end_time": "2019-08-07T08:19:15.909254Z",
     "start_time": "2019-08-07T08:19:11.127652Z"
    }
   },
   "outputs": [],
   "source": [
    "import tensorflow as tf"
   ]
  },
  {
   "cell_type": "markdown",
   "metadata": {},
   "source": [
    "# 常用网络"
   ]
  },
  {
   "cell_type": "markdown",
   "metadata": {},
   "source": [
    "## build_mlp"
   ]
  },
  {
   "cell_type": "code",
   "execution_count": 6,
   "metadata": {
    "ExecuteTime": {
     "end_time": "2019-07-15T06:18:35.953592Z",
     "start_time": "2019-07-15T06:18:35.948749Z"
    }
   },
   "outputs": [],
   "source": [
    "def build_mlp(input_placehold, output_size, n_layers, size, activation=tf.tanh, output_activation=None, scope=None):\n",
    "    out=input_placehold\n",
    "    with tf.variable_scope(scope):\n",
    "        for _ in n_layers:\n",
    "            out=tf.layers.dense(out, size, activation)\n",
    "        out=tf.layers.dense(out, output_size, output_activation)\n",
    "    return out"
   ]
  },
  {
   "cell_type": "markdown",
   "metadata": {},
   "source": [
    "## build_cnn"
   ]
  },
  {
   "cell_type": "code",
   "execution_count": 2,
   "metadata": {
    "ExecuteTime": {
     "end_time": "2019-07-25T13:15:36.319386Z",
     "start_time": "2019-07-25T13:15:36.314500Z"
    }
   },
   "outputs": [],
   "source": [
    "def build_cnn(input_placeholder, output_size, scope, reuse=False):\n",
    "    with tf.variable_scope(scope, reuse=reuse):\n",
    "        out=input_placeholder\n",
    "        with tf.variable_scope(\"convnet\"):\n",
    "            out=tf.layers.conv2d(out, filters=32, kernel_size=8, strides=4, activation=tf.nn.relu)\n",
    "            out=tf.layers.conv2d(out, filters=64, kernel_size=4, strides=2, activation=tf.nn.relu)\n",
    "            out=tf.layers.conv2d(out, filters=64, kernel_size=3, strides=1, activation=tf.nn.relu)\n",
    "        out=tf.layers.flatten(out)\n",
    "        with tf.variable_scope(\"fullynet\"):\n",
    "            out=tf.layers.dense(out, units=512, activation=tf.nn.relu)\n",
    "            out=tf.layers.dense(out, units=output_size, activation=None)\n",
    "            \n",
    "        return out"
   ]
  },
  {
   "cell_type": "markdown",
   "metadata": {},
   "source": [
    "## 手写数字识别"
   ]
  },
  {
   "cell_type": "code",
   "execution_count": null,
   "metadata": {},
   "outputs": [],
   "source": [
    "import tensorflow as tf\n",
    "\n",
    "def mlp(input_placeholder, output_size, n_layers=1, size=32, activation=tf.tanh, output_activation=None):\n",
    "    out=input_placeholder\n",
    "    for _ in range(n_layers):\n",
    "        out=tf.layers.dense(out, size, activation)\n",
    "    out=tf.layers.dense(out, output_size, output_activation)\n",
    "    return out\n",
    "\n",
    "def build_graph(input_size, output_size, learning_rate):\n",
    "    \n",
    "    x=tf.placeholder(dtype=tf.float32, shape=[None, input_size, input_size])\n",
    "    y_=tf.placeholder(dtype=tf.int16, shape=[None, output_size])\n",
    "    y=mlp(x, output_size)\n",
    "    loss=tf.nn.sparse_softmax_cross_entropy_with_logits(logits=y, labels=y_)\n",
    "    update_op=tf.train.AdamOptimizer(learning_rate).minimize(loss)\n",
    "    correct_prediction=tf.equal(tf.arg_max(input=y_, dimension=1), tf.arg_max(y,1))\n",
    "    accuracy=tf.reduce_mean(tf.cast(correct_prediction, dtype=tf.float32))\n",
    "    \n",
    "def train(x,y_, epoches, batch_size):\n",
    "    with tf.Session() as sess:\n",
    "        for _ in range(epoches):\n",
    "            batch_idx=tf.random\n",
    "    \n",
    "def test(x,y_):\n",
    "    \n",
    "    "
   ]
  },
  {
   "cell_type": "markdown",
   "metadata": {},
   "source": [
    "# 常用layer"
   ]
  },
  {
   "cell_type": "markdown",
   "metadata": {},
   "source": [
    "- tf.nn.log_softmax()"
   ]
  },
  {
   "cell_type": "markdown",
   "metadata": {},
   "source": [
    "# 常用函数"
   ]
  },
  {
   "cell_type": "markdown",
   "metadata": {},
   "source": [
    "## tf.one_hot"
   ]
  },
  {
   "cell_type": "code",
   "execution_count": 22,
   "metadata": {
    "ExecuteTime": {
     "end_time": "2019-07-15T08:17:32.470996Z",
     "start_time": "2019-07-15T08:17:32.455527Z"
    }
   },
   "outputs": [
    {
     "name": "stdout",
     "output_type": "stream",
     "text": [
      "[[1. 0. 0.]]\n"
     ]
    }
   ],
   "source": [
    "a=tf.constant([0])\n",
    "b=tf.one_hot(a,depth=3)\n",
    "with tf.Session() as sess:\n",
    "    print(sess.run(b))"
   ]
  },
  {
   "cell_type": "markdown",
   "metadata": {},
   "source": [
    "## tf.multinomial( )"
   ]
  },
  {
   "cell_type": "code",
   "execution_count": 23,
   "metadata": {
    "ExecuteTime": {
     "end_time": "2019-07-15T08:17:34.359521Z",
     "start_time": "2019-07-15T08:17:34.343779Z"
    },
    "scrolled": true
   },
   "outputs": [
    {
     "name": "stdout",
     "output_type": "stream",
     "text": [
      "[[0 2 1 1 1 1 1 2 1 1]\n",
      " [0 1 2 2 1 0 0 0 1 1]]\n"
     ]
    }
   ],
   "source": [
    "# 会先对logits进行softmax\n",
    "logits=[[0.1,0.5,0.2],[0.3,0.4,0.1]]\n",
    "x=tf.multinomial(logits,10)\n",
    "with tf.Session() as sess:\n",
    "    print(sess.run(x))"
   ]
  },
  {
   "cell_type": "markdown",
   "metadata": {},
   "source": [
    "## tf.random_normal()"
   ]
  },
  {
   "cell_type": "code",
   "execution_count": 5,
   "metadata": {
    "ExecuteTime": {
     "end_time": "2019-08-07T08:19:46.891778Z",
     "start_time": "2019-08-07T08:19:46.872177Z"
    }
   },
   "outputs": [
    {
     "name": "stdout",
     "output_type": "stream",
     "text": [
      "[[ 1.4023237   2.2189064   1.2545155 ]\n",
      " [ 1.1243804   1.1218641  -0.32656378]]\n"
     ]
    }
   ],
   "source": [
    "x=tf.random_normal(shape=[2,3])\n",
    "with tf.Session() as sess:\n",
    "    print(sess.run(x))"
   ]
  },
  {
   "cell_type": "markdown",
   "metadata": {},
   "source": [
    "## 不同维度的加减法"
   ]
  },
  {
   "cell_type": "code",
   "execution_count": 16,
   "metadata": {
    "ExecuteTime": {
     "end_time": "2019-08-07T08:29:18.198117Z",
     "start_time": "2019-08-07T08:29:18.113351Z"
    }
   },
   "outputs": [
    {
     "name": "stdout",
     "output_type": "stream",
     "text": [
      "[[2 2 2]\n",
      " [4 4 4]]\n",
      "[[2 3 4]\n",
      " [3 4 5]]\n",
      "(2, 1)\n",
      "(3,)\n",
      "(2, 3)\n"
     ]
    }
   ],
   "source": [
    "x1=tf.constant([[1],[2]])\n",
    "x2=tf.constant([1,2,3])\n",
    "y=tf.constant([[1,1,1],[2,2,2]])\n",
    "z1=x1+y\n",
    "z2=x2+y\n",
    "with tf.Session() as sess:\n",
    "    print(sess.run(z1))\n",
    "    print(sess.run(z2))\n",
    "    print(x1.shape)\n",
    "    print(x2.shape)\n",
    "    print(y.shape)"
   ]
  },
  {
   "cell_type": "code",
   "execution_count": 17,
   "metadata": {
    "ExecuteTime": {
     "end_time": "2019-08-07T08:29:56.277747Z",
     "start_time": "2019-08-07T08:29:56.262263Z"
    }
   },
   "outputs": [
    {
     "name": "stdout",
     "output_type": "stream",
     "text": [
      "[[-1  0  1]\n",
      " [-1  0  1]]\n"
     ]
    }
   ],
   "source": [
    "x=tf.constant([[1,2,3],[4,5,6]])\n",
    "y=x-tf.reduce_mean(x,axis=1,keep_dims=True)\n",
    "with tf.Session() as sess:\n",
    "    print(sess.run(y))"
   ]
  },
  {
   "cell_type": "code",
   "execution_count": null,
   "metadata": {},
   "outputs": [],
   "source": []
  }
 ],
 "metadata": {
  "kernelspec": {
   "display_name": "Python [default]",
   "language": "python",
   "name": "python3"
  },
  "language_info": {
   "codemirror_mode": {
    "name": "ipython",
    "version": 3
   },
   "file_extension": ".py",
   "mimetype": "text/x-python",
   "name": "python",
   "nbconvert_exporter": "python",
   "pygments_lexer": "ipython3",
   "version": "3.6.5"
  },
  "toc": {
   "base_numbering": 1,
   "nav_menu": {},
   "number_sections": true,
   "sideBar": true,
   "skip_h1_title": false,
   "title_cell": "Table of Contents",
   "title_sidebar": "Contents",
   "toc_cell": false,
   "toc_position": {},
   "toc_section_display": true,
   "toc_window_display": true
  }
 },
 "nbformat": 4,
 "nbformat_minor": 2
}
