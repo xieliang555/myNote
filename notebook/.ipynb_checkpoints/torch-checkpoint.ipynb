{
 "cells": [
  {
   "cell_type": "code",
   "execution_count": 10,
   "metadata": {
    "ExecuteTime": {
     "end_time": "2019-07-05T02:48:03.451560Z",
     "start_time": "2019-07-05T02:48:03.436236Z"
    }
   },
   "outputs": [
    {
     "name": "stdout",
     "output_type": "stream",
     "text": [
      "Net4(\n",
      "  (conv): Sequential(\n",
      "    (conv1): Conv2d(3, 32, kernel_size=(3, 3), stride=(1, 1), padding=(1, 1))\n",
      "    (relu1): ReLU()\n",
      "    (pool): MaxPool2d(kernel_size=2, stride=2, padding=0, dilation=1, ceil_mode=False)\n",
      "  )\n",
      "  (dense): Sequential(\n",
      "    (dense1): Linear(in_features=288, out_features=128, bias=True)\n",
      "    (relu2): ReLU()\n",
      "    (dense2): Linear(in_features=128, out_features=10, bias=True)\n",
      "  )\n",
      ")\n"
     ]
    }
   ],
   "source": [
    "import torch\n",
    "from collections import OrderedDict\n",
    "\n",
    "class Net4(torch.nn.Module):\n",
    "    def __init__(self):\n",
    "        super(Net4, self).__init__()\n",
    "        self.conv = torch.nn.Sequential(\n",
    "            OrderedDict(\n",
    "                [\n",
    "                    (\"conv1\", torch.nn.Conv2d(3, 32, 3, 1, 1)),\n",
    "                    (\"relu1\", torch.nn.ReLU()),\n",
    "                    (\"pool\", torch.nn.MaxPool2d(2))\n",
    "                ]\n",
    "            ))\n",
    " \n",
    "        self.dense = torch.nn.Sequential(\n",
    "            OrderedDict([\n",
    "                (\"dense1\", torch.nn.Linear(32 * 3 * 3, 128)),\n",
    "                (\"relu2\", torch.nn.ReLU()),\n",
    "                (\"dense2\", torch.nn.Linear(128, 10))\n",
    "            ])\n",
    "        )\n",
    " \n",
    "    def forward(self, x):\n",
    "        conv_out = self.conv1(x)\n",
    "        res = conv_out.view(conv_out.size(0), -1)\n",
    "        out = self.dense(res)\n",
    "        return out\n",
    " \n",
    "model4 = Net4()\n",
    "print(model4)"
   ]
  },
  {
   "cell_type": "code",
   "execution_count": 3,
   "metadata": {
    "ExecuteTime": {
     "end_time": "2019-07-05T05:55:21.094726Z",
     "start_time": "2019-07-05T05:55:21.085582Z"
    }
   },
   "outputs": [
    {
     "name": "stdout",
     "output_type": "stream",
     "text": [
      "Net(\n",
      "  (hidden): Linear(in_features=1, out_features=10, bias=True)\n",
      "  (predict): Linear(in_features=10, out_features=1, bias=True)\n",
      ")\n"
     ]
    }
   ],
   "source": [
    "import torch\n",
    "import torch.nn.functional as F\n",
    "from torch.autograd import Variable\n",
    "import matplotlib.pyplot as plt\n",
    " \n",
    "x = torch.unsqueeze(torch.linspace(-1,1,100),dim = 1)\n",
    "#unsqueeze函数创建一个维度是1的向量\n",
    "# linspace函数生成在-1到1之间的100个数\n",
    " \n",
    "y = x**2+0.2*torch.rand(x.size())\n",
    "#得到x自乘的矩阵，然后加上同x矩阵相同的噪声\n",
    " \n",
    "# print(x,y,x.size())\n",
    "#输出x，y矩阵，以及矩阵x的大小\n",
    " \n",
    "x,y = Variable(x),Variable(y)\n",
    "#将矩阵转化为 变量\n",
    " \n",
    "class Net(torch.nn.Module):\n",
    "    def __init__(self,n_feature,n_hidden,n_output):\n",
    "        super(Net,self).__init__()\n",
    "        #此步骤是官方要求\n",
    "        self.hidden = torch.nn.Linear(n_feature,n_hidden)\n",
    "        self.predict = torch.nn.Linear(n_hidden,n_output)\n",
    " \n",
    "    def forward(self,x):\n",
    "        x = F.relu(self.hidden(x))\n",
    "        x = self.predict(x)\n",
    "        return x\n",
    "net = Net(1,10,1)\n",
    "print(net)\n"
   ]
  },
  {
   "cell_type": "code",
   "execution_count": 4,
   "metadata": {
    "ExecuteTime": {
     "end_time": "2019-07-05T05:55:22.653203Z",
     "start_time": "2019-07-05T05:55:22.493751Z"
    }
   },
   "outputs": [
    {
     "data": {
      "image/png": "[encoded data removed]",
      "text/plain": [
       "<Figure size 432x288 with 1 Axes>"
      ]
     },
     "metadata": {
      "needs_background": "light"
     },
     "output_type": "display_data"
    }
   ],
   "source": [
    "opt = torch.optim.SGD(net.parameters(),lr=0.5)\n",
    "#设置学习率为0.5，用随机梯度下降发优化神经网络的参数\n",
    " \n",
    "lossfunc = torch.nn.MSELoss()\n",
    "#设置损失函数为均方损失函数，用来计算每次的误差\n",
    "Loss=[]\n",
    "for t in range(100):\n",
    "#进行100次的优化\n",
    "    prediction = net(x)\n",
    "    #得到预测值\n",
    "    loss=lossfunc(prediction,y)\n",
    "    Loss.append(loss)\n",
    "    #得到预测值与真实值之间的误差\n",
    "    opt.zero_grad()\n",
    "    #梯度清零\n",
    "    loss.backward()\n",
    "    #反向传播\n",
    "    opt.step()\n",
    "    #梯度优化\n",
    "plt.plot(Loss)\n",
    "plt.ioff()\n",
    "plt.show()"
   ]
  },
  {
   "cell_type": "code",
   "execution_count": 1,
   "metadata": {
    "ExecuteTime": {
     "end_time": "2019-07-05T06:44:18.600078Z",
     "start_time": "2019-07-05T06:44:17.788455Z"
    }
   },
   "outputs": [],
   "source": [
    "from __future__ import print_function\n",
    "import torch\n",
    "import torch.nn as nn\n",
    "import torch.optim as optim\n",
    "import torch.nn.functional as F\n",
    "from torch.autograd import Variable as V\n",
    "\n",
    "# import gym\n",
    "# import gym.spaces\n",
    "# import random\n",
    "# gym.logger.set_level(gym.logger.ERROR)\n",
    "import numpy as np\n",
    "from collections import namedtuple\n",
    "from ipywidgets import interact, interactive, fixed, interact_manual\n",
    "import ipywidgets as widgets\n",
    "import time\n",
    "import matplotlib.pyplot as plt\n",
    "from matplotlib import animation\n",
    "from builtins import super\n",
    "from IPython.display import display, Image"
   ]
  },
  {
   "cell_type": "code",
   "execution_count": null,
   "metadata": {},
   "outputs": [],
   "source": []
  }
 ],
 "metadata": {
  "kernelspec": {
   "display_name": "Python [conda env:torch]",
   "language": "python",
   "name": "conda-env-torch-py"
  },
  "language_info": {
   "codemirror_mode": {
    "name": "ipython",
    "version": 3
   },
   "file_extension": ".py",
   "mimetype": "text/x-python",
   "name": "python",
   "nbconvert_exporter": "python",
   "pygments_lexer": "ipython3",
   "version": "3.6.8"
  },
  "toc": {
   "base_numbering": 1,
   "nav_menu": {},
   "number_sections": true,
   "sideBar": true,
   "skip_h1_title": false,
   "title_cell": "Table of Contents",
   "title_sidebar": "Contents",
   "toc_cell": false,
   "toc_position": {},
   "toc_section_display": true,
   "toc_window_display": false
  }
 },
 "nbformat": 4,
 "nbformat_minor": 2
}
