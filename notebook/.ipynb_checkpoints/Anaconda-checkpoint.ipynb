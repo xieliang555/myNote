{
 "cells": [
  {
   "cell_type": "markdown",
   "metadata": {
    "toc": true
   },
   "source": [
    "<h1>Table of Contents<span class=\"tocSkip\"></span></h1>\n",
    "<div class=\"toc\"><ul class=\"toc-item\"><li><span><a href=\"#conda\" data-toc-modified-id=\"conda-1\"><span class=\"toc-item-num\">1&nbsp;&nbsp;</span>conda</a></span><ul class=\"toc-item\"><li><span><a href=\"#虚拟环境\" data-toc-modified-id=\"虚拟环境-1.1\"><span class=\"toc-item-num\">1.1&nbsp;&nbsp;</span>虚拟环境</a></span></li><li><span><a href=\"#Package\" data-toc-modified-id=\"Package-1.2\"><span class=\"toc-item-num\">1.2&nbsp;&nbsp;</span>Package</a></span></li></ul></li><li><span><a href=\"#pip\" data-toc-modified-id=\"pip-2\"><span class=\"toc-item-num\">2&nbsp;&nbsp;</span>pip</a></span></li><li><span><a href=\"#Jupyter-Notebook\" data-toc-modified-id=\"Jupyter-Notebook-3\"><span class=\"toc-item-num\">3&nbsp;&nbsp;</span>Jupyter Notebook</a></span><ul class=\"toc-item\"><li><span><a href=\"#添加目录\" data-toc-modified-id=\"添加目录-3.1\"><span class=\"toc-item-num\">3.1&nbsp;&nbsp;</span>添加目录</a></span></li><li><span><a href=\"#将虚拟环境导入jupyter-notebook\" data-toc-modified-id=\"将虚拟环境导入jupyter-notebook-3.2\"><span class=\"toc-item-num\">3.2&nbsp;&nbsp;</span>将虚拟环境导入jupyter notebook</a></span></li><li><span><a href=\"#插入图片\" data-toc-modified-id=\"插入图片-3.3\"><span class=\"toc-item-num\">3.3&nbsp;&nbsp;</span>插入图片</a></span></li></ul></li><li><span><a href=\"#安装问题\" data-toc-modified-id=\"安装问题-4\"><span class=\"toc-item-num\">4&nbsp;&nbsp;</span>安装问题</a></span></li><li><span><a href=\"#未完成\" data-toc-modified-id=\"未完成-5\"><span class=\"toc-item-num\">5&nbsp;&nbsp;</span>未完成</a></span></li><li><span><a href=\"#Mirror-Source\" data-toc-modified-id=\"Mirror-Source-6\"><span class=\"toc-item-num\">6&nbsp;&nbsp;</span>Mirror Source</a></span><ul class=\"toc-item\"><li><span><a href=\"#添加源(永久)\" data-toc-modified-id=\"添加源(永久)-6.1\"><span class=\"toc-item-num\">6.1&nbsp;&nbsp;</span>添加源(永久)</a></span><ul class=\"toc-item\"><li><span><a href=\"#conda\" data-toc-modified-id=\"conda-6.1.1\"><span class=\"toc-item-num\">6.1.1&nbsp;&nbsp;</span>conda</a></span></li><li><span><a href=\"#pip\" data-toc-modified-id=\"pip-6.1.2\"><span class=\"toc-item-num\">6.1.2&nbsp;&nbsp;</span>pip</a></span></li></ul></li><li><span><a href=\"#删除源\" data-toc-modified-id=\"删除源-6.2\"><span class=\"toc-item-num\">6.2&nbsp;&nbsp;</span>删除源</a></span></li><li><span><a href=\"#查看cofig\" data-toc-modified-id=\"查看cofig-6.3\"><span class=\"toc-item-num\">6.3&nbsp;&nbsp;</span>查看cofig</a></span></li></ul></li><li><span><a href=\"#Jupyter-Notebook\" data-toc-modified-id=\"Jupyter-Notebook-7\"><span class=\"toc-item-num\">7&nbsp;&nbsp;</span>Jupyter Notebook</a></span><ul class=\"toc-item\"><li><span><a href=\"#添加目录及代码补全,高亮显示\" data-toc-modified-id=\"添加目录及代码补全,高亮显示-7.1\"><span class=\"toc-item-num\">7.1&nbsp;&nbsp;</span>添加目录及代码补全,高亮显示</a></span></li><li><span><a href=\"#Code\" data-toc-modified-id=\"Code-7.2\"><span class=\"toc-item-num\">7.2&nbsp;&nbsp;</span>Code</a></span></li><li><span><a href=\"#Markdown\" data-toc-modified-id=\"Markdown-7.3\"><span class=\"toc-item-num\">7.3&nbsp;&nbsp;</span>Markdown</a></span><ul class=\"toc-item\"><li><span><a href=\"#插入公式\" data-toc-modified-id=\"插入公式-7.3.1\"><span class=\"toc-item-num\">7.3.1&nbsp;&nbsp;</span>插入公式</a></span></li><li><span><a href=\"#插入超链接\" data-toc-modified-id=\"插入超链接-7.3.2\"><span class=\"toc-item-num\">7.3.2&nbsp;&nbsp;</span>插入超链接</a></span></li></ul></li><li><span><a href=\"#快捷键\" data-toc-modified-id=\"快捷键-7.4\"><span class=\"toc-item-num\">7.4&nbsp;&nbsp;</span>快捷键</a></span></li><li><span><a href=\"#显示md文件\" data-toc-modified-id=\"显示md文件-7.5\"><span class=\"toc-item-num\">7.5&nbsp;&nbsp;</span>显示md文件</a></span></li><li><span><a href=\"#运行计时\" data-toc-modified-id=\"运行计时-7.6\"><span class=\"toc-item-num\">7.6&nbsp;&nbsp;</span>运行计时</a></span></li><li><span><a href=\"#在远端服务器上运行Jupyter笔记本\" data-toc-modified-id=\"在远端服务器上运行Jupyter笔记本-7.7\"><span class=\"toc-item-num\">7.7&nbsp;&nbsp;</span>在远端服务器上运行Jupyter笔记本</a></span></li><li><span><a href=\"#上传至github\" data-toc-modified-id=\"上传至github-7.8\"><span class=\"toc-item-num\">7.8&nbsp;&nbsp;</span>上传至github</a></span></li></ul></li></ul></div>"
   ]
  },
  {
   "cell_type": "markdown",
   "metadata": {},
   "source": [
    "# conda"
   ]
  },
  {
   "cell_type": "markdown",
   "metadata": {},
   "source": [
    "- 查询conda版本： conda -V\n",
    "- 查询command和option：conda -h查询command和option："
   ]
  },
  {
   "cell_type": "markdown",
   "metadata": {},
   "source": [
    "## 虚拟环境"
   ]
  },
  {
   "cell_type": "markdown",
   "metadata": {},
   "source": [
    "- 查询虚拟环境： conda env list\n",
    "- 创建新的环境(小心命名，重命名很麻烦)： conda create -n EnvName python=3.6\n",
    "- 删除虚拟环境： conda remove -n EnvName --all\n",
    "- 重命名环境：\n",
    "    - conda create -n NewEnvName --clone oldEnvName\n",
    "    - conda remove -n OldEnvName --all\n",
    "- 查看虚拟环境路径：\n",
    "    - 激活虚拟环境\n",
    "    - which python（macOS）/where python（Win）"
   ]
  },
  {
   "cell_type": "markdown",
   "metadata": {},
   "source": [
    "## Package"
   ]
  },
  {
   "cell_type": "markdown",
   "metadata": {},
   "source": [
    "- 查询conda安装库： conda list\n",
    "- 查找conda已安装包的位置： conda show Pkg\n",
    "- 删除环境中的包： conda remove --name EnvName PkgName"
   ]
  },
  {
   "cell_type": "markdown",
   "metadata": {},
   "source": [
    "# pip"
   ]
  },
  {
   "cell_type": "markdown",
   "metadata": {},
   "source": [
    "- pip -h\n",
    "- 显示pip信息，包括当前版本，最新版本，路径等： pip show pip\n",
    "- 查询pip版本：pip -V 或者 pip --version\n",
    "- 升级pip：python -m pip install --upgrade pip\n",
    "\n",
    "\n",
    "- 查询pip所有安装包： pip list\n",
    "- 查询pip已安装包的位置：pip show Pkg\n",
    "- 安装包：pip install Pkg==1.0.4\n",
    "- 更新包： pip install --upgrade Pkg (conda安装的不能通过pip更新)\n",
    "- 卸载包：pip uninstall Pkg\n",
    "- 通过python脚本安装包： pip install -e .  执行当前目录下的setup.py脚本\n",
    "- 通过txt文件安装包：pip install -r \"requirements.txt\" \n",
    "    - gym==0.10.5\n",
    "    - mujoco-py >=1.50.1.56\n",
    "    - tensorflow\n",
    "    - numpy\n",
    "    - seaborn"
   ]
  },
  {
   "cell_type": "markdown",
   "metadata": {},
   "source": [
    "# Jupyter Notebook"
   ]
  },
  {
   "cell_type": "markdown",
   "metadata": {},
   "source": [
    "## 添加目录"
   ]
  },
  {
   "cell_type": "markdown",
   "metadata": {},
   "source": [
    "1. conda install -c conda-forge jupyter_contrib_nbextensions\n",
    "2. 在首页Nbextensions中勾选Table of Contents"
   ]
  },
  {
   "cell_type": "markdown",
   "metadata": {},
   "source": [
    "## 将虚拟环境导入jupyter notebook"
   ]
  },
  {
   "cell_type": "markdown",
   "metadata": {},
   "source": [
    "- 方法1 新建+导入：\n",
    "    - conda --version 检测版本是否在4.1.0以上，不在则更新：conda update conda\n",
    "    - conda list 检测是否已安装库nb_conda_kernels ，没有则安装：conda install nb_conda_kernels \n",
    "    - 新建环境，并将环境导入jupyter notebook: conda create -n env_name python=3.6/2.7 ipykernel\n",
    "    \n",
    "- 方法2 导入:\n",
    "    - conda install -n EnvName ipykernel  \n",
    "    - python -m ipykernel install --user"
   ]
  },
  {
   "cell_type": "markdown",
   "metadata": {},
   "source": [
    "## 插入图片"
   ]
  },
  {
   "cell_type": "markdown",
   "metadata": {},
   "source": [
    "<div align=center>![title](img/example)\n",
    "<img src=\"img/example\" \"width=50% div align=right\"/>  \n",
    "注意要加后缀"
   ]
  },
  {
   "cell_type": "markdown",
   "metadata": {},
   "source": [
    "# 安装问题"
   ]
  },
  {
   "cell_type": "markdown",
   "metadata": {},
   "source": [
    "- 当虚拟环境中没有安装pip时，会使用全局pip，通过全局pip安装的包也会安装在全局的环境中而不是虚拟环境中\n",
    "- 当使用pip3安装，如虚拟环境没有安装pip3，会使用全局pip3安装在全局环境中\n",
    "- 不同库中的依赖不兼容问题：安装库（如seaborn）时会自动安装最高版本的依赖（如matplotlib），如果需要低版本的依赖以兼容低版本的python，可以先安装指定版本的依赖，再安装库。"
   ]
  },
  {
   "cell_type": "markdown",
   "metadata": {},
   "source": [
    "# 未完成"
   ]
  },
  {
   "cell_type": "markdown",
   "metadata": {},
   "source": [
    "# Mirror Source\n",
    "## 添加源(永久)\n",
    "### conda\n",
    "conda config --add channels 'https://mirrors.tuna.tsinghua.edu.cn/anaconda/pkgs/free/'  \n",
    "conda config --set show_channel_urls yes  \n",
    "### pip\n",
    "进入根目录： cd ~/  \n",
    "新建文件夹：mkdir .pip  \n",
    "进入该文件夹，新建文件： vi pip.conf  \n",
    "编辑文件，写入：   \n",
    "[global]  \n",
    "index-url = http://mirrors.aliyun.com/pypi/simple/  \n",
    "[install]  \n",
    "trusted-host=mirrors.aliyun.com  \n",
    "保存文件并退出： esc->:wq  \n",
    "查看隐藏文件： command+shift+.  \n",
    "\n",
    "## 删除源\n",
    "conda config --remove channels 'https://mirrors.tuna.tsinghua.edu.cn/anaconda/pkgs/free/' \n",
    "## 查看cofig\n",
    "conda config --show"
   ]
  },
  {
   "cell_type": "markdown",
   "metadata": {},
   "source": [
    "# Jupyter Notebook\n",
    "## 添加目录及代码补全,高亮显示\n",
    "pip install jupyter_contrib_nbextensions    \n",
    "jupyter contrib nbextension install --user  \n",
    "重启  \n",
    "选择 Nbextensions，在笔记本菜单栏中点击table of contents图标会出现content    \n",
    "勾选 Table of Contents  \n",
    "勾选Hinterland\n",
    "勾选Highlight selected word"
   ]
  },
  {
   "cell_type": "markdown",
   "metadata": {},
   "source": [
    "## Code"
   ]
  },
  {
   "cell_type": "code",
   "execution_count": 4,
   "metadata": {},
   "outputs": [
    {
     "name": "stderr",
     "output_type": "stream",
     "text": [
      "Python 3.6.2 :: Anaconda custom (64-bit)\n"
     ]
    }
   ],
   "source": [
    "!python --version"
   ]
  },
  {
   "cell_type": "markdown",
   "metadata": {},
   "source": [
    "## Markdown\n",
    "\n",
    "\n",
    "### 插入公式\n",
    "- 内联：$y=x+1$  \n",
    "- 另起一行：$$y=x+1$$\n",
    "- 上标：$x^2$ , $x^{2n}$\n",
    "- 下标：$y_t$ , $y_{t+1}$\n",
    "- 特殊符号： $\\Pi$ , $\\pi$ , $\\gamma$ , $\\mathcal{P}$ , $\\mathbb{E}$\n",
    "\n",
    "### 插入超链接\n",
    "[百度](https://www.baidu.com/)"
   ]
  },
  {
   "cell_type": "markdown",
   "metadata": {},
   "source": []
  },
  {
   "cell_type": "markdown",
   "metadata": {
    "collapsed": true
   },
   "source": [
    "## 快捷键\n",
    "Command模式（ESC）   \n",
    "- Enter : 转入编辑模式  \n",
    "- Shift-Enter : 运行本单元，选中下个单元  \n",
    "- Ctrl-Enter : 运行本单元  \n",
    "- Alt-Enter : 运行本单元，在其下插入新单元  \n",
    "- Y : 单元转入代码状态  \n",
    "- M :单元转入markdown状态  \n",
    "- R : 单元转入raw状态  \n",
    "- 1 : 设定 1 级标题  \n",
    "- 2 : 设定 2 级标题  \n",
    "- 3 : 设定 3 级标题   \n",
    "- ctrl+S : 文件存盘  \n",
    "- l : 显示行号  \n",
    "- dd: 删除cell\n",
    "- Z: 恢复最后一个删除的cell\n",
    "\n",
    "Edit模式（Enter）  \n",
    "- Tab 代码补全或缩进  \n",
    "- ctrl+s: 存盘  "
   ]
  },
  {
   "cell_type": "markdown",
   "metadata": {},
   "source": [
    "## 显示md文件"
   ]
  },
  {
   "cell_type": "markdown",
   "metadata": {},
   "source": [
    "安装pip install https://github.com/aaren/notedown/tarball/master  \n",
    "生成配置文件jupyter_notebook_config.py（如果没有的话）jupyter notebook --generate-config   \n",
    "配置文件路径 ~/.jupyter/jupyter_notebook_config.py  \n",
    "打开配置文件，在末尾添加 c.NotebookApp.contents_manager_class = ‘notedown.NotedownContentsManager’"
   ]
  },
  {
   "cell_type": "markdown",
   "metadata": {},
   "source": [
    "## 运行计时"
   ]
  },
  {
   "cell_type": "markdown",
   "metadata": {},
   "source": [
    "pip install jupyter_contrib_nbextensions  \n",
    "jupyter contrib nbextension install --user  \n",
    "jupyter nbextension enable execute_time/ExecuteTime"
   ]
  },
  {
   "cell_type": "markdown",
   "metadata": {},
   "source": [
    "## 在远端服务器上运行Jupyter笔记本"
   ]
  },
  {
   "cell_type": "markdown",
   "metadata": {},
   "source": [
    "在macOS或Linux上可以使用端口映射：  \n",
    "ssh myserver -L 8888:localhost:8888  \n",
    "以上myserver是远端服务器地址。然后我们可以使用 http://localhost:8888 打开运行Jupyter笔记本的远端服务器myserver  \n",
    "https://github.com/diveintodeeplearning/d2l-zh/blob/master/chapter_appendix/aws.md"
   ]
  }
 ],
 "metadata": {
  "kernelspec": {
   "display_name": "Python [default]",
   "language": "python",
   "name": "python3"
  },
  "language_info": {
   "codemirror_mode": {
    "name": "ipython",
    "version": 3
   },
   "file_extension": ".py",
   "mimetype": "text/x-python",
   "name": "python",
   "nbconvert_exporter": "python",
   "pygments_lexer": "ipython3",
   "version": "3.6.5"
  },
  "toc": {
   "base_numbering": 1,
   "nav_menu": {},
   "number_sections": true,
   "sideBar": true,
   "skip_h1_title": false,
   "title_cell": "Table of Contents",
   "title_sidebar": "Contents",
   "toc_cell": true,
   "toc_position": {
    "height": "calc(100% - 180px)",
    "left": "10px",
    "top": "150px",
    "width": "273px"
   },
   "toc_section_display": true,
   "toc_window_display": true
  }
 },
 "nbformat": 4,
 "nbformat_minor": 2
}
