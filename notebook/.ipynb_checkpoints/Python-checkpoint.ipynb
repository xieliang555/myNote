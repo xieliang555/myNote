{
 "cells": [
  {
   "cell_type": "markdown",
   "metadata": {
    "toc": true
   },
   "source": [
    "<h1>Table of Contents<span class=\"tocSkip\"></span></h1>\n",
    "<div class=\"toc\"><ul class=\"toc-item\"><li><span><a href=\"#语法\" data-toc-modified-id=\"语法-1\"><span class=\"toc-item-num\">1&nbsp;&nbsp;</span>语法</a></span></li><li><span><a href=\"#Python内置函数\" data-toc-modified-id=\"Python内置函数-2\"><span class=\"toc-item-num\">2&nbsp;&nbsp;</span>Python内置函数</a></span><ul class=\"toc-item\"><li><span><a href=\"#list-dict-tuple\" data-toc-modified-id=\"list-dict-tuple-2.1\"><span class=\"toc-item-num\">2.1&nbsp;&nbsp;</span>list dict tuple</a></span><ul class=\"toc-item\"><li><span><a href=\"#获取list元素\" data-toc-modified-id=\"获取list元素-2.1.1\"><span class=\"toc-item-num\">2.1.1&nbsp;&nbsp;</span>获取list元素</a></span></li><li><span><a href=\"#list拼接及类型转换\" data-toc-modified-id=\"list拼接及类型转换-2.1.2\"><span class=\"toc-item-num\">2.1.2&nbsp;&nbsp;</span>list拼接及类型转换</a></span></li><li><span><a href=\"#二维list维度转换\" data-toc-modified-id=\"二维list维度转换-2.1.3\"><span class=\"toc-item-num\">2.1.3&nbsp;&nbsp;</span>二维list维度转换</a></span></li><li><span><a href=\"#创建dict及其操作\" data-toc-modified-id=\"创建dict及其操作-2.1.4\"><span class=\"toc-item-num\">2.1.4&nbsp;&nbsp;</span>创建dict及其操作</a></span></li><li><span><a href=\"#获取list-shape\" data-toc-modified-id=\"获取list-shape-2.1.5\"><span class=\"toc-item-num\">2.1.5&nbsp;&nbsp;</span>获取list shape</a></span></li><li><span><a href=\"#list转numpy-array\" data-toc-modified-id=\"list转numpy-array-2.1.6\"><span class=\"toc-item-num\">2.1.6&nbsp;&nbsp;</span>list转numpy array</a></span></li><li><span><a href=\"#dict作为函数参数\" data-toc-modified-id=\"dict作为函数参数-2.1.7\"><span class=\"toc-item-num\">2.1.7&nbsp;&nbsp;</span>dict作为函数参数</a></span></li></ul></li><li><span><a href=\"#迭代\" data-toc-modified-id=\"迭代-2.2\"><span class=\"toc-item-num\">2.2&nbsp;&nbsp;</span>迭代</a></span><ul class=\"toc-item\"><li><span><a href=\"#[[1,2,3],[4,5]]->[[1,1,1],[4,4]]\" data-toc-modified-id=\"[[1,2,3],[4,5]]->[[1,1,1],[4,4]]-2.2.1\"><span class=\"toc-item-num\">2.2.1&nbsp;&nbsp;</span>[[1,2,3],[4,5]]-&gt;[[1,1,1],[4,4]]</a></span></li><li><span><a href=\"#创建二维list\" data-toc-modified-id=\"创建二维list-2.2.2\"><span class=\"toc-item-num\">2.2.2&nbsp;&nbsp;</span>创建二维list</a></span></li><li><span><a href=\"#二维转一维list\" data-toc-modified-id=\"二维转一维list-2.2.3\"><span class=\"toc-item-num\">2.2.3&nbsp;&nbsp;</span>二维转一维list</a></span></li><li><span><a href=\"#获取[dict,-dict,-dict...]中相同key的所有value\" data-toc-modified-id=\"获取[dict,-dict,-dict...]中相同key的所有value-2.2.4\"><span class=\"toc-item-num\">2.2.4&nbsp;&nbsp;</span>获取[dict, dict, dict...]中相同key的所有value</a></span></li></ul></li><li><span><a href=\"#is-not\" data-toc-modified-id=\"is-not-2.3\"><span class=\"toc-item-num\">2.3&nbsp;&nbsp;</span>is not</a></span></li><li><span><a href=\"#断言及异常处理\" data-toc-modified-id=\"断言及异常处理-2.4\"><span class=\"toc-item-num\">2.4&nbsp;&nbsp;</span>断言及异常处理</a></span></li><li><span><a href=\"#zip(-)\" data-toc-modified-id=\"zip(-)-2.5\"><span class=\"toc-item-num\">2.5&nbsp;&nbsp;</span>zip( )</a></span></li><li><span><a href=\"#locals(-)返回所有局部变量\" data-toc-modified-id=\"locals(-)返回所有局部变量-2.6\"><span class=\"toc-item-num\">2.6&nbsp;&nbsp;</span>locals( )返回所有局部变量</a></span></li><li><span><a href=\"#lambda匿名函数\" data-toc-modified-id=\"lambda匿名函数-2.7\"><span class=\"toc-item-num\">2.7&nbsp;&nbsp;</span>lambda匿名函数</a></span></li><li><span><a href=\"#打印print\" data-toc-modified-id=\"打印print-2.8\"><span class=\"toc-item-num\">2.8&nbsp;&nbsp;</span>打印print</a></span></li><li><span><a href=\"#默认参数列表摆放规则\" data-toc-modified-id=\"默认参数列表摆放规则-2.9\"><span class=\"toc-item-num\">2.9&nbsp;&nbsp;</span>默认参数列表摆放规则</a></span></li><li><span><a href=\"#sort(-)\" data-toc-modified-id=\"sort(-)-2.10\"><span class=\"toc-item-num\">2.10&nbsp;&nbsp;</span>sort( )</a></span></li></ul></li><li><span><a href=\"#Python库函数\" data-toc-modified-id=\"Python库函数-3\"><span class=\"toc-item-num\">3&nbsp;&nbsp;</span>Python库函数</a></span><ul class=\"toc-item\"><li><span><a href=\"#numpy\" data-toc-modified-id=\"numpy-3.1\"><span class=\"toc-item-num\">3.1&nbsp;&nbsp;</span>numpy</a></span><ul class=\"toc-item\"><li><span><a href=\"#np.prod-计算数组乘积\" data-toc-modified-id=\"np.prod-计算数组乘积-3.1.1\"><span class=\"toc-item-num\">3.1.1&nbsp;&nbsp;</span>np.prod 计算数组乘积</a></span></li><li><span><a href=\"#计算平均值和标准差\" data-toc-modified-id=\"计算平均值和标准差-3.1.2\"><span class=\"toc-item-num\">3.1.2&nbsp;&nbsp;</span>计算平均值和标准差</a></span></li><li><span><a href=\"#批量获取数组元素\" data-toc-modified-id=\"批量获取数组元素-3.1.3\"><span class=\"toc-item-num\">3.1.3&nbsp;&nbsp;</span>批量获取数组元素</a></span></li><li><span><a href=\"#矩阵乘法\" data-toc-modified-id=\"矩阵乘法-3.1.4\"><span class=\"toc-item-num\">3.1.4&nbsp;&nbsp;</span>矩阵乘法</a></span></li><li><span><a href=\"#数组合并\" data-toc-modified-id=\"数组合并-3.1.5\"><span class=\"toc-item-num\">3.1.5&nbsp;&nbsp;</span>数组合并</a></span></li></ul></li><li><span><a href=\"#带损失因子的数组累加\" data-toc-modified-id=\"带损失因子的数组累加-3.2\"><span class=\"toc-item-num\">3.2&nbsp;&nbsp;</span>带损失因子的数组累加</a></span></li><li><span><a href=\"#plot\" data-toc-modified-id=\"plot-3.3\"><span class=\"toc-item-num\">3.3&nbsp;&nbsp;</span>plot</a></span></li></ul></li><li><span><a href=\"#main模块\" data-toc-modified-id=\"main模块-4\"><span class=\"toc-item-num\">4&nbsp;&nbsp;</span>main模块</a></span></li></ul></div>"
   ]
  },
  {
   "cell_type": "markdown",
   "metadata": {},
   "source": [
    "# 语法"
   ]
  },
  {
   "cell_type": "markdown",
   "metadata": {},
   "source": [
    "- 支持连续比较： 1<=x<3\n",
    "- 支持 if x>3 or y<4 (if不带括号)\n",
    "- for i,j in [(0,1),(1,0),(0,-1),(-1,0)]:\n",
    "- x=None or 1\n",
    "- x=m if m>0 or n\n",
    "- a=1 a*=0 or 2 表示: a*=(0 or 2)\n",
    "- if 'q' in 'main/q':\n",
    "    - print(\"test\")"
   ]
  },
  {
   "cell_type": "markdown",
   "metadata": {},
   "source": [
    "# Python内置函数"
   ]
  },
  {
   "cell_type": "markdown",
   "metadata": {},
   "source": [
    "## list dict tuple"
   ]
  },
  {
   "cell_type": "markdown",
   "metadata": {},
   "source": [
    "### 获取list元素"
   ]
  },
  {
   "cell_type": "code",
   "execution_count": 14,
   "metadata": {
    "ExecuteTime": {
     "end_time": "2019-06-23T01:24:02.989728Z",
     "start_time": "2019-06-23T01:24:02.984230Z"
    }
   },
   "outputs": [
    {
     "name": "stdout",
     "output_type": "stream",
     "text": [
      "[10, 9, 8, 7, 6, 5, 4, 3, 2, 1]\n",
      "[1, 2, 3, 4, 5, 6, 7, 8, 9]\n",
      "[2, 3, 4, 5, 6, 7, 8, 9, 10]\n"
     ]
    }
   ],
   "source": [
    "a=[1,2,3,4,5,6,7,8,9,10]\n",
    "# 反转\n",
    "print(a[::-1])\n",
    "# 获取第0个到第n-1个\n",
    "print(a[:-1])\n",
    "# 获取第1各到第n个\n",
    "print(a[1:])"
   ]
  },
  {
   "cell_type": "code",
   "execution_count": 11,
   "metadata": {
    "ExecuteTime": {
     "end_time": "2019-06-23T01:21:45.687088Z",
     "start_time": "2019-06-23T01:21:45.682874Z"
    }
   },
   "outputs": [
    {
     "name": "stdout",
     "output_type": "stream",
     "text": [
      "[1, 2, 3, 4, 5, 6, 7, 8, 9, 10]\n",
      "slice(0, 10, 2)\n",
      "[1, 3, 5, 7, 9]\n"
     ]
    }
   ],
   "source": [
    "# slice() 批量获取\n",
    "a=[1,2,3,4,5,6,7,8,9,10]\n",
    "print(a)\n",
    "index=slice(0,10,2)\n",
    "print(index)\n",
    "get_partial_of_a=a[index]\n",
    "print(get_partial_of_a)"
   ]
  },
  {
   "cell_type": "markdown",
   "metadata": {},
   "source": [
    "### list拼接及类型转换"
   ]
  },
  {
   "cell_type": "code",
   "execution_count": 8,
   "metadata": {
    "ExecuteTime": {
     "end_time": "2019-06-25T05:00:16.419714Z",
     "start_time": "2019-06-25T05:00:16.416094Z"
    }
   },
   "outputs": [
    {
     "name": "stdout",
     "output_type": "stream",
     "text": [
      "[1, 2, 3]\n",
      "[1, 2, 3, 4, 5, 6]\n",
      "[1, 2, 3, 1, 2, 3]\n"
     ]
    }
   ],
   "source": [
    "# 类型转换\n",
    "a=(1,2,3)\n",
    "# tuple转list\n",
    "print(list(a))\n",
    "# list拼接\n",
    "print(list(a)+[4,5,6])\n",
    "print(list(a)*2)"
   ]
  },
  {
   "cell_type": "markdown",
   "metadata": {},
   "source": [
    "### 二维list维度转换"
   ]
  },
  {
   "cell_type": "code",
   "execution_count": 12,
   "metadata": {
    "ExecuteTime": {
     "end_time": "2019-06-25T06:56:12.124147Z",
     "start_time": "2019-06-25T06:56:12.119607Z"
    }
   },
   "outputs": [
    {
     "name": "stdout",
     "output_type": "stream",
     "text": [
      "[1 2 3 4 5 6]\n",
      "[[1 2]\n",
      " [3 4]\n",
      " [5 6]]\n"
     ]
    }
   ],
   "source": [
    "import numpy as np\n",
    "a=[[1,2,3],[4,5,6]]\n",
    "print(np.array(a).flatten())\n",
    "print(np.array(a).reshape([3,2]))"
   ]
  },
  {
   "cell_type": "markdown",
   "metadata": {},
   "source": [
    "### 创建dict及其操作"
   ]
  },
  {
   "cell_type": "code",
   "execution_count": 23,
   "metadata": {
    "ExecuteTime": {
     "end_time": "2019-06-23T01:33:08.650793Z",
     "start_time": "2019-06-23T01:33:08.646366Z"
    }
   },
   "outputs": [
    {
     "name": "stdout",
     "output_type": "stream",
     "text": [
      "{'a': 1, 'b': 2, 'c': 3}\n",
      "{'a': 1, 'b': 2, 'c': 3, 'd': 4}\n",
      "a b c d\n",
      "dict_items([('a', 1), ('b', 2), ('c', 3), ('d', 4)])\n",
      "a 1\n",
      "b 2\n",
      "c 3\n",
      "d 4\n"
     ]
    }
   ],
   "source": [
    "dd=dict(a=1,b=2,c=3)\n",
    "print(dd)\n",
    "dd['d']=4\n",
    "print(dd)\n",
    "print(*dd)\n",
    "print(dd.items())\n",
    "for k,v in dd.items():\n",
    "    print(k,v)"
   ]
  },
  {
   "cell_type": "markdown",
   "metadata": {},
   "source": [
    "### 获取list shape"
   ]
  },
  {
   "cell_type": "code",
   "execution_count": 27,
   "metadata": {
    "ExecuteTime": {
     "end_time": "2019-06-23T01:36:27.764817Z",
     "start_time": "2019-06-23T01:36:27.760841Z"
    }
   },
   "outputs": [
    {
     "name": "stdout",
     "output_type": "stream",
     "text": [
      "2\n",
      "3\n",
      "(2, 3)\n"
     ]
    }
   ],
   "source": [
    "import numpy as np\n",
    "# 打印list的shape\n",
    "a=[[1,2,3],[4,5,6]]\n",
    "print(len(a))\n",
    "print(len(a[0]))\n",
    "print(np.array(a).shape)"
   ]
  },
  {
   "cell_type": "markdown",
   "metadata": {},
   "source": [
    "### list转numpy array"
   ]
  },
  {
   "cell_type": "code",
   "execution_count": 28,
   "metadata": {
    "ExecuteTime": {
     "end_time": "2019-06-23T01:38:01.270231Z",
     "start_time": "2019-06-23T01:38:01.257870Z"
    }
   },
   "outputs": [
    {
     "name": "stdout",
     "output_type": "stream",
     "text": [
      "[list([1, 2]) list([1, 2, 3])]\n",
      "(2,)\n",
      "[1 2 1 2 3]\n"
     ]
    }
   ],
   "source": [
    "import numpy as np\n",
    "# list转numpy array\n",
    "a=[[1,2],[1,2,3]]\n",
    "b=np.array(a)\n",
    "# 当维度不同，不能转成array([[1,2],[1,2,3]])\n",
    "print(b)\n",
    "print(b.shape)\n",
    "# 可以先转成一维\n",
    "a=np.concatenate(a)\n",
    "print(a)"
   ]
  },
  {
   "cell_type": "markdown",
   "metadata": {},
   "source": [
    "### dict作为函数参数"
   ]
  },
  {
   "cell_type": "code",
   "execution_count": 36,
   "metadata": {
    "ExecuteTime": {
     "end_time": "2019-06-23T01:49:31.907750Z",
     "start_time": "2019-06-23T01:49:31.899153Z"
    }
   },
   "outputs": [
    {
     "name": "stdout",
     "output_type": "stream",
     "text": [
      "a 1\n",
      "b 2\n",
      "c 3\n",
      "d 4\n"
     ]
    }
   ],
   "source": [
    "# dict作为形参\n",
    "\n",
    "dd=dict(a=1,b=2,c=3,d=4)\n",
    "\n",
    "def func(**dd):\n",
    "    for k,v in dd.items():\n",
    "        print(k,v)\n",
    "func(**dd)"
   ]
  },
  {
   "cell_type": "code",
   "execution_count": 41,
   "metadata": {
    "ExecuteTime": {
     "end_time": "2019-06-23T01:55:09.698018Z",
     "start_time": "2019-06-23T01:55:09.692492Z"
    }
   },
   "outputs": [
    {
     "name": "stdout",
     "output_type": "stream",
     "text": [
      "0 1 2 3 4 5\n",
      "0 None 1 2 3 4\n"
     ]
    }
   ],
   "source": [
    "# dict作为实参\n",
    "\n",
    "dd=dict(a=1,b=2,c=3,d=4)\n",
    "\n",
    "def func2(x,a=None,b=None,c=None,d=None,e=None):\n",
    "    print(x,a,b,c,d,e)\n",
    "    \n",
    "    \n",
    "# 相当于func2(0,a=1,b=2,c=3,d=4,e=5)\n",
    "func2(0,**dd,e=5)\n",
    "\n",
    "\n",
    "# 若实参中含有dict，最好放到参数列表的最后，因为它是属于默认参数 如：\n",
    "ee=dict(b=1,c=2,d=3,e=4)\n",
    "func2(0,**ee)"
   ]
  },
  {
   "cell_type": "markdown",
   "metadata": {},
   "source": [
    "## 迭代"
   ]
  },
  {
   "cell_type": "markdown",
   "metadata": {},
   "source": [
    "### [[1,2,3],[4,5]]->[[1,1,1],[4,4]]"
   ]
  },
  {
   "cell_type": "code",
   "execution_count": 65,
   "metadata": {
    "ExecuteTime": {
     "end_time": "2019-06-23T02:58:39.926485Z",
     "start_time": "2019-06-23T02:58:39.921888Z"
    }
   },
   "outputs": [
    {
     "name": "stdout",
     "output_type": "stream",
     "text": [
      "[array([6, 6, 6]), array([3, 3])]\n",
      "[6 6 6 3 3]\n"
     ]
    }
   ],
   "source": [
    "a=[[1,2,3],[1,2]]\n",
    "s=[np.sum(i)*np.ones_like(i) for i in a]\n",
    "print(s)\n",
    "s=np.concatenate(s)\n",
    "print(s)"
   ]
  },
  {
   "cell_type": "markdown",
   "metadata": {},
   "source": [
    "### 创建二维list"
   ]
  },
  {
   "cell_type": "code",
   "execution_count": 98,
   "metadata": {
    "ExecuteTime": {
     "end_time": "2019-06-23T06:28:36.651876Z",
     "start_time": "2019-06-23T06:28:36.647889Z"
    }
   },
   "outputs": [
    {
     "name": "stdout",
     "output_type": "stream",
     "text": [
      "[[1, 1, 1], [1, 1, 1]]\n"
     ]
    }
   ],
   "source": [
    "row,column=2,3\n",
    "dp=[[1 for _ in range(column)] for _ in range(row)]\n",
    "print(dp)"
   ]
  },
  {
   "cell_type": "markdown",
   "metadata": {},
   "source": [
    "### 二维转一维list"
   ]
  },
  {
   "cell_type": "code",
   "execution_count": 96,
   "metadata": {
    "ExecuteTime": {
     "end_time": "2019-06-23T06:28:06.171984Z",
     "start_time": "2019-06-23T06:28:06.167955Z"
    }
   },
   "outputs": [
    {
     "name": "stdout",
     "output_type": "stream",
     "text": [
      "[1, 1, 1, 1, 1, 1]\n"
     ]
    }
   ],
   "source": [
    "row,column=2,3\n",
    "dp=[dp[i][j] for i in range(row) for j in range(column)]\n",
    "print(dp)"
   ]
  },
  {
   "cell_type": "markdown",
   "metadata": {},
   "source": [
    "### 获取[dict, dict, dict...]中相同key的所有value"
   ]
  },
  {
   "cell_type": "code",
   "execution_count": 69,
   "metadata": {
    "ExecuteTime": {
     "end_time": "2019-06-23T03:01:42.932435Z",
     "start_time": "2019-06-23T03:01:42.925337Z"
    }
   },
   "outputs": [
    {
     "name": "stdout",
     "output_type": "stream",
     "text": [
      "[{'arr1': array([1, 1]), 'arr2': array([2, 2])}, {'arr1': array([1, 1]), 'arr2': array([2, 2])}]\n",
      "[array([1, 1]), array([1, 1])]\n",
      "[array([2, 2]), array([2, 2])]\n"
     ]
    }
   ],
   "source": [
    "import numpy as np\n",
    "arr1=np.array([1,1])\n",
    "arr2=np.array([2,2])\n",
    "path1={\"arr1\":arr1, \"arr2\":arr2}\n",
    "paths=[]\n",
    "paths.append(path1)\n",
    "paths.append(path1)\n",
    "print(paths)\n",
    "# 迭代不改变元素的类型，如原来是array迭代后任是array，不会变成list\n",
    "arr1_all=[path[\"arr1\"] for path in paths]\n",
    "print(arr1_all)\n",
    "arr2_all=[path[\"arr2\"] for path in paths]\n",
    "print(arr2_all)"
   ]
  },
  {
   "cell_type": "markdown",
   "metadata": {},
   "source": [
    "## is not"
   ]
  },
  {
   "cell_type": "markdown",
   "metadata": {},
   "source": [
    "- if x is None \n",
    "- if x is not None\n",
    "- if not x\n",
    "    - not None == not False == not '' == not 0 == not [] == not {} == not () =True\n",
    "   "
   ]
  },
  {
   "cell_type": "markdown",
   "metadata": {},
   "source": [
    "## 断言及异常处理"
   ]
  },
  {
   "cell_type": "code",
   "execution_count": 8,
   "metadata": {
    "ExecuteTime": {
     "end_time": "2019-06-23T01:19:05.687072Z",
     "start_time": "2019-06-23T01:19:05.677978Z"
    }
   },
   "outputs": [
    {
     "name": "stdout",
     "output_type": "stream",
     "text": [
      "10\n"
     ]
    },
    {
     "ename": "AssertionError",
     "evalue": "a>=5",
     "output_type": "error",
     "traceback": [
      "\u001b[0;31m---------------------------------------------------------------------------\u001b[0m",
      "\u001b[0;31mAssertionError\u001b[0m                            Traceback (most recent call last)",
      "\u001b[0;32m<ipython-input-8-eeff20d77cc5>\u001b[0m in \u001b[0;36m<module>\u001b[0;34m()\u001b[0m\n\u001b[1;32m      2\u001b[0m \u001b[0ma\u001b[0m\u001b[0;34m=\u001b[0m\u001b[0;36m10\u001b[0m\u001b[0;34m\u001b[0m\u001b[0m\n\u001b[1;32m      3\u001b[0m \u001b[0mprint\u001b[0m\u001b[0;34m(\u001b[0m\u001b[0ma\u001b[0m\u001b[0;34m)\u001b[0m\u001b[0;34m\u001b[0m\u001b[0m\n\u001b[0;32m----> 4\u001b[0;31m \u001b[0;32massert\u001b[0m \u001b[0ma\u001b[0m\u001b[0;34m<\u001b[0m\u001b[0;36m5\u001b[0m\u001b[0;34m,\u001b[0m    \u001b[0;34m\"a>=5\"\u001b[0m\u001b[0;34m\u001b[0m\u001b[0m\n\u001b[0m\u001b[1;32m      5\u001b[0m \u001b[0mprint\u001b[0m\u001b[0;34m(\u001b[0m\u001b[0;34m\"hello world\"\u001b[0m\u001b[0;34m)\u001b[0m\u001b[0;34m\u001b[0m\u001b[0m\n\u001b[1;32m      6\u001b[0m \u001b[0;34m\u001b[0m\u001b[0m\n",
      "\u001b[0;31mAssertionError\u001b[0m: a>=5"
     ]
    }
   ],
   "source": [
    "# 断言函数,判断断言是否为真，真则继续执行后续代码，否则中段并输出错误信息\n",
    "a=10\n",
    "print(a)\n",
    "assert a<5,\\\n",
    "    \"a>=5\"\n",
    "print(\"hello world\")\n"
   ]
  },
  {
   "cell_type": "code",
   "execution_count": 9,
   "metadata": {
    "ExecuteTime": {
     "end_time": "2019-06-23T01:19:24.753811Z",
     "start_time": "2019-06-23T01:19:24.742508Z"
    }
   },
   "outputs": [
    {
     "name": "stdout",
     "output_type": "stream",
     "text": [
      "test1\n"
     ]
    },
    {
     "ename": "NotImplementedError",
     "evalue": "",
     "output_type": "error",
     "traceback": [
      "\u001b[0;31m---------------------------------------------------------------------------\u001b[0m",
      "\u001b[0;31mNotImplementedError\u001b[0m                       Traceback (most recent call last)",
      "\u001b[0;32m<ipython-input-9-1b1a8c0c51b0>\u001b[0m in \u001b[0;36m<module>\u001b[0;34m()\u001b[0m\n\u001b[1;32m      7\u001b[0m \u001b[0mfunctionName\u001b[0m\u001b[0;34m(\u001b[0m\u001b[0;36m2\u001b[0m\u001b[0;34m)\u001b[0m\u001b[0;34m\u001b[0m\u001b[0m\n\u001b[1;32m      8\u001b[0m \u001b[0mprint\u001b[0m\u001b[0;34m(\u001b[0m\u001b[0;34m\"test1\"\u001b[0m\u001b[0;34m)\u001b[0m\u001b[0;34m\u001b[0m\u001b[0m\n\u001b[0;32m----> 9\u001b[0;31m \u001b[0mfunctionName\u001b[0m\u001b[0;34m(\u001b[0m\u001b[0;34m-\u001b[0m\u001b[0;36m1\u001b[0m\u001b[0;34m)\u001b[0m\u001b[0;34m\u001b[0m\u001b[0m\n\u001b[0m\u001b[1;32m     10\u001b[0m \u001b[0mprint\u001b[0m\u001b[0;34m(\u001b[0m\u001b[0;34m\"test2\"\u001b[0m\u001b[0;34m)\u001b[0m\u001b[0;34m\u001b[0m\u001b[0m\n",
      "\u001b[0;32m<ipython-input-9-1b1a8c0c51b0>\u001b[0m in \u001b[0;36mfunctionName\u001b[0;34m(level)\u001b[0m\n\u001b[1;32m      2\u001b[0m \u001b[0;32mdef\u001b[0m \u001b[0mfunctionName\u001b[0m\u001b[0;34m(\u001b[0m \u001b[0mlevel\u001b[0m \u001b[0;34m)\u001b[0m\u001b[0;34m:\u001b[0m\u001b[0;34m\u001b[0m\u001b[0m\n\u001b[1;32m      3\u001b[0m     \u001b[0;32mif\u001b[0m \u001b[0mlevel\u001b[0m \u001b[0;34m<\u001b[0m \u001b[0;36m1\u001b[0m\u001b[0;34m:\u001b[0m\u001b[0;34m\u001b[0m\u001b[0m\n\u001b[0;32m----> 4\u001b[0;31m         \u001b[0;32mraise\u001b[0m \u001b[0mNotImplementedError\u001b[0m\u001b[0;34m\u001b[0m\u001b[0m\n\u001b[0m\u001b[1;32m      5\u001b[0m \u001b[0;31m#         raise Exception(\"Invalid level!\", level)\u001b[0m\u001b[0;34m\u001b[0m\u001b[0;34m\u001b[0m\u001b[0m\n\u001b[1;32m      6\u001b[0m         \u001b[0;31m# 触发异常后，后面的代码就不会再执行\u001b[0m\u001b[0;34m\u001b[0m\u001b[0;34m\u001b[0m\u001b[0m\n",
      "\u001b[0;31mNotImplementedError\u001b[0m: "
     ]
    }
   ],
   "source": [
    "# 异常处理\n",
    "def functionName( level ):\n",
    "    if level < 1:\n",
    "        raise NotImplementedError\n",
    "#         raise Exception(\"Invalid level!\", level)\n",
    "        # 触发异常后，后面的代码就不会再执行\n",
    "functionName(2)\n",
    "print(\"test1\")\n",
    "functionName(-1)\n",
    "print(\"test2\")"
   ]
  },
  {
   "cell_type": "markdown",
   "metadata": {},
   "source": [
    "## zip( )"
   ]
  },
  {
   "cell_type": "code",
   "execution_count": 16,
   "metadata": {
    "ExecuteTime": {
     "end_time": "2019-06-23T01:24:42.481724Z",
     "start_time": "2019-06-23T01:24:42.476367Z"
    }
   },
   "outputs": [
    {
     "name": "stdout",
     "output_type": "stream",
     "text": [
      "<zip object at 0x102745908>\n",
      "[('s', [1, 2, 3]), ('a', [4, 5, 6, 7]), ('r', [8, 9])]\n",
      "{'s': [1, 2, 3], 'a': [4, 5, 6, 7], 'r': [8, 9]}\n"
     ]
    }
   ],
   "source": [
    "# zip 将list组合打包成tuple，并返回由tuple组成的对象\n",
    "x=['s','a','r']\n",
    "y=[[1,2,3],[4,5,6,7],[8,9]]\n",
    "zipped=zip(x,y)\n",
    "print(zipped)\n",
    "# 转化成list\n",
    "print(list(zipped))\n",
    "# 转化成dic\n",
    "inputs = {k:v for k,v in zip(x, y)}\n",
    "print(inputs)"
   ]
  },
  {
   "cell_type": "markdown",
   "metadata": {},
   "source": [
    "## locals( )返回所有局部变量"
   ]
  },
  {
   "cell_type": "code",
   "execution_count": 18,
   "metadata": {
    "ExecuteTime": {
     "end_time": "2019-06-23T01:25:54.489594Z",
     "start_time": "2019-06-23T01:25:54.486209Z"
    }
   },
   "outputs": [
    {
     "name": "stdout",
     "output_type": "stream",
     "text": [
      "{'x': 4, 'a': 4}\n"
     ]
    }
   ],
   "source": [
    "# locals()以dic类型返回所有局部变量\n",
    "def func(a):\n",
    "    x=a\n",
    "    print(locals())\n",
    "func(4)"
   ]
  },
  {
   "cell_type": "markdown",
   "metadata": {},
   "source": [
    "## lambda匿名函数"
   ]
  },
  {
   "cell_type": "code",
   "execution_count": 21,
   "metadata": {
    "ExecuteTime": {
     "end_time": "2019-06-23T01:28:42.717501Z",
     "start_time": "2019-06-23T01:28:42.709652Z"
    }
   },
   "outputs": [
    {
     "name": "stdout",
     "output_type": "stream",
     "text": [
      "30\n",
      "\u001b[33mWARN: gym.spaces.Box autodetected dtype as <class 'numpy.float32'>. Please provide explicit dtype.\u001b[0m\n",
      "2\n"
     ]
    }
   ],
   "source": [
    "import gym\n",
    "# lambda 匿名函数\n",
    "# 实现函数功能，只有一个表达式，函数体比def的代码块简单；\n",
    "# lambda函数拥有自己的命名空间，且不能访问自有参数列表之外或全局命名空间里的参数\n",
    "# lambda arg1,arg2,.....argn:expression\n",
    "# sum1是函数名，arg是参数，expression是返回值\n",
    "sum1=lambda arg1,arg2:arg1+arg2\n",
    "print(sum1(10,20))\n",
    "\n",
    "# 无参数的lambda,作为函数对象传入另一个函数\n",
    "# env_func=lambda:gym.make(\"CartPole-v0\")\n",
    "def func(env_func):\n",
    "    env=env_func()\n",
    "    print(env.action_space.n)\n",
    "func(lambda:gym.make(\"CartPole-v0\"))"
   ]
  },
  {
   "cell_type": "markdown",
   "metadata": {},
   "source": [
    "## 打印print"
   ]
  },
  {
   "cell_type": "code",
   "execution_count": 29,
   "metadata": {
    "ExecuteTime": {
     "end_time": "2019-06-23T01:39:54.322996Z",
     "start_time": "2019-06-23T01:39:54.319522Z"
    }
   },
   "outputs": [
    {
     "name": "stdout",
     "output_type": "stream",
     "text": [
      "a0: 1, a1: 2, a2: 3\n"
     ]
    }
   ],
   "source": [
    "a=tuple([1,2,3])\n",
    "print('a0: %d, a1: %d, a2: %d'%a)"
   ]
  },
  {
   "cell_type": "markdown",
   "metadata": {},
   "source": [
    "## 默认参数列表摆放规则"
   ]
  },
  {
   "cell_type": "code",
   "execution_count": 70,
   "metadata": {
    "ExecuteTime": {
     "end_time": "2019-06-23T03:09:00.821773Z",
     "start_time": "2019-06-23T03:09:00.816955Z"
    }
   },
   "outputs": [
    {
     "name": "stdout",
     "output_type": "stream",
     "text": [
      "0 1 2 3\n",
      "0 1 3 4\n",
      "0 1 3 4\n"
     ]
    }
   ],
   "source": [
    "# 默认参数必须放在参数列表的后面\n",
    "def func1(a,b,c=3,d=4):\n",
    "    print(a,b,c,d)\n",
    "func1(0,1,2,3)\n",
    "# 以下会报错\n",
    "# func1(0,1,c=3,4)\n",
    "func1(0,1,c=3,d=4)\n",
    "func1(0,1,3,d=4)"
   ]
  },
  {
   "cell_type": "markdown",
   "metadata": {},
   "source": [
    "## sort( )"
   ]
  },
  {
   "cell_type": "code",
   "execution_count": 90,
   "metadata": {
    "ExecuteTime": {
     "end_time": "2019-06-23T03:20:35.229942Z",
     "start_time": "2019-06-23T03:20:35.224784Z"
    }
   },
   "outputs": [
    {
     "name": "stdout",
     "output_type": "stream",
     "text": [
      "[(1, 3), (2, 2), (3, 4), (4, 1)]\n",
      "[(4, 1), (2, 2), (1, 3), (3, 4)]\n",
      "[(4, 1), (3, 4), (2, 2), (1, 3)]\n"
     ]
    }
   ],
   "source": [
    "#参数 key，reverse\n",
    "\n",
    "a=[(2, 2), (3, 4), (4, 1), (1, 3)]\n",
    "# 默认按第一维排序，升序（reverse=False）\n",
    "a.sort()\n",
    "print(a)\n",
    "\n",
    "# 按第二维排序，默认升序\n",
    "b=[(2, 2), (3, 4), (4, 1), (1, 3)]\n",
    "b.sort(key=lambda keySecond : keySecond[1])\n",
    "print(b)\n",
    "\n",
    "# 降序，默认按第一维排列\n",
    "c=[(2, 2), (3, 4), (4, 1), (1, 3)]\n",
    "c.sort(reverse=True)\n",
    "print(c)"
   ]
  },
  {
   "cell_type": "markdown",
   "metadata": {},
   "source": [
    "# Python库函数"
   ]
  },
  {
   "cell_type": "markdown",
   "metadata": {},
   "source": [
    "## numpy"
   ]
  },
  {
   "cell_type": "markdown",
   "metadata": {},
   "source": [
    "### np.prod 计算数组乘积"
   ]
  },
  {
   "cell_type": "code",
   "execution_count": 43,
   "metadata": {
    "ExecuteTime": {
     "end_time": "2019-06-23T02:20:51.370964Z",
     "start_time": "2019-06-23T02:20:51.366732Z"
    }
   },
   "outputs": [
    {
     "name": "stdout",
     "output_type": "stream",
     "text": [
      "6\n"
     ]
    }
   ],
   "source": [
    "a=np.array([1,2,3])\n",
    "print(np.prod(a))"
   ]
  },
  {
   "cell_type": "markdown",
   "metadata": {},
   "source": [
    "### 计算平均值和标准差"
   ]
  },
  {
   "cell_type": "code",
   "execution_count": 47,
   "metadata": {
    "ExecuteTime": {
     "end_time": "2019-06-23T02:25:17.162948Z",
     "start_time": "2019-06-23T02:25:17.149824Z"
    }
   },
   "outputs": [
    {
     "name": "stdout",
     "output_type": "stream",
     "text": [
      "2.5\n",
      "1.118033988749895\n",
      "1.25\n"
     ]
    }
   ],
   "source": [
    "a=[1,2,3,4]\n",
    "print(np.mean(a))\n",
    "print(np.std(a))\n",
    "print(np.var(a))"
   ]
  },
  {
   "cell_type": "markdown",
   "metadata": {},
   "source": [
    "### 批量获取数组元素"
   ]
  },
  {
   "cell_type": "code",
   "execution_count": 49,
   "metadata": {
    "ExecuteTime": {
     "end_time": "2019-06-23T02:27:12.781114Z",
     "start_time": "2019-06-23T02:27:12.775586Z"
    }
   },
   "outputs": [
    {
     "name": "stdout",
     "output_type": "stream",
     "text": [
      "[4 1 2 7]\n",
      "[0, 1, 2, 3]\n",
      "[5 2 3 8]\n",
      "[1 2 3 4]\n"
     ]
    }
   ],
   "source": [
    "idx1=np.random.randint(low=0,high=8,size=4)\n",
    "print(idx1)\n",
    "idx2=[0,1,2,3]\n",
    "print(idx2)\n",
    "a=np.array([1,2,3,4,5,6,7,8])\n",
    "print(a[idx1])\n",
    "print(a[idx2])"
   ]
  },
  {
   "cell_type": "markdown",
   "metadata": {},
   "source": [
    "### 矩阵乘法"
   ]
  },
  {
   "cell_type": "code",
   "execution_count": 50,
   "metadata": {
    "ExecuteTime": {
     "end_time": "2019-06-23T02:27:29.630525Z",
     "start_time": "2019-06-23T02:27:29.621372Z"
    }
   },
   "outputs": [
    {
     "name": "stdout",
     "output_type": "stream",
     "text": [
      "[[ 6]\n",
      " [15]]\n"
     ]
    }
   ],
   "source": [
    "a=[[1,2,3],[4,5,6]]\n",
    "b=np.array([[1],[1],[1]])\n",
    "print(np.dot(a,b))"
   ]
  },
  {
   "cell_type": "markdown",
   "metadata": {},
   "source": [
    "### 数组合并"
   ]
  },
  {
   "cell_type": "code",
   "execution_count": 54,
   "metadata": {
    "ExecuteTime": {
     "end_time": "2019-06-23T02:32:14.029872Z",
     "start_time": "2019-06-23T02:32:14.026413Z"
    }
   },
   "outputs": [
    {
     "name": "stdout",
     "output_type": "stream",
     "text": [
      "[1 2 3 1 2 3 4]\n"
     ]
    }
   ],
   "source": [
    "# numpy数组合并：np.concatenate()\n",
    "# 按轴合并数组，默认轴为0\n",
    "a1=np.array([1,2,3])\n",
    "a2=np.array([1,2,3,4])\n",
    "a3=np.concatenate([a1,a2])\n",
    "print(a3)"
   ]
  },
  {
   "cell_type": "code",
   "execution_count": 66,
   "metadata": {
    "ExecuteTime": {
     "end_time": "2019-06-23T02:59:37.713670Z",
     "start_time": "2019-06-23T02:59:37.708053Z"
    }
   },
   "outputs": [
    {
     "name": "stdout",
     "output_type": "stream",
     "text": [
      "[1. 1. 1. 1.]\n",
      "[array([1., 1., 1., 1.])]\n",
      "[array([1., 1., 1., 1.]), array([2., 2., 2., 2.])]\n",
      "[[1. 1. 1. 1.]\n",
      " [2. 2. 2. 2.]]\n"
     ]
    }
   ],
   "source": [
    "# numpy数组合并 np.append() \n",
    "# append只在最后追加，不改变原来的类型和追加的类型\n",
    "# 且不改变维度，原来是几维添加后仍是几维\n",
    "\n",
    "obs=[]\n",
    "ob1=np.ones(shape=[4])\n",
    "ob2=2*np.ones(shape=[4])\n",
    "print(ob1)\n",
    "obs.append(ob1)\n",
    "print(obs)\n",
    "obs.append(ob2)\n",
    "# obs原来是list，append后obs任是list，ob1，ob2任是array\n",
    "print(obs)\n",
    "# list转array\n",
    "obs=np.array(obs)\n",
    "print(obs) "
   ]
  },
  {
   "cell_type": "markdown",
   "metadata": {},
   "source": [
    "## 带损失因子的数组累加"
   ]
  },
  {
   "cell_type": "code",
   "execution_count": 13,
   "metadata": {
    "ExecuteTime": {
     "end_time": "2019-06-25T07:03:20.053488Z",
     "start_time": "2019-06-25T07:03:20.042641Z"
    }
   },
   "outputs": [
    {
     "name": "stdout",
     "output_type": "stream",
     "text": [
      "[3.25, 4.5, 5.0, 4]\n"
     ]
    }
   ],
   "source": [
    "from itertools import accumulate\n",
    "import numpy as np\n",
    "\n",
    "\n",
    "# 向后累加\n",
    "#     \"\"\"\"\n",
    "#     input: \n",
    "#         vector x, \n",
    "#         [x0, \n",
    "#          x1, \n",
    "#          x2]\n",
    "\n",
    "#     output:\n",
    "#         [x0 + discount * x1 + discount^2 * x2,  \n",
    "#          x1 + discount * x2,\n",
    "#          x2]\n",
    "#     \"\"\"\n",
    "\n",
    "discount_rate = 0.5 \n",
    "rewards = [1,2,3,4]\n",
    "# accumulate返回一个对象，需转化为list\n",
    "acc = list(accumulate(rewards[::-1], lambda x,y: x*discount_rate + y))[::-1]\n",
    "print(acc)"
   ]
  },
  {
   "cell_type": "code",
   "execution_count": 25,
   "metadata": {
    "ExecuteTime": {
     "end_time": "2019-06-25T07:28:05.173182Z",
     "start_time": "2019-06-25T07:28:05.167820Z"
    }
   },
   "outputs": [
    {
     "name": "stdout",
     "output_type": "stream",
     "text": [
      "[[2.75, 3.5, 3], [6.5, 5]]\n",
      "[[2.75, 3.5, 3], [6.5, 5]]\n"
     ]
    }
   ],
   "source": [
    "# 不调用库函数的方法\n",
    "\n",
    "re_n=[[1,2,3],[4,5]]\n",
    "gamma=0.5\n",
    "q_n=[list(accumulate(re[::-1], lambda x,y:x*gamma+y))[::-1] for re in re_n]\n",
    "print(q_n)\n",
    "\n",
    "def reward_to_go(re):\n",
    "    n=len(re)\n",
    "    for i in reversed(range(n-1)):\n",
    "        re[i]+=gamma*re[i+1]\n",
    "    return re\n",
    "        \n",
    "q_n=[reward_to_go(re) for re in re_n]\n",
    "print(q_n)"
   ]
  },
  {
   "cell_type": "code",
   "execution_count": 45,
   "metadata": {
    "ExecuteTime": {
     "end_time": "2019-06-23T02:23:32.892349Z",
     "start_time": "2019-06-23T02:23:32.888666Z"
    }
   },
   "outputs": [
    {
     "name": "stdout",
     "output_type": "stream",
     "text": [
      "[1, 2.5, 4.25, 6.125]\n"
     ]
    }
   ],
   "source": [
    "# 向前累加\n",
    "#     \"\"\"\"\n",
    "#     input: \n",
    "#         vector x, \n",
    "#         [x0, \n",
    "#          x1, \n",
    "#          x2]\n",
    "\n",
    "#     output:\n",
    "#         [x0,  \n",
    "#          x0*discount +  x1,\n",
    "#          x0*discount^2 + x1 *discount + x2]\n",
    "#     \"\"\"\n",
    "\n",
    "acc=list(accumulate(rewards,lambda x,y:x*discount_rate+y))\n",
    "print(acc)"
   ]
  },
  {
   "cell_type": "markdown",
   "metadata": {},
   "source": [
    "## plot"
   ]
  },
  {
   "cell_type": "code",
   "execution_count": 39,
   "metadata": {
    "ExecuteTime": {
     "end_time": "2019-06-25T08:30:27.706940Z",
     "start_time": "2019-06-25T08:30:27.518409Z"
    }
   },
   "outputs": [
    {
     "data": {
      "image/png": "[encoded data removed]",
      "text/plain": [
       "<Figure size 432x288 with 1 Axes>"
      ]
     },
     "metadata": {
      "needs_background": "light"
     },
     "output_type": "display_data"
    },
    {
     "data": {
      "image/png": "[encoded data removed]",
      "text/plain": [
       "<Figure size 432x288 with 1 Axes>"
      ]
     },
     "metadata": {
      "needs_background": "light"
     },
     "output_type": "display_data"
    }
   ],
   "source": [
    "import matplotlib.pyplot as plt\n",
    "x1=[1,2,3,4]\n",
    "x2=[5,6,7,8]\n",
    "fig=plt.figure()\n",
    "plt.plot(x1)\n",
    "plt.xlabel('x')\n",
    "plt.title('fig1')\n",
    "fig2=plt.figure()\n",
    "plt.plot(x2)\n",
    "plt.xlabel('x')\n",
    "plt.title('fig2')\n",
    "plt.show()"
   ]
  },
  {
   "cell_type": "markdown",
   "metadata": {},
   "source": [
    "# main模块"
   ]
  },
  {
   "cell_type": "markdown",
   "metadata": {},
   "source": [
    "Python不同于C/C++，程序执行并不需要主程序，如main()，文件是自上而下的执行。但很多Python程序中都有：\n",
    "\n",
    "- if __name__ == '__main__':  \n",
    "    - main()\n",
    "    \n",
    "这段代码的主要作用主要是让该python文件既可以独立运行，也可以当做模块导入到其他文件。\n",
    "\n",
    "当作为独立文件运行时，此时__name__的名字是\"__main__\"，运行main()函数\n",
    "\n",
    "当导入到其他的脚本文件的时候，此时__name__的名字是导入模块的名字，不是“__main__“, main()不执行"
   ]
  },
  {
   "cell_type": "code",
   "execution_count": null,
   "metadata": {},
   "outputs": [],
   "source": []
  }
 ],
 "metadata": {
  "kernelspec": {
   "display_name": "Python [default]",
   "language": "python",
   "name": "python3"
  },
  "language_info": {
   "codemirror_mode": {
    "name": "ipython",
    "version": 3
   },
   "file_extension": ".py",
   "mimetype": "text/x-python",
   "name": "python",
   "nbconvert_exporter": "python",
   "pygments_lexer": "ipython3",
   "version": "3.6.5"
  },
  "toc": {
   "base_numbering": 1,
   "nav_menu": {
    "height": "68px",
    "width": "244px"
   },
   "number_sections": true,
   "sideBar": true,
   "skip_h1_title": false,
   "title_cell": "Table of Contents",
   "title_sidebar": "Contents",
   "toc_cell": true,
   "toc_position": {},
   "toc_section_display": true,
   "toc_window_display": true
  }
 },
 "nbformat": 4,
 "nbformat_minor": 2
}
