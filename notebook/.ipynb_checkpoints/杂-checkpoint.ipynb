{
 "cells": [
  {
   "cell_type": "markdown",
   "metadata": {
    "toc": true
   },
   "source": [
    "<h1>Table of Contents<span class=\"tocSkip\"></span></h1>\n",
    "<div class=\"toc\"><ul class=\"toc-item\"><li><span><a href=\"#windows\" data-toc-modified-id=\"windows-1\"><span class=\"toc-item-num\">1&nbsp;&nbsp;</span>windows</a></span></li><li><span><a href=\"#TCP\" data-toc-modified-id=\"TCP-2\"><span class=\"toc-item-num\">2&nbsp;&nbsp;</span>TCP</a></span></li><li><span><a href=\"#OS\" data-toc-modified-id=\"OS-3\"><span class=\"toc-item-num\">3&nbsp;&nbsp;</span>OS</a></span></li></ul></div>"
   ]
  },
  {
   "cell_type": "markdown",
   "metadata": {},
   "source": [
    "# windows"
   ]
  },
  {
   "cell_type": "markdown",
   "metadata": {
    "ExecuteTime": {
     "end_time": "2019-06-23T07:42:28.823122Z",
     "start_time": "2019-06-23T07:42:28.818049Z"
    }
   },
   "source": [
    "修改命令行默认路径：右键->属性->快捷方式 将起始位置改为需要更改的路径"
   ]
  },
  {
   "cell_type": "markdown",
   "metadata": {},
   "source": [
    "# TCP"
   ]
  },
  {
   "cell_type": "markdown",
   "metadata": {},
   "source": [
    "ip：主机分配给电脑的地址\n",
    "\n",
    "网关：主机的地址\n",
    "\n",
    "分配方式：\n",
    "\n",
    "静态：需要手动设定ip等信息\n",
    "\n",
    "动态(DHCP): 主机自动分配ip给电脑"
   ]
  },
  {
   "cell_type": "markdown",
   "metadata": {},
   "source": [
    "# OS"
   ]
  },
  {
   "cell_type": "markdown",
   "metadata": {},
   "source": [
    "course：操作系统与系统编程 cs162 Berkeley\n",
    "\n",
    "book：operating system concepts 9th edition"
   ]
  },
  {
   "cell_type": "code",
   "execution_count": null,
   "metadata": {},
   "outputs": [],
   "source": []
  }
 ],
 "metadata": {
  "kernelspec": {
   "display_name": "Python [default]",
   "language": "python",
   "name": "python3"
  },
  "language_info": {
   "codemirror_mode": {
    "name": "ipython",
    "version": 3
   },
   "file_extension": ".py",
   "mimetype": "text/x-python",
   "name": "python",
   "nbconvert_exporter": "python",
   "pygments_lexer": "ipython3",
   "version": "3.6.5"
  },
  "toc": {
   "base_numbering": 1,
   "nav_menu": {},
   "number_sections": true,
   "sideBar": true,
   "skip_h1_title": false,
   "title_cell": "Table of Contents",
   "title_sidebar": "Contents",
   "toc_cell": true,
   "toc_position": {},
   "toc_section_display": true,
   "toc_window_display": true
  }
 },
 "nbformat": 4,
 "nbformat_minor": 2
}
