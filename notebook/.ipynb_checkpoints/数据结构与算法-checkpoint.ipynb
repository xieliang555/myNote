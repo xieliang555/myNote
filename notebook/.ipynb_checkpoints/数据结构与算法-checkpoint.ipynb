{
 "cells": [
  {
   "cell_type": "markdown",
   "metadata": {},
   "source": [
    "# 二叉树"
   ]
  },
  {
   "cell_type": "markdown",
   "metadata": {},
   "source": [
    "## 二叉树重建"
   ]
  },
  {
   "cell_type": "markdown",
   "metadata": {},
   "source": [
    "{1,2,3,4,5,6,7,null,8}:\n",
    "\n",
    "    - 先序遍历：1，2，4，8，5，3，6，7\n",
    "    - 中序遍历：4，8，2，5，1，6，3，7\n",
    "    - 后续遍历：8，4，5，2，6，7，3，1\n",
    "    \n",
    "    - 先序+中序重建：(对于每一棵子树：从先序找根，然后中序找左右子树)\n",
    "        - 根：1, 左子树：{4,8,2,5},右子树：{6,3,7}\n",
    "        - 对于{4,8,2,5}子树：根：2，左子树：{4,8},右子树：{5}\n",
    "        - 对于{6,3,7}子树：根：3，左子树：{6},右子树：{7}\n",
    "        - 对于{4,8}子树：根：4，左子树：{null}，右子树：{8}\n",
    "        \n",
    "    - 后序+中序重建：(对于每一棵子树，从后序找根，然后中序找左右子树)\n",
    "        - 根：1，左子树：{4,8,2,5},右子树：{6,3,7}\n",
    "        - 对于{4,8,2,5}子树：根：2，左子树：{4,8},右子树：{5}\n",
    "        - 对于{6,3,7}子树：根：3，左子树：{6},右子树：{7}\n",
    "        - 对于{4,8}子树：根：4，左子树：{null}，右子树：{8}\n",
    "        "
   ]
  },
  {
   "cell_type": "code",
   "execution_count": null,
   "metadata": {},
   "outputs": [],
   "source": []
  }
 ],
 "metadata": {
  "kernelspec": {
   "display_name": "Python [default]",
   "language": "python",
   "name": "python3"
  },
  "language_info": {
   "codemirror_mode": {
    "name": "ipython",
    "version": 3
   },
   "file_extension": ".py",
   "mimetype": "text/x-python",
   "name": "python",
   "nbconvert_exporter": "python",
   "pygments_lexer": "ipython3",
   "version": "3.6.5"
  },
  "toc": {
   "base_numbering": 1,
   "nav_menu": {},
   "number_sections": true,
   "sideBar": true,
   "skip_h1_title": false,
   "title_cell": "Table of Contents",
   "title_sidebar": "Contents",
   "toc_cell": false,
   "toc_position": {},
   "toc_section_display": true,
   "toc_window_display": true
  }
 },
 "nbformat": 4,
 "nbformat_minor": 2
}
