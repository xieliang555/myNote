{
 "cells": [
  {
   "cell_type": "markdown",
   "metadata": {
    "toc": true
   },
   "source": [
    "<h1>Table of Contents<span class=\"tocSkip\"></span></h1>\n",
    "<div class=\"toc\"><ul class=\"toc-item\"><li><span><a href=\"#Data-Type\" data-toc-modified-id=\"Data-Type-1\"><span class=\"toc-item-num\">1&nbsp;&nbsp;</span>Data Type</a></span><ul class=\"toc-item\"><li><span><a href=\"#String\" data-toc-modified-id=\"String-1.1\"><span class=\"toc-item-num\">1.1&nbsp;&nbsp;</span>String</a></span></li><li><span><a href=\"#Pointer\" data-toc-modified-id=\"Pointer-1.2\"><span class=\"toc-item-num\">1.2&nbsp;&nbsp;</span>Pointer</a></span></li><li><span><a href=\"#FILE\" data-toc-modified-id=\"FILE-1.3\"><span class=\"toc-item-num\">1.3&nbsp;&nbsp;</span>FILE</a></span></li><li><span><a href=\"#Vector(cpp)\" data-toc-modified-id=\"Vector(cpp)-1.4\"><span class=\"toc-item-num\">1.4&nbsp;&nbsp;</span>Vector(cpp)</a></span></li><li><span><a href=\"#Array(c)\" data-toc-modified-id=\"Array(c)-1.5\"><span class=\"toc-item-num\">1.5&nbsp;&nbsp;</span>Array(c)</a></span></li><li><span><a href=\"#malloc()-free()\" data-toc-modified-id=\"malloc()-free()-1.6\"><span class=\"toc-item-num\">1.6&nbsp;&nbsp;</span>malloc() free()</a></span></li></ul></li><li><span><a href=\"#Others\" data-toc-modified-id=\"Others-2\"><span class=\"toc-item-num\">2&nbsp;&nbsp;</span>Others</a></span><ul class=\"toc-item\"><li><span><a href=\"#%-/\" data-toc-modified-id=\"%-/-2.1\"><span class=\"toc-item-num\">2.1&nbsp;&nbsp;</span>% /</a></span></li><li><span><a href=\"#初始化\" data-toc-modified-id=\"初始化-2.2\"><span class=\"toc-item-num\">2.2&nbsp;&nbsp;</span>初始化</a></span></li><li><span><a href=\"#数组名/对象名\" data-toc-modified-id=\"数组名/对象名-2.3\"><span class=\"toc-item-num\">2.3&nbsp;&nbsp;</span>数组名/对象名</a></span></li></ul></li></ul></div>"
   ]
  },
  {
   "cell_type": "markdown",
   "metadata": {},
   "source": [
    "# Data Type"
   ]
  },
  {
   "cell_type": "markdown",
   "metadata": {},
   "source": [
    "## String"
   ]
  },
  {
   "cell_type": "markdown",
   "metadata": {},
   "source": [
    "c语言中用字符数组和字符指针表示数组：  \n",
    "\n",
    "char* chp=\"hello\";  \n",
    "直接在常量区中的字符串“hello”的地址赋给指针chp   \n",
    "对字符指针赋值前需要先初始化，即分配大小，否则会出现段错误，如：    \n",
    "char* p;  \n",
    "char* pp=p;//段错误，p未初始化  \n",
    "char* p=malloc(5);  \n",
    "char* pp=p;//正确\n",
    "\n",
    "char charr=\"another hello\";  \n",
    "将常量区中的字符串“another hello”按4字节单位一个个拷贝到栈内存中  \n",
    "然后指针charr指向这片内存  \n",
    "\n",
    "综上，字符指针只能访问不能改写,否则会出现段错误，而字符数组可以改写。"
   ]
  },
  {
   "cell_type": "markdown",
   "metadata": {},
   "source": [
    "字符串的初始化：\n",
    "\n",
    "char a[3]=\"123\"  \n",
    "结果：  \n",
    "strlen(a)=53 //值不确定，strlen()检测字符串末尾的'/0',如果没有检测到则继续往后检测  \n",
    "sizeof(a)=3\n",
    "\n",
    "char a[5]=\"123\"  \n",
    "结果：  \n",
    "strlen(a)=3 //系统自动在末尾添加'/0'   \n",
    "sizeof(a)=5\n",
    "\n",
    "char a[]=\"123\"  \n",
    "结果：  \n",
    "strlen(a)=3  //系统自动在末尾加上'/0'  \n",
    "sizeof(a)=4\n",
    "\n",
    "char* a=\"123\"  \n",
    "结果:  \n",
    "strlen(a)=3  //系统自动在末尾加'/0'  \n",
    "sizeof(a)=4  //指针变量为4个字节\n",
    "\n",
    "char a[10]=\"123\"  \n",
    "char* b=a;  \n",
    "结果：   \n",
    "strlen(a)=3  \n",
    "strlen(b)=3\n",
    " \n",
    "字符串的赋值：\n",
    "\n",
    "char a[];  \n",
    "a=\"hello\";\n",
    "编译错误，c语言没有提供字符数组的赋值，只能一个一个元素赋值或在初始化赋值  \n",
    "或使用字符串处理函数strcat() strcpy()\n",
    "\n",
    "char* a;  \n",
    "a=\"hello\";  \n",
    "编译成功，可以直接对字符指针赋值"
   ]
  },
  {
   "cell_type": "markdown",
   "metadata": {},
   "source": [
    "## Pointer"
   ]
  },
  {
   "cell_type": "raw",
   "metadata": {},
   "source": [
    "二重指针：\n",
    "\n",
    "\n",
    "void func(char** pp){  \n",
    "    pp=malloc(5);  \n",
    "}\n",
    "\n",
    "main(){  \n",
    "    char* p=malloc(10);    \n",
    "    func(&p);  \n",
    "}  \n",
    "\n",
    "此时在函数func中改变指针p的指向，真正实现传递引用\n",
    "\n",
    "二重指针  \n",
    "char** pp;  \n",
    "*pp[n]和(**pp)[n]是不一样的"
   ]
  },
  {
   "cell_type": "raw",
   "metadata": {},
   "source": [
    "二重指针和二维数组的区别（从内存的角度）：  \n",
    "int** a; a是指向int*类型的指针   \n",
    "int b[n][m]; b是指向二维数组所在的连续内存空间中的第一个数组的首地址,故当b作为参数传入函数时，  \n",
    "其类型是指向数组的常指针int(*)[m]  \n",
    "故当传入的参数是int b[n][m]时，函数不能用int** b作为形参，会出现类型不匹配（指针和数组不同，  \n",
    "数组长度固定，指针仅仅指向第一个元素，长度不确定）；但是如果用int** b来表示二维数组（给定长和宽），  \n",
    "可以通过b[i][j]来访问二重数组的元素。\n",
    "\n",
    "用二重指针定义二维数组，必须先对数组初始化（分配内存），否则无法通过下标（b[i][j]）的方式访问数组。"
   ]
  },
  {
   "cell_type": "markdown",
   "metadata": {},
   "source": [
    "## FILE"
   ]
  },
  {
   "cell_type": "markdown",
   "metadata": {},
   "source": [
    "FILE*类型  stdin 标准输入   stderr标准错误输出"
   ]
  },
  {
   "cell_type": "markdown",
   "metadata": {},
   "source": [
    "## Vector(cpp)"
   ]
  },
  {
   "cell_type": "raw",
   "metadata": {},
   "source": [
    "定义数组：\n",
    "\n",
    "一维n元素数组对象：  \n",
    "vector<int> array(n);\n",
    "\n",
    "二维n*m元素数组对象：  \n",
    "vecttor<vector<int>> array(n);  \n",
    "for(int i=0;i<n;i++)   \n",
    "    array[i].resize(m)；\n",
    "    \n",
    "获取vector数组对象的维度：  \n",
    "行：array.size();  \n",
    "列：array[0].size();"
   ]
  },
  {
   "cell_type": "markdown",
   "metadata": {},
   "source": [
    "## Array(c)"
   ]
  },
  {
   "cell_type": "raw",
   "metadata": {},
   "source": [
    "定义数组：  \n",
    "int a[m][n];"
   ]
  },
  {
   "cell_type": "markdown",
   "metadata": {},
   "source": [
    "## malloc() free()"
   ]
  },
  {
   "cell_type": "code",
   "execution_count": null,
   "metadata": {
    "collapsed": true
   },
   "outputs": [],
   "source": [
    "char* p=malloc(n)\n",
    "\n",
    "不要随便改变p的指向，否则无法通过free(p)释放内存\n",
    "\n",
    "free(p)后只是切断了p和内存的联系，p指针本身保存的地址没有变，但是无法再控制该地址指向的内存。一般free(p)后应将p赋为NULL\n",
    "\n",
    "定义指针数组时，若未初始化，则所有指针均指向NULL,如char* array[10],则10个指针均指向NULL"
   ]
  },
  {
   "cell_type": "markdown",
   "metadata": {},
   "source": [
    "# Others"
   ]
  },
  {
   "cell_type": "markdown",
   "metadata": {},
   "source": [
    "## % /"
   ]
  },
  {
   "cell_type": "markdown",
   "metadata": {},
   "source": [
    "余数的符号是和被除数的符号相同。即：  \n",
    "(-10)%3=-1;  \n",
    "10%(-3)=1;  \n",
    "(-10)%(-3)=-1;  \n",
    "做除法的时候，商是令其与分子相乘的积的绝对值不超过分母的绝对值且最接近的那个数，所以  \n",
    "(-10)/3=-3;  \n",
    "10/(-3)=-3;  \n",
    "(-10)/(-3)=3;"
   ]
  },
  {
   "cell_type": "markdown",
   "metadata": {
    "collapsed": true
   },
   "source": [
    "## 初始化"
   ]
  },
  {
   "cell_type": "markdown",
   "metadata": {},
   "source": [
    "c语言的变量未初始化默认为0，c++中会出现不可预知的错误 JAVA编译不通过"
   ]
  },
  {
   "cell_type": "markdown",
   "metadata": {},
   "source": [
    "int i=0;  \n",
    "for(i++;i<5;i++)  \n",
    "    printf(\"%d\\n\",i);  \n",
    "printf(\"%d\\n\",i);  \n",
    "输出：  \n",
    "1  \n",
    "2  \n",
    "3  \n",
    "4  \n",
    "5  \n",
    "在该循环内第一个i++只执行一次，for循环内表达式执行顺序：先执行表达式1 i++,然后判断表达式2 i<5 ，若成立执行循环体，最后执行表达书3 i++,完成一次循环。第二次循环从表达式2开始执行。"
   ]
  },
  {
   "cell_type": "markdown",
   "metadata": {},
   "source": [
    "## 数组名/对象名"
   ]
  },
  {
   "cell_type": "code",
   "execution_count": null,
   "metadata": {},
   "outputs": [],
   "source": [
    "数组名是指向第一个元素内存的地址常量，可以理解为常指针；数组名作为函数参数传入是传入内存地址。    \n",
    "对象名为一块内存的别名，(该内存大小由虚函数表的变量决定)，就像int i=4; i为4字节内存的别名，该内存存着值4。  \n",
    "当对象名作为函数参数，调用拷贝构造函数，拷贝一个对象(代表的内存)，当对象的引用作为函数参数，传入该对象的地址  \n",
    "返回同理，当对象名作为返回值，若函数的返回类型为该对象类型，则调用拷贝构造函数，拷贝该对象(代表的内存)，如果  \n",
    "函数的返回类型为该对象的引用类型，则返回该对象的地址。"
   ]
  },
  {
   "cell_type": "code",
   "execution_count": null,
   "metadata": {},
   "outputs": [],
   "source": []
  }
 ],
 "metadata": {
  "kernelspec": {
   "display_name": "Python 3",
   "language": "python",
   "name": "python3"
  },
  "language_info": {
   "codemirror_mode": {
    "name": "ipython",
    "version": 3
   },
   "file_extension": ".py",
   "mimetype": "text/x-python",
   "name": "python",
   "nbconvert_exporter": "python",
   "pygments_lexer": "ipython3",
   "version": "3.6.3"
  },
  "toc": {
   "base_numbering": 1,
   "nav_menu": {},
   "number_sections": true,
   "sideBar": true,
   "skip_h1_title": false,
   "title_cell": "Table of Contents",
   "title_sidebar": "Contents",
   "toc_cell": true,
   "toc_position": {
    "height": "calc(100% - 180px)",
    "left": "10px",
    "top": "150px",
    "width": "273px"
   },
   "toc_section_display": true,
   "toc_window_display": true
  }
 },
 "nbformat": 4,
 "nbformat_minor": 2
}
